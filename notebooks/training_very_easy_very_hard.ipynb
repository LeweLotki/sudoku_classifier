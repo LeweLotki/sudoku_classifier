{
 "cells": [
  {
   "cell_type": "markdown",
   "id": "d310dda5-cace-462c-8772-6ee3f2337b1f",
   "metadata": {},
   "source": [
    "This notebook classify between very easy class and very hard class based on the puzzle description and comments."
   ]
  },
  {
   "cell_type": "markdown",
   "id": "116190a9-685b-4bf7-812f-b141e0f538a3",
   "metadata": {},
   "source": [
    "## SVM"
   ]
  },
  {
   "cell_type": "code",
   "execution_count": 18,
   "id": "6f845123-8363-42db-beb3-8a609a825d3a",
   "metadata": {},
   "outputs": [
    {
     "data": {
      "text/html": [
       "<div>\n",
       "<style scoped>\n",
       "    .dataframe tbody tr th:only-of-type {\n",
       "        vertical-align: middle;\n",
       "    }\n",
       "\n",
       "    .dataframe tbody tr th {\n",
       "        vertical-align: top;\n",
       "    }\n",
       "\n",
       "    .dataframe thead th {\n",
       "        text-align: right;\n",
       "    }\n",
       "</style>\n",
       "<table border=\"1\" class=\"dataframe\">\n",
       "  <thead>\n",
       "    <tr style=\"text-align: right;\">\n",
       "      <th></th>\n",
       "      <th>features</th>\n",
       "      <th>target</th>\n",
       "      <th>comments</th>\n",
       "      <th>has_tapa</th>\n",
       "      <th>has_nurimisaki</th>\n",
       "      <th>has_kompass</th>\n",
       "      <th>has_palindrome_(variante)</th>\n",
       "      <th>has_anti-queen_(variante)</th>\n",
       "      <th>has_10-in-9_(variante)</th>\n",
       "      <th>has_modifier_cells_(variante)</th>\n",
       "      <th>...</th>\n",
       "      <th>has_tomtom</th>\n",
       "      <th>has_statue_park</th>\n",
       "      <th>has_extra_regions_(variante)</th>\n",
       "      <th>has_logical</th>\n",
       "      <th>has_norinori</th>\n",
       "      <th>has_anti-knight_(variante)</th>\n",
       "      <th>has_daisho</th>\n",
       "      <th>has_earthquake_(variante)</th>\n",
       "      <th>has_diagonal_(variante)</th>\n",
       "      <th>has_cross_the_streams</th>\n",
       "    </tr>\n",
       "  </thead>\n",
       "  <tbody>\n",
       "    <tr>\n",
       "      <th>0</th>\n",
       "      <td>plato feeling unwell hypochondriac thermometer...</td>\n",
       "      <td>3</td>\n",
       "      <td>added comment work solution code</td>\n",
       "      <td>0</td>\n",
       "      <td>0</td>\n",
       "      <td>0</td>\n",
       "      <td>0</td>\n",
       "      <td>0</td>\n",
       "      <td>0</td>\n",
       "      <td>0</td>\n",
       "      <td>...</td>\n",
       "      <td>0</td>\n",
       "      <td>0</td>\n",
       "      <td>0</td>\n",
       "      <td>0</td>\n",
       "      <td>0</td>\n",
       "      <td>0</td>\n",
       "      <td>0</td>\n",
       "      <td>0</td>\n",
       "      <td>0</td>\n",
       "      <td>0</td>\n",
       "    </tr>\n",
       "    <tr>\n",
       "      <th>1</th>\n",
       "      <td>friend roman countryman lend ear come bury cae...</td>\n",
       "      <td>4</td>\n",
       "      <td>added roman numeral tag</td>\n",
       "      <td>0</td>\n",
       "      <td>0</td>\n",
       "      <td>0</td>\n",
       "      <td>0</td>\n",
       "      <td>0</td>\n",
       "      <td>0</td>\n",
       "      <td>0</td>\n",
       "      <td>...</td>\n",
       "      <td>0</td>\n",
       "      <td>0</td>\n",
       "      <td>0</td>\n",
       "      <td>0</td>\n",
       "      <td>0</td>\n",
       "      <td>0</td>\n",
       "      <td>0</td>\n",
       "      <td>0</td>\n",
       "      <td>0</td>\n",
       "      <td>0</td>\n",
       "    </tr>\n",
       "    <tr>\n",
       "      <th>2</th>\n",
       "      <td>standard yinyang rule apply</td>\n",
       "      <td>2</td>\n",
       "      <td>tougher expected star difficult puzzle maybe f...</td>\n",
       "      <td>0</td>\n",
       "      <td>0</td>\n",
       "      <td>0</td>\n",
       "      <td>0</td>\n",
       "      <td>0</td>\n",
       "      <td>0</td>\n",
       "      <td>0</td>\n",
       "      <td>...</td>\n",
       "      <td>0</td>\n",
       "      <td>0</td>\n",
       "      <td>0</td>\n",
       "      <td>0</td>\n",
       "      <td>0</td>\n",
       "      <td>0</td>\n",
       "      <td>0</td>\n",
       "      <td>0</td>\n",
       "      <td>0</td>\n",
       "      <td>0</td>\n",
       "    </tr>\n",
       "    <tr>\n",
       "      <th>3</th>\n",
       "      <td>penpastandard sudoku rule apply final numerica...</td>\n",
       "      <td>3</td>\n",
       "      <td>fun puzzle requiring tremendously wonderful va...</td>\n",
       "      <td>0</td>\n",
       "      <td>0</td>\n",
       "      <td>0</td>\n",
       "      <td>0</td>\n",
       "      <td>0</td>\n",
       "      <td>0</td>\n",
       "      <td>0</td>\n",
       "      <td>...</td>\n",
       "      <td>0</td>\n",
       "      <td>0</td>\n",
       "      <td>0</td>\n",
       "      <td>0</td>\n",
       "      <td>0</td>\n",
       "      <td>0</td>\n",
       "      <td>0</td>\n",
       "      <td>0</td>\n",
       "      <td>1</td>\n",
       "      <td>0</td>\n",
       "    </tr>\n",
       "    <tr>\n",
       "      <th>4</th>\n",
       "      <td>ring killerlittle killer sudoku wessel strijks...</td>\n",
       "      <td>3</td>\n",
       "      <td>smistry thanks glad liked thanks setting nice ...</td>\n",
       "      <td>0</td>\n",
       "      <td>0</td>\n",
       "      <td>0</td>\n",
       "      <td>0</td>\n",
       "      <td>0</td>\n",
       "      <td>0</td>\n",
       "      <td>0</td>\n",
       "      <td>...</td>\n",
       "      <td>0</td>\n",
       "      <td>0</td>\n",
       "      <td>0</td>\n",
       "      <td>0</td>\n",
       "      <td>0</td>\n",
       "      <td>0</td>\n",
       "      <td>0</td>\n",
       "      <td>0</td>\n",
       "      <td>0</td>\n",
       "      <td>0</td>\n",
       "    </tr>\n",
       "  </tbody>\n",
       "</table>\n",
       "<p>5 rows × 173 columns</p>\n",
       "</div>"
      ],
      "text/plain": [
       "                                            features  target  \\\n",
       "0  plato feeling unwell hypochondriac thermometer...       3   \n",
       "1  friend roman countryman lend ear come bury cae...       4   \n",
       "2                        standard yinyang rule apply       2   \n",
       "3  penpastandard sudoku rule apply final numerica...       3   \n",
       "4  ring killerlittle killer sudoku wessel strijks...       3   \n",
       "\n",
       "                                            comments  has_tapa  \\\n",
       "0                   added comment work solution code         0   \n",
       "1                            added roman numeral tag         0   \n",
       "2  tougher expected star difficult puzzle maybe f...         0   \n",
       "3  fun puzzle requiring tremendously wonderful va...         0   \n",
       "4  smistry thanks glad liked thanks setting nice ...         0   \n",
       "\n",
       "   has_nurimisaki  has_kompass  has_palindrome_(variante)  \\\n",
       "0               0            0                          0   \n",
       "1               0            0                          0   \n",
       "2               0            0                          0   \n",
       "3               0            0                          0   \n",
       "4               0            0                          0   \n",
       "\n",
       "   has_anti-queen_(variante)  has_10-in-9_(variante)  \\\n",
       "0                          0                       0   \n",
       "1                          0                       0   \n",
       "2                          0                       0   \n",
       "3                          0                       0   \n",
       "4                          0                       0   \n",
       "\n",
       "   has_modifier_cells_(variante)  ...  has_tomtom  has_statue_park  \\\n",
       "0                              0  ...           0                0   \n",
       "1                              0  ...           0                0   \n",
       "2                              0  ...           0                0   \n",
       "3                              0  ...           0                0   \n",
       "4                              0  ...           0                0   \n",
       "\n",
       "   has_extra_regions_(variante)  has_logical  has_norinori  \\\n",
       "0                             0            0             0   \n",
       "1                             0            0             0   \n",
       "2                             0            0             0   \n",
       "3                             0            0             0   \n",
       "4                             0            0             0   \n",
       "\n",
       "   has_anti-knight_(variante)  has_daisho  has_earthquake_(variante)  \\\n",
       "0                           0           0                          0   \n",
       "1                           0           0                          0   \n",
       "2                           0           0                          0   \n",
       "3                           0           0                          0   \n",
       "4                           0           0                          0   \n",
       "\n",
       "   has_diagonal_(variante)  has_cross_the_streams  \n",
       "0                        0                      0  \n",
       "1                        0                      0  \n",
       "2                        0                      0  \n",
       "3                        1                      0  \n",
       "4                        0                      0  \n",
       "\n",
       "[5 rows x 173 columns]"
      ]
     },
     "execution_count": 18,
     "metadata": {},
     "output_type": "execute_result"
    }
   ],
   "source": [
    "import pandas as pd\n",
    "from sklearn.model_selection import train_test_split\n",
    "from sklearn.feature_extraction.text import TfidfVectorizer\n",
    "from sklearn.preprocessing import LabelEncoder\n",
    "from sklearn.svm import SVC\n",
    "from sklearn.metrics import classification_report, confusion_matrix\n",
    "import matplotlib.pyplot as plt\n",
    "import seaborn as sns\n",
    "\n",
    "df = pd.read_csv(\"../data/data.csv\")\n",
    "\n",
    "df.head()"
   ]
  },
  {
   "cell_type": "code",
   "execution_count": 19,
   "id": "1d2c67d8-c6b6-4667-a6c1-7a0108d97bf0",
   "metadata": {},
   "outputs": [],
   "source": [
    "def prepare_df(df):\n",
    "\n",
    "    df = df[(df['target'] != 2) & (df['target'] != 3) & (df['target'] != 4)]\n",
    "    df['target'] = df['target'].replace({1: 0, 5: 1})\n",
    "\n",
    "    return df"
   ]
  },
  {
   "cell_type": "code",
   "execution_count": 20,
   "id": "187bebac-140d-4f7e-a8f2-cbd437729879",
   "metadata": {},
   "outputs": [
    {
     "name": "stderr",
     "output_type": "stream",
     "text": [
      "/tmp/ipykernel_14092/3593797695.py:4: SettingWithCopyWarning: \n",
      "A value is trying to be set on a copy of a slice from a DataFrame.\n",
      "Try using .loc[row_indexer,col_indexer] = value instead\n",
      "\n",
      "See the caveats in the documentation: https://pandas.pydata.org/pandas-docs/stable/user_guide/indexing.html#returning-a-view-versus-a-copy\n",
      "  df['target'] = df['target'].replace({1: 0, 5: 1})\n"
     ]
    }
   ],
   "source": [
    "import scipy\n",
    "\n",
    "df = prepare_df(df)\n",
    "\n",
    "X = df['features']\n",
    "y = df['target'] \n",
    "\n",
    "label_encoder = LabelEncoder()\n",
    "y_encoded = label_encoder.fit_transform(y)\n",
    "\n",
    "ngram_features = TfidfVectorizer(max_features=5000, ngram_range=(1, 3))\n",
    "ngram_comments = TfidfVectorizer(max_features=5000, ngram_range=(1, 3))\n",
    "\n",
    "X_ngram_features = ngram_features.fit_transform(df['features'])\n",
    "X_ngram_comments = ngram_comments.fit_transform(df['comments'].fillna(''))\n",
    "\n",
    "X_combined = scipy.sparse.hstack([X_ngram_features, X_ngram_comments])"
   ]
  },
  {
   "cell_type": "code",
   "execution_count": 21,
   "id": "4ad44797-5895-454b-b120-523a51bfef82",
   "metadata": {},
   "outputs": [],
   "source": [
    "X_train, X_test, y_train, y_test = train_test_split(X_combined, y_encoded, test_size=0.2, random_state=42, stratify=y_encoded)"
   ]
  },
  {
   "cell_type": "code",
   "execution_count": 22,
   "id": "451bcc39-6701-42ec-9dea-04c82e6a5e19",
   "metadata": {},
   "outputs": [
    {
     "name": "stdout",
     "output_type": "stream",
     "text": [
      "Class Weights: {0: 0.8495934959349594, 1: 1.2151162790697674}\n"
     ]
    }
   ],
   "source": [
    "from sklearn.utils.class_weight import compute_class_weight\n",
    "import numpy as np\n",
    "\n",
    "class_weights = compute_class_weight(class_weight='balanced', classes=np.unique(y_train), y=y_train)\n",
    "class_weights_dict = {i: class_weights[i] for i in range(len(class_weights))}\n",
    "\n",
    "print(f\"Class Weights: {class_weights_dict}\")"
   ]
  },
  {
   "cell_type": "code",
   "execution_count": 23,
   "id": "18d1ce9f-4280-44ef-8274-668aae9e3c66",
   "metadata": {},
   "outputs": [],
   "source": [
    "svm_classifier = SVC(kernel='rbf', class_weight=class_weights_dict, C=1.0, random_state=42)\n",
    "\n",
    "svm_classifier.fit(X_train, y_train)\n",
    "\n",
    "y_pred = svm_classifier.predict(X_test)"
   ]
  },
  {
   "cell_type": "code",
   "execution_count": 24,
   "id": "dfabd2fa-0527-40c8-a928-280e9eff5654",
   "metadata": {},
   "outputs": [
    {
     "name": "stdout",
     "output_type": "stream",
     "text": [
      "Classification Report:\n",
      "               precision    recall  f1-score   support\n",
      "\n",
      "        Easy       0.91      0.90      0.90       246\n",
      "        Hard       0.86      0.87      0.87       173\n",
      "\n",
      "    accuracy                           0.89       419\n",
      "   macro avg       0.88      0.89      0.88       419\n",
      "weighted avg       0.89      0.89      0.89       419\n",
      "\n"
     ]
    },
    {
     "data": {
      "image/png": "[encoded data removed]",
      "text/plain": [
       "<Figure size 800x600 with 2 Axes>"
      ]
     },
     "metadata": {},
     "output_type": "display_data"
    }
   ],
   "source": [
    "print(\"Classification Report:\\n\", classification_report(y_test, y_pred, target_names=['Easy', 'Hard']))\n",
    "\n",
    "conf_mat = confusion_matrix(y_test, y_pred)\n",
    "\n",
    "plt.figure(figsize=(8, 6))\n",
    "sns.heatmap(conf_mat, annot=True, fmt='d', cmap='Blues', xticklabels=['Easy', 'Hard'], yticklabels=['Easy', 'Hard'])\n",
    "plt.xlabel('Predicted')\n",
    "plt.ylabel('Actual')\n",
    "plt.title('Confusion Matrix for SVM with Class Weights')\n",
    "plt.show()"
   ]
  },
  {
   "cell_type": "markdown",
   "id": "7b559210-432a-4a53-b0f3-6158cdf261d7",
   "metadata": {},
   "source": [
    "## Data augmentation"
   ]
  },
  {
   "cell_type": "code",
   "execution_count": 29,
   "id": "ebdf90b9-d96c-4fef-bff7-c108430f9f5c",
   "metadata": {},
   "outputs": [],
   "source": [
    "import pandas as pd\n",
    "from sklearn.model_selection import train_test_split\n",
    "from sklearn.feature_extraction.text import TfidfVectorizer\n",
    "from sklearn.preprocessing import LabelEncoder\n",
    "from sklearn.svm import SVC\n",
    "from sklearn.metrics import classification_report, confusion_matrix\n",
    "import matplotlib.pyplot as plt\n",
    "import seaborn as sns\n",
    "import scipy\n",
    "from sklearn.utils.class_weight import compute_class_weight\n",
    "import numpy as np\n",
    "from imblearn.over_sampling import SMOTE"
   ]
  },
  {
   "cell_type": "code",
   "execution_count": 30,
   "id": "91f43c3a-a50e-40fa-9d3b-12ad6ace4c12",
   "metadata": {},
   "outputs": [
    {
     "name": "stderr",
     "output_type": "stream",
     "text": [
      "/tmp/ipykernel_14092/3938432117.py:20: SettingWithCopyWarning: \n",
      "A value is trying to be set on a copy of a slice from a DataFrame.\n",
      "Try using .loc[row_indexer,col_indexer] = value instead\n",
      "\n",
      "See the caveats in the documentation: https://pandas.pydata.org/pandas-docs/stable/user_guide/indexing.html#returning-a-view-versus-a-copy\n",
      "  df['target'] = df['target'].replace({1: 0, 5: 1})\n"
     ]
    }
   ],
   "source": [
    "df = pd.read_csv(\"../data/data.csv\")\n",
    "\n",
    "df = prepare_df(df)\n",
    "\n",
    "X = df['features']\n",
    "y = df['target']\n",
    "\n",
    "label_encoder = LabelEncoder()\n",
    "y_encoded = label_encoder.fit_transform(y)\n",
    "\n",
    "ngram_features = TfidfVectorizer(max_features=5000, ngram_range=(1, 3))\n",
    "ngram_comments = TfidfVectorizer(max_features=5000, ngram_range=(1, 3))\n",
    "\n",
    "X_ngram_features = ngram_features.fit_transform(df['features'])\n",
    "X_ngram_comments = ngram_comments.fit_transform(df['comments'].fillna(''))\n",
    "\n",
    "X_combined = scipy.sparse.hstack([X_ngram_features, X_ngram_comments])"
   ]
  },
  {
   "cell_type": "code",
   "execution_count": 31,
   "id": "ddadb321-cb97-4b0c-89c0-74586a098557",
   "metadata": {},
   "outputs": [],
   "source": [
    "X_train, X_test, y_train, y_test = train_test_split(X_combined, y_encoded, test_size=0.2, random_state=42, stratify=y_encoded)"
   ]
  },
  {
   "cell_type": "code",
   "execution_count": 34,
   "id": "a50a1244-1bae-4e80-afce-d9c16a73676d",
   "metadata": {},
   "outputs": [],
   "source": [
    "smote = SMOTE(random_state=42)\n",
    "X_train_smote, y_train_smote = smote.fit_resample(X_train, y_train)\n",
    "\n",
    "class_weights = compute_class_weight(class_weight='balanced', classes=np.unique(y_train_smote), y=y_train_smote)\n",
    "class_weights_dict = {i: class_weights[i] for i in range(len(class_weights))}\n",
    "\n",
    "print(f\"Class Weights: {class_weights_dict}\")\n",
    "\n",
    "svm_classifier = SVC(kernel='rbf', class_weight=class_weights_dict, C=1.0, random_state=42)\n",
    "svm_classifier.fit(X_train_smote, y_train_smote)\n",
    "\n",
    "y_pred = svm_classifier.predict(X_test)"
   ]
  },
  {
   "cell_type": "code",
   "execution_count": 35,
   "id": "5dbf5da7-7829-407f-9fb0-dc8b39589e83",
   "metadata": {},
   "outputs": [
    {
     "name": "stdout",
     "output_type": "stream",
     "text": [
      "Classification Report:\n",
      "               precision    recall  f1-score   support\n",
      "\n",
      "        Easy       0.77      0.98      0.86       246\n",
      "        Hard       0.96      0.57      0.72       173\n",
      "\n",
      "    accuracy                           0.81       419\n",
      "   macro avg       0.86      0.78      0.79       419\n",
      "weighted avg       0.85      0.81      0.80       419\n",
      "\n"
     ]
    },
    {
     "data": {
      "image/png": "[encoded data removed]",
      "text/plain": [
       "<Figure size 800x600 with 2 Axes>"
      ]
     },
     "metadata": {},
     "output_type": "display_data"
    }
   ],
   "source": [
    "print(\"Classification Report:\\n\", classification_report(y_test, y_pred, target_names=['Easy', 'Hard']))\n",
    "\n",
    "conf_mat = confusion_matrix(y_test, y_pred)\n",
    "plt.figure(figsize=(8, 6))\n",
    "sns.heatmap(conf_mat, annot=True, fmt='d', cmap='Blues', xticklabels=['Easy', 'Hard'], yticklabels=['Easy', 'Hard'])\n",
    "plt.xlabel('Predicted')\n",
    "plt.ylabel('Actual')\n",
    "plt.title('Confusion Matrix for SVM with Class Weights and SMOTE')\n",
    "plt.show()"
   ]
  }
 ],
 "metadata": {
  "kernelspec": {
   "display_name": "Python 3 (ipykernel)",
   "language": "python",
   "name": "python3"
  },
  "language_info": {
   "codemirror_mode": {
    "name": "ipython",
    "version": 3
   },
   "file_extension": ".py",
   "mimetype": "text/x-python",
   "name": "python",
   "nbconvert_exporter": "python",
   "pygments_lexer": "ipython3",
   "version": "3.10.12"
  }
 },
 "nbformat": 4,
 "nbformat_minor": 5
}
