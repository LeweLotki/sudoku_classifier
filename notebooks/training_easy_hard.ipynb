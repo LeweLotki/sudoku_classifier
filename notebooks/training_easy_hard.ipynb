{
 "cells": [
  {
   "cell_type": "markdown",
   "id": "abea1ade-0f71-4c67-9218-ab9494e7d14f",
   "metadata": {},
   "source": [
    "## Naive Bayes"
   ]
  },
  {
   "cell_type": "code",
   "execution_count": null,
   "id": "04a84b11-2a82-4544-abe8-13c3ac574d6a",
   "metadata": {},
   "outputs": [],
   "source": [
    "import pandas as pd\n",
    "import numpy as np\n",
    "from sklearn.feature_extraction.text import TfidfVectorizer\n",
    "from sklearn.model_selection import train_test_split\n",
    "from sklearn.naive_bayes import MultinomialNB\n",
    "from sklearn.metrics import confusion_matrix, classification_report\n",
    "import seaborn as sns\n",
    "import matplotlib.pyplot as plt\n",
    "from imblearn.over_sampling import SMOTE"
   ]
  },
  {
   "cell_type": "code",
   "execution_count": 49,
   "id": "ca7f2617-2893-42ac-abb6-573585e13ada",
   "metadata": {},
   "outputs": [],
   "source": [
    "def prepare_df(df):\n",
    "    df['target'] = df['target'].replace({1: 1, 2: 1, 3: 2, 4: 3, 5: 3})\n",
    "    df = df[df['target'] != 2]\n",
    "    df['target'] = df['target'].replace({1: 0, 3: 1})\n",
    "\n",
    "    return df"
   ]
  },
  {
   "cell_type": "code",
   "execution_count": null,
   "id": "ab1dcc9e-6599-4a94-9a08-1860554646db",
   "metadata": {},
   "outputs": [],
   "source": [
    "data_path = '../data/data.csv'  \n",
    "df = pd.read_csv(data_path)\n",
    "\n",
    "df = prepare_df(df)\n",
    "\n",
    "print(\"New label distribution:\\n\", df['target'].value_counts())"
   ]
  },
  {
   "cell_type": "code",
   "execution_count": null,
   "id": "95ed67d7-b218-4a7a-bf9c-7960c5ec32bb",
   "metadata": {},
   "outputs": [],
   "source": [
    "X = df['features']\n",
    "y = df['target']\n",
    "\n",
    "vectorizer = TfidfVectorizer(max_features=10000, ngram_range=(1, 2))\n",
    "X_tfidf = vectorizer.fit_transform(X).toarray()"
   ]
  },
  {
   "cell_type": "code",
   "execution_count": null,
   "id": "132f8ac8-159e-441a-881b-437f49cb7a3f",
   "metadata": {},
   "outputs": [],
   "source": [
    "X_train, X_test, y_train, y_test = train_test_split(X_tfidf, y, test_size=0.2, random_state=42, stratify=y)"
   ]
  },
  {
   "cell_type": "code",
   "execution_count": null,
   "id": "9405abf0-f2da-4bf0-9bad-6988013df528",
   "metadata": {},
   "outputs": [],
   "source": [
    "nb_classifier = MultinomialNB(alpha=1)\n",
    "nb_classifier.fit(X_train, y_train)\n",
    "\n",
    "y_pred = nb_classifier.predict(X_test)"
   ]
  },
  {
   "cell_type": "code",
   "execution_count": null,
   "id": "17532809-b953-4afe-a049-7db44608f0b6",
   "metadata": {},
   "outputs": [],
   "source": [
    "print(\"Classification Report:\\n\", classification_report(y_test, y_pred))\n",
    "\n",
    "conf_matrix = confusion_matrix(y_test, y_pred)\n",
    "\n",
    "plt.figure(figsize=(8, 6))\n",
    "sns.heatmap(conf_matrix, annot=True, fmt='d', cmap='Blues', xticklabels=np.unique(y), yticklabels=np.unique(y))\n",
    "plt.title(\"Confusion Matrix\")\n",
    "plt.xlabel(\"Predicted\")\n",
    "plt.ylabel(\"Actual\")\n",
    "plt.show()"
   ]
  },
  {
   "cell_type": "markdown",
   "id": "a70164b8-b53c-47fa-b863-7066721cd019",
   "metadata": {},
   "source": [
    "## KNN"
   ]
  },
  {
   "cell_type": "code",
   "execution_count": null,
   "id": "e538d2b3-bac6-4db1-b2b8-5b05e4a00952",
   "metadata": {},
   "outputs": [],
   "source": [
    "import pandas as pd\n",
    "import numpy as np\n",
    "from sklearn.model_selection import train_test_split\n",
    "from sklearn.preprocessing import StandardScaler\n",
    "from sklearn.neighbors import KNeighborsClassifier\n",
    "from sklearn.metrics import confusion_matrix, classification_report, accuracy_score\n",
    "import matplotlib.pyplot as plt\n",
    "import seaborn as sns"
   ]
  },
  {
   "cell_type": "code",
   "execution_count": null,
   "id": "761317eb-2d2b-42e0-9c61-9660b7675320",
   "metadata": {},
   "outputs": [],
   "source": [
    "scaler = StandardScaler()\n",
    "X_train = scaler.fit_transform(X_train)\n",
    "X_test = scaler.transform(X_test)"
   ]
  },
  {
   "cell_type": "code",
   "execution_count": null,
   "id": "db2cd3fc-4ec0-42e3-8298-4a79d492e82b",
   "metadata": {},
   "outputs": [],
   "source": [
    "knn = KNeighborsClassifier(n_neighbors=10, weights='distance')\n",
    "\n",
    "knn.fit(X_train, y_train)"
   ]
  },
  {
   "cell_type": "code",
   "execution_count": null,
   "id": "bc3d10b2-d581-4f91-baf4-2383ed2bbc86",
   "metadata": {},
   "outputs": [],
   "source": [
    "y_pred = knn.predict(X_test)\n",
    "\n",
    "print(\"First 10 predictions:\", y_pred[:10])"
   ]
  },
  {
   "cell_type": "code",
   "execution_count": null,
   "id": "9cd37638-e99b-4b26-a8c2-5cdecb005d8d",
   "metadata": {},
   "outputs": [],
   "source": [
    "accuracy = accuracy_score(y_test, y_pred)\n",
    "print(f\"Accuracy: {accuracy:.4f}\")\n",
    "\n",
    "conf_matrix = confusion_matrix(y_test, y_pred)\n",
    "print(\"Confusion Matrix:\\n\", conf_matrix)\n",
    "\n",
    "plt.figure(figsize=(6, 6))\n",
    "sns.heatmap(conf_matrix, annot=True, fmt='d', cmap='Blues', xticklabels=['Easy', 'Hard'], yticklabels=['Easy', 'Hard'])\n",
    "plt.title(\"Confusion Matrix\")\n",
    "plt.ylabel(\"Actual Labels\")\n",
    "plt.xlabel(\"Predicted Labels\")\n",
    "plt.show()"
   ]
  },
  {
   "cell_type": "markdown",
   "id": "e04df96f-e62a-4277-bb81-10b2a7c90d3c",
   "metadata": {},
   "source": [
    "## SVM"
   ]
  },
  {
   "cell_type": "code",
   "execution_count": 57,
   "id": "705a4c67-4224-46b0-9237-de75d8b04b1c",
   "metadata": {},
   "outputs": [
    {
     "data": {
      "text/html": [
       "<div>\n",
       "<style scoped>\n",
       "    .dataframe tbody tr th:only-of-type {\n",
       "        vertical-align: middle;\n",
       "    }\n",
       "\n",
       "    .dataframe tbody tr th {\n",
       "        vertical-align: top;\n",
       "    }\n",
       "\n",
       "    .dataframe thead th {\n",
       "        text-align: right;\n",
       "    }\n",
       "</style>\n",
       "<table border=\"1\" class=\"dataframe\">\n",
       "  <thead>\n",
       "    <tr style=\"text-align: right;\">\n",
       "      <th></th>\n",
       "      <th>features</th>\n",
       "      <th>target</th>\n",
       "      <th>comments</th>\n",
       "      <th>has_tapa</th>\n",
       "      <th>has_nurimisaki</th>\n",
       "      <th>has_kompass</th>\n",
       "      <th>has_palindrome_(variante)</th>\n",
       "      <th>has_anti-queen_(variante)</th>\n",
       "      <th>has_10-in-9_(variante)</th>\n",
       "      <th>has_modifier_cells_(variante)</th>\n",
       "      <th>...</th>\n",
       "      <th>has_tomtom</th>\n",
       "      <th>has_statue_park</th>\n",
       "      <th>has_extra_regions_(variante)</th>\n",
       "      <th>has_logical</th>\n",
       "      <th>has_norinori</th>\n",
       "      <th>has_anti-knight_(variante)</th>\n",
       "      <th>has_daisho</th>\n",
       "      <th>has_earthquake_(variante)</th>\n",
       "      <th>has_diagonal_(variante)</th>\n",
       "      <th>has_cross_the_streams</th>\n",
       "    </tr>\n",
       "  </thead>\n",
       "  <tbody>\n",
       "    <tr>\n",
       "      <th>0</th>\n",
       "      <td>plato feeling unwell hypochondriac thermometer...</td>\n",
       "      <td>3</td>\n",
       "      <td>added comment work solution code</td>\n",
       "      <td>0</td>\n",
       "      <td>0</td>\n",
       "      <td>0</td>\n",
       "      <td>0</td>\n",
       "      <td>0</td>\n",
       "      <td>0</td>\n",
       "      <td>0</td>\n",
       "      <td>...</td>\n",
       "      <td>0</td>\n",
       "      <td>0</td>\n",
       "      <td>0</td>\n",
       "      <td>0</td>\n",
       "      <td>0</td>\n",
       "      <td>0</td>\n",
       "      <td>0</td>\n",
       "      <td>0</td>\n",
       "      <td>0</td>\n",
       "      <td>0</td>\n",
       "    </tr>\n",
       "    <tr>\n",
       "      <th>1</th>\n",
       "      <td>friend roman countryman lend ear come bury cae...</td>\n",
       "      <td>4</td>\n",
       "      <td>added roman numeral tag</td>\n",
       "      <td>0</td>\n",
       "      <td>0</td>\n",
       "      <td>0</td>\n",
       "      <td>0</td>\n",
       "      <td>0</td>\n",
       "      <td>0</td>\n",
       "      <td>0</td>\n",
       "      <td>...</td>\n",
       "      <td>0</td>\n",
       "      <td>0</td>\n",
       "      <td>0</td>\n",
       "      <td>0</td>\n",
       "      <td>0</td>\n",
       "      <td>0</td>\n",
       "      <td>0</td>\n",
       "      <td>0</td>\n",
       "      <td>0</td>\n",
       "      <td>0</td>\n",
       "    </tr>\n",
       "    <tr>\n",
       "      <th>2</th>\n",
       "      <td>standard yinyang rule apply</td>\n",
       "      <td>2</td>\n",
       "      <td>tougher expected star difficult puzzle maybe f...</td>\n",
       "      <td>0</td>\n",
       "      <td>0</td>\n",
       "      <td>0</td>\n",
       "      <td>0</td>\n",
       "      <td>0</td>\n",
       "      <td>0</td>\n",
       "      <td>0</td>\n",
       "      <td>...</td>\n",
       "      <td>0</td>\n",
       "      <td>0</td>\n",
       "      <td>0</td>\n",
       "      <td>0</td>\n",
       "      <td>0</td>\n",
       "      <td>0</td>\n",
       "      <td>0</td>\n",
       "      <td>0</td>\n",
       "      <td>0</td>\n",
       "      <td>0</td>\n",
       "    </tr>\n",
       "    <tr>\n",
       "      <th>3</th>\n",
       "      <td>penpastandard sudoku rule apply final numerica...</td>\n",
       "      <td>3</td>\n",
       "      <td>fun puzzle requiring tremendously wonderful va...</td>\n",
       "      <td>0</td>\n",
       "      <td>0</td>\n",
       "      <td>0</td>\n",
       "      <td>0</td>\n",
       "      <td>0</td>\n",
       "      <td>0</td>\n",
       "      <td>0</td>\n",
       "      <td>...</td>\n",
       "      <td>0</td>\n",
       "      <td>0</td>\n",
       "      <td>0</td>\n",
       "      <td>0</td>\n",
       "      <td>0</td>\n",
       "      <td>0</td>\n",
       "      <td>0</td>\n",
       "      <td>0</td>\n",
       "      <td>1</td>\n",
       "      <td>0</td>\n",
       "    </tr>\n",
       "    <tr>\n",
       "      <th>4</th>\n",
       "      <td>ring killerlittle killer sudoku wessel strijks...</td>\n",
       "      <td>3</td>\n",
       "      <td>smistry thanks glad liked thanks setting nice ...</td>\n",
       "      <td>0</td>\n",
       "      <td>0</td>\n",
       "      <td>0</td>\n",
       "      <td>0</td>\n",
       "      <td>0</td>\n",
       "      <td>0</td>\n",
       "      <td>0</td>\n",
       "      <td>...</td>\n",
       "      <td>0</td>\n",
       "      <td>0</td>\n",
       "      <td>0</td>\n",
       "      <td>0</td>\n",
       "      <td>0</td>\n",
       "      <td>0</td>\n",
       "      <td>0</td>\n",
       "      <td>0</td>\n",
       "      <td>0</td>\n",
       "      <td>0</td>\n",
       "    </tr>\n",
       "  </tbody>\n",
       "</table>\n",
       "<p>5 rows × 173 columns</p>\n",
       "</div>"
      ],
      "text/plain": [
       "                                            features  target  \\\n",
       "0  plato feeling unwell hypochondriac thermometer...       3   \n",
       "1  friend roman countryman lend ear come bury cae...       4   \n",
       "2                        standard yinyang rule apply       2   \n",
       "3  penpastandard sudoku rule apply final numerica...       3   \n",
       "4  ring killerlittle killer sudoku wessel strijks...       3   \n",
       "\n",
       "                                            comments  has_tapa  \\\n",
       "0                   added comment work solution code         0   \n",
       "1                            added roman numeral tag         0   \n",
       "2  tougher expected star difficult puzzle maybe f...         0   \n",
       "3  fun puzzle requiring tremendously wonderful va...         0   \n",
       "4  smistry thanks glad liked thanks setting nice ...         0   \n",
       "\n",
       "   has_nurimisaki  has_kompass  has_palindrome_(variante)  \\\n",
       "0               0            0                          0   \n",
       "1               0            0                          0   \n",
       "2               0            0                          0   \n",
       "3               0            0                          0   \n",
       "4               0            0                          0   \n",
       "\n",
       "   has_anti-queen_(variante)  has_10-in-9_(variante)  \\\n",
       "0                          0                       0   \n",
       "1                          0                       0   \n",
       "2                          0                       0   \n",
       "3                          0                       0   \n",
       "4                          0                       0   \n",
       "\n",
       "   has_modifier_cells_(variante)  ...  has_tomtom  has_statue_park  \\\n",
       "0                              0  ...           0                0   \n",
       "1                              0  ...           0                0   \n",
       "2                              0  ...           0                0   \n",
       "3                              0  ...           0                0   \n",
       "4                              0  ...           0                0   \n",
       "\n",
       "   has_extra_regions_(variante)  has_logical  has_norinori  \\\n",
       "0                             0            0             0   \n",
       "1                             0            0             0   \n",
       "2                             0            0             0   \n",
       "3                             0            0             0   \n",
       "4                             0            0             0   \n",
       "\n",
       "   has_anti-knight_(variante)  has_daisho  has_earthquake_(variante)  \\\n",
       "0                           0           0                          0   \n",
       "1                           0           0                          0   \n",
       "2                           0           0                          0   \n",
       "3                           0           0                          0   \n",
       "4                           0           0                          0   \n",
       "\n",
       "   has_diagonal_(variante)  has_cross_the_streams  \n",
       "0                        0                      0  \n",
       "1                        0                      0  \n",
       "2                        0                      0  \n",
       "3                        1                      0  \n",
       "4                        0                      0  \n",
       "\n",
       "[5 rows x 173 columns]"
      ]
     },
     "execution_count": 57,
     "metadata": {},
     "output_type": "execute_result"
    }
   ],
   "source": [
    "import pandas as pd\n",
    "from sklearn.model_selection import train_test_split\n",
    "from sklearn.feature_extraction.text import TfidfVectorizer\n",
    "from sklearn.preprocessing import LabelEncoder\n",
    "from sklearn.svm import SVC\n",
    "from sklearn.metrics import classification_report, confusion_matrix\n",
    "import matplotlib.pyplot as plt\n",
    "import seaborn as sns\n",
    "\n",
    "df = pd.read_csv(\"../data/data.csv\")\n",
    "\n",
    "df.head()"
   ]
  },
  {
   "cell_type": "code",
   "execution_count": null,
   "id": "09dc0589-67ea-4bf7-9f94-cb9ae7d5d39a",
   "metadata": {},
   "outputs": [],
   "source": [
    "df = prepare_df(df)\n",
    "\n",
    "X = df['features']\n",
    "y = df['target'] \n",
    "\n",
    "label_encoder = LabelEncoder()\n",
    "y_encoded = label_encoder.fit_transform(y)\n",
    "\n",
    "vectorizer = TfidfVectorizer(max_features=10000, ngram_range=(1, 2))\n",
    "X_tfidf = vectorizer.fit_transform(X)"
   ]
  },
  {
   "cell_type": "code",
   "execution_count": null,
   "id": "ec963e9a-7af8-4659-afaf-0890b0a5cc3d",
   "metadata": {},
   "outputs": [],
   "source": [
    "X_train, X_test, y_train, y_test = train_test_split(X_tfidf, y_encoded, test_size=0.2, random_state=42, stratify=y_encoded)"
   ]
  },
  {
   "cell_type": "code",
   "execution_count": null,
   "id": "22715f46-8467-4cb0-aeb6-02c955f2fcb6",
   "metadata": {},
   "outputs": [],
   "source": [
    "from sklearn.utils.class_weight import compute_class_weight\n",
    "\n",
    "class_weights = compute_class_weight(class_weight='balanced', classes=np.unique(y_train), y=y_train)\n",
    "class_weights_dict = {i: class_weights[i] for i in range(len(class_weights))}\n",
    "\n",
    "print(f\"Class Weights: {class_weights_dict}\")"
   ]
  },
  {
   "cell_type": "code",
   "execution_count": null,
   "id": "44e7fb9a-a5e4-4173-bad4-e580d56f48a9",
   "metadata": {},
   "outputs": [],
   "source": [
    "svm_classifier = SVC(kernel='rbf', class_weight=class_weights_dict, C=1.0, random_state=42)\n",
    "\n",
    "svm_classifier.fit(X_train, y_train)\n",
    "\n",
    "y_pred = svm_classifier.predict(X_test)"
   ]
  },
  {
   "cell_type": "code",
   "execution_count": null,
   "id": "0d3f4742-c347-4c1b-ac46-315b426bdfd9",
   "metadata": {},
   "outputs": [],
   "source": [
    "print(\"Classification Report:\\n\", classification_report(y_test, y_pred, target_names=['Easy', 'Hard']))\n",
    "\n",
    "conf_mat = confusion_matrix(y_test, y_pred)\n",
    "\n",
    "plt.figure(figsize=(8, 6))\n",
    "sns.heatmap(conf_mat, annot=True, fmt='d', cmap='Blues', xticklabels=['Easy', 'Hard'], yticklabels=['Easy', 'Hard'])\n",
    "plt.xlabel('Predicted')\n",
    "plt.ylabel('Actual')\n",
    "plt.title('Confusion Matrix for SVM with Class Weights')\n",
    "plt.show()"
   ]
  },
  {
   "cell_type": "markdown",
   "id": "faaf91fe-2567-4b46-89c2-218e921c60d4",
   "metadata": {},
   "source": [
    "## Adjust SVM"
   ]
  },
  {
   "cell_type": "code",
   "execution_count": 55,
   "id": "757cd47f-383d-4b43-afe9-61ca8f104cf7",
   "metadata": {},
   "outputs": [],
   "source": [
    "import pandas as pd\n",
    "from sklearn.model_selection import GridSearchCV, KFold\n",
    "from sklearn.feature_extraction.text import TfidfVectorizer\n",
    "from sklearn.svm import SVC\n",
    "from sklearn.pipeline import Pipeline\n",
    "from sklearn.metrics import confusion_matrix, accuracy_score\n",
    "import matplotlib.pyplot as plt\n",
    "import seaborn as sns"
   ]
  },
  {
   "cell_type": "code",
   "execution_count": null,
   "id": "d10e6322-e61f-400c-8bcd-ed2589a4557b",
   "metadata": {},
   "outputs": [],
   "source": [
    "data_path = '../data/data.csv'\n",
    "df = pd.read_csv(data_path)\n",
    "\n",
    "df = prepare_df(df)\n",
    "\n",
    "X = df['features']\n",
    "y = df['target']"
   ]
  },
  {
   "cell_type": "code",
   "execution_count": null,
   "id": "f3138de2-4185-4950-bcc4-d2655c7effe0",
   "metadata": {},
   "outputs": [],
   "source": [
    "pipeline = Pipeline([\n",
    "    ('tfidf', TfidfVectorizer()),\n",
    "    ('svm', SVC())\n",
    "])\n",
    "\n",
    "param_grid = {\n",
    "    'tfidf__max_features': [5000, 10000],\n",
    "    'svm__C': [0.1, 1, 10],\n",
    "    'svm__gamma': ['scale', 'auto'],\n",
    "    'svm__kernel': ['rbf']\n",
    "}\n",
    "\n",
    "kf = KFold(n_splits=5, shuffle=True, random_state=42)\n",
    "\n",
    "grid_search = GridSearchCV(pipeline, param_grid, cv=kf, scoring='accuracy', n_jobs=-1, verbose=2)\n",
    "\n",
    "grid_search.fit(X, y)"
   ]
  },
  {
   "cell_type": "code",
   "execution_count": null,
   "id": "bc3c12c7-5cc7-4f6a-8c53-d0dffe22440a",
   "metadata": {},
   "outputs": [],
   "source": [
    "best_model = grid_search.best_estimator_\n",
    "print(\"Best Parameters:\", grid_search.best_params_)\n",
    "print(\"Best Accuracy:\", grid_search.best_score_)\n",
    "\n",
    "y_pred = best_model.predict(X)\n",
    "accuracy = accuracy_score(y, y_pred)\n",
    "conf_matrix = confusion_matrix(y, y_pred)\n",
    "\n",
    "print(f\"Accuracy: {accuracy * 100:.2f}%\")"
   ]
  },
  {
   "cell_type": "code",
   "execution_count": null,
   "id": "6d8c0983-e2f2-4d11-ab7e-a926ad9cbf33",
   "metadata": {},
   "outputs": [],
   "source": [
    "plt.figure(figsize=(6, 6))\n",
    "sns.heatmap(conf_matrix, annot=True, fmt='d', cmap='Blues', cbar=False)\n",
    "plt.title('Confusion Matrix')\n",
    "plt.xlabel('Predicted')\n",
    "plt.ylabel('Actual')\n",
    "plt.show()"
   ]
  },
  {
   "cell_type": "code",
   "execution_count": 58,
   "id": "7f7018ab-c4e9-4643-b885-4fadb36c812d",
   "metadata": {},
   "outputs": [
    {
     "name": "stderr",
     "output_type": "stream",
     "text": [
      "/tmp/ipykernel_89342/2368711172.py:4: SettingWithCopyWarning: \n",
      "A value is trying to be set on a copy of a slice from a DataFrame.\n",
      "Try using .loc[row_indexer,col_indexer] = value instead\n",
      "\n",
      "See the caveats in the documentation: https://pandas.pydata.org/pandas-docs/stable/user_guide/indexing.html#returning-a-view-versus-a-copy\n",
      "  df['target'] = df['target'].replace({1: 0, 3: 1})\n"
     ]
    }
   ],
   "source": [
    "data_path = '../data/data.csv'\n",
    "df = pd.read_csv(data_path)\n",
    "\n",
    "df = prepare_df(df)\n",
    "\n",
    "X = df['features']\n",
    "y = df['target'] \n",
    "\n",
    "label_encoder = LabelEncoder()\n",
    "y_encoded = label_encoder.fit_transform(y)\n",
    "\n",
    "vectorizer = TfidfVectorizer(max_features=10000, ngram_range=(1, 2))\n",
    "X_tfidf = vectorizer.fit_transform(X)"
   ]
  },
  {
   "cell_type": "code",
   "execution_count": 59,
   "id": "973a0d49-f906-4359-837f-8a1c3018ed73",
   "metadata": {},
   "outputs": [],
   "source": [
    "X_train, X_test, y_train, y_test = train_test_split(X_tfidf, y_encoded, test_size=0.2, random_state=42, stratify=y_encoded)"
   ]
  },
  {
   "cell_type": "code",
   "execution_count": 60,
   "id": "df931142-6d1f-410b-ba40-6c363e3f5173",
   "metadata": {},
   "outputs": [
    {
     "name": "stdout",
     "output_type": "stream",
     "text": [
      "Class Weights: {0: np.float64(0.9548611111111112), 1: np.float64(1.049618320610687)}\n"
     ]
    }
   ],
   "source": [
    "from sklearn.utils.class_weight import compute_class_weight\n",
    "\n",
    "class_weights = compute_class_weight(class_weight='balanced', classes=np.unique(y_train), y=y_train)\n",
    "class_weights_dict = {i: class_weights[i] for i in range(len(class_weights))}\n",
    "\n",
    "print(f\"Class Weights: {class_weights_dict}\")"
   ]
  },
  {
   "cell_type": "code",
   "execution_count": 61,
   "id": "c59b8de3-d842-4cd7-a435-1401c49c1f83",
   "metadata": {},
   "outputs": [],
   "source": [
    "svm_classifier = SVC(kernel='rbf', class_weight=class_weights_dict, C=1.0, gamma='scale', random_state=42)\n",
    "\n",
    "svm_classifier.fit(X_train, y_train)\n",
    "\n",
    "y_pred = svm_classifier.predict(X_test)"
   ]
  },
  {
   "cell_type": "code",
   "execution_count": 62,
   "id": "3f57f711-646e-40af-bb8e-ce8281317daa",
   "metadata": {},
   "outputs": [
    {
     "name": "stdout",
     "output_type": "stream",
     "text": [
      "Classification Report:\n",
      "               precision    recall  f1-score   support\n",
      "\n",
      "        Easy       0.81      0.74      0.77       684\n",
      "        Hard       0.74      0.81      0.77       623\n",
      "\n",
      "    accuracy                           0.77      1307\n",
      "   macro avg       0.77      0.78      0.77      1307\n",
      "weighted avg       0.78      0.77      0.77      1307\n",
      "\n"
     ]
    },
    {
     "data": {
      "image/png": "[encoded data removed]",
      "text/plain": [
       "<Figure size 800x600 with 2 Axes>"
      ]
     },
     "metadata": {},
     "output_type": "display_data"
    }
   ],
   "source": [
    "print(\"Classification Report:\\n\", classification_report(y_test, y_pred, target_names=['Easy', 'Hard']))\n",
    "\n",
    "conf_mat = confusion_matrix(y_test, y_pred)\n",
    "\n",
    "plt.figure(figsize=(8, 6))\n",
    "sns.heatmap(conf_mat, annot=True, fmt='d', cmap='Blues', xticklabels=['Easy', 'Hard'], yticklabels=['Easy', 'Hard'])\n",
    "plt.xlabel('Predicted')\n",
    "plt.ylabel('Actual')\n",
    "plt.title('Confusion Matrix for SVM with Class Weights')\n",
    "plt.show()"
   ]
  },
  {
   "cell_type": "markdown",
   "id": "512bb555-4f9a-4de0-9dda-b1b59cef7d5d",
   "metadata": {},
   "source": [
    "## Adjusted SVM with binary features"
   ]
  },
  {
   "cell_type": "code",
   "execution_count": 64,
   "id": "6ca4345d-0976-4737-886a-c2f17fbcaccc",
   "metadata": {},
   "outputs": [],
   "source": [
    "import pandas as pd\n",
    "from sklearn.feature_extraction.text import TfidfVectorizer\n",
    "from sklearn.model_selection import train_test_split\n",
    "from sklearn.svm import SVC\n",
    "from sklearn.preprocessing import StandardScaler\n",
    "from sklearn.metrics import confusion_matrix, ConfusionMatrixDisplay, classification_report\n",
    "from sklearn.utils.class_weight import compute_class_weight\n",
    "from scipy.sparse import hstack\n",
    "import numpy as np\n",
    "import matplotlib.pyplot as plt"
   ]
  },
  {
   "cell_type": "code",
   "execution_count": 73,
   "id": "872b7cbc-6fab-48b5-a2dc-1c420448c018",
   "metadata": {},
   "outputs": [
    {
     "name": "stderr",
     "output_type": "stream",
     "text": [
      "/tmp/ipykernel_89342/2368711172.py:4: SettingWithCopyWarning: \n",
      "A value is trying to be set on a copy of a slice from a DataFrame.\n",
      "Try using .loc[row_indexer,col_indexer] = value instead\n",
      "\n",
      "See the caveats in the documentation: https://pandas.pydata.org/pandas-docs/stable/user_guide/indexing.html#returning-a-view-versus-a-copy\n",
      "  df['target'] = df['target'].replace({1: 0, 3: 1})\n"
     ]
    }
   ],
   "source": [
    "data_path = '../data/data.csv'\n",
    "df = pd.read_csv(data_path)\n",
    "\n",
    "df = prepare_df(df)\n",
    "\n",
    "tfidf_vectorizer = TfidfVectorizer(max_features=10000)\n",
    "X_tfidf = tfidf_vectorizer.fit_transform(df['features'])\n",
    "\n",
    "binary_features = df.filter(like='has').values\n",
    "\n",
    "X = hstack([X_tfidf, binary_features])\n",
    "# X = binary_features\n",
    "\n",
    "y = df['target'].values"
   ]
  },
  {
   "cell_type": "code",
   "execution_count": 74,
   "id": "095daa7b-61e7-41e0-ab7b-2f62310d52fe",
   "metadata": {},
   "outputs": [],
   "source": [
    "X_train, X_test, y_train, y_test = train_test_split(X, y, test_size=0.2, random_state=42)"
   ]
  },
  {
   "cell_type": "code",
   "execution_count": 75,
   "id": "a5b6fd5c-e5bf-4d89-af1c-5f6b819893a3",
   "metadata": {},
   "outputs": [
    {
     "name": "stdout",
     "output_type": "stream",
     "text": [
      "Class Weights: {0: np.float64(0.955909257226491), 1: np.float64(1.048354735152488)}\n"
     ]
    }
   ],
   "source": [
    "class_weights = compute_class_weight(class_weight='balanced', classes=np.unique(y_train), y=y_train)\n",
    "class_weights_dict = {i: class_weights[i] for i in range(len(class_weights))}\n",
    "print(f\"Class Weights: {class_weights_dict}\")"
   ]
  },
  {
   "cell_type": "code",
   "execution_count": 76,
   "id": "4161cf69-cbea-430f-8039-76353c3e9b18",
   "metadata": {},
   "outputs": [],
   "source": [
    "svm_classifier = SVC(kernel='rbf', class_weight=class_weights_dict, C=1.0, gamma='scale', random_state=42)\n",
    "\n",
    "svm_classifier.fit(X_train, y_train)\n",
    "\n",
    "y_pred = svm_classifier.predict(X_test)"
   ]
  },
  {
   "cell_type": "code",
   "execution_count": 77,
   "id": "da9aa634-3f75-4770-8eab-486f24db3bf9",
   "metadata": {},
   "outputs": [
    {
     "data": {
      "image/png": "[encoded data removed]",
      "text/plain": [
       "<Figure size 640x480 with 2 Axes>"
      ]
     },
     "metadata": {},
     "output_type": "display_data"
    },
    {
     "name": "stdout",
     "output_type": "stream",
     "text": [
      "Classification Report:\n",
      "\n",
      "              precision    recall  f1-score   support\n",
      "\n",
      "        Easy       0.65      0.71      0.68       687\n",
      "        Hard       0.64      0.57      0.60       620\n",
      "\n",
      "    accuracy                           0.64      1307\n",
      "   macro avg       0.64      0.64      0.64      1307\n",
      "weighted avg       0.64      0.64      0.64      1307\n",
      "\n"
     ]
    }
   ],
   "source": [
    "cm = confusion_matrix(y_test, y_pred)\n",
    "disp = ConfusionMatrixDisplay(confusion_matrix=cm, display_labels=['Easy', 'Hard'])\n",
    "disp.plot(cmap='Blues')\n",
    "plt.title(\"Confusion Matrix for SVM (Easy vs Hard)\")\n",
    "plt.show()\n",
    "\n",
    "print(\"Classification Report:\\n\")\n",
    "print(classification_report(y_test, y_pred, target_names=['Easy', 'Hard']))"
   ]
  },
  {
   "cell_type": "code",
   "execution_count": null,
   "id": "468c6786-e9a0-4019-ad58-84fe34e0851d",
   "metadata": {},
   "outputs": [
    {
     "name": "stderr",
     "output_type": "stream",
     "text": [
      "/home/lewelotki/.cache/pypoetry/virtualenvs/sudoku-classifier-ImMA5acm-py3.10/lib/python3.10/site-packages/sklearn/linear_model/_coordinate_descent.py:658: ConvergenceWarning: Objective did not converge. You might want to increase the number of iterations. Duality gap: 0.15595661289003715, tolerance: 0.10416688995215338\n",
      "  model = cd_fast.sparse_enet_coordinate_descent(\n",
      "/home/lewelotki/.cache/pypoetry/virtualenvs/sudoku-classifier-ImMA5acm-py3.10/lib/python3.10/site-packages/sklearn/linear_model/_coordinate_descent.py:658: ConvergenceWarning: Objective did not converge. You might want to increase the number of iterations. Duality gap: 0.1902823970746823, tolerance: 0.10416688995215338\n",
      "  model = cd_fast.sparse_enet_coordinate_descent(\n",
      "/home/lewelotki/.cache/pypoetry/virtualenvs/sudoku-classifier-ImMA5acm-py3.10/lib/python3.10/site-packages/sklearn/linear_model/_coordinate_descent.py:658: ConvergenceWarning: Objective did not converge. You might want to increase the number of iterations. Duality gap: 0.10739418045474736, tolerance: 0.10416688995215338\n",
      "  model = cd_fast.sparse_enet_coordinate_descent(\n",
      "/home/lewelotki/.cache/pypoetry/virtualenvs/sudoku-classifier-ImMA5acm-py3.10/lib/python3.10/site-packages/sklearn/linear_model/_coordinate_descent.py:658: ConvergenceWarning: Objective did not converge. You might want to increase the number of iterations. Duality gap: 0.14525750090865586, tolerance: 0.10416688995215338\n",
      "  model = cd_fast.sparse_enet_coordinate_descent(\n",
      "/home/lewelotki/.cache/pypoetry/virtualenvs/sudoku-classifier-ImMA5acm-py3.10/lib/python3.10/site-packages/sklearn/linear_model/_coordinate_descent.py:658: ConvergenceWarning: Objective did not converge. You might want to increase the number of iterations. Duality gap: 0.12503427632570663, tolerance: 0.10416688995215338\n",
      "  model = cd_fast.sparse_enet_coordinate_descent(\n",
      "/home/lewelotki/.cache/pypoetry/virtualenvs/sudoku-classifier-ImMA5acm-py3.10/lib/python3.10/site-packages/sklearn/linear_model/_coordinate_descent.py:658: ConvergenceWarning: Objective did not converge. You might want to increase the number of iterations. Duality gap: 0.32509145173492016, tolerance: 0.10416688995215338\n",
      "  model = cd_fast.sparse_enet_coordinate_descent(\n",
      "/home/lewelotki/.cache/pypoetry/virtualenvs/sudoku-classifier-ImMA5acm-py3.10/lib/python3.10/site-packages/sklearn/linear_model/_coordinate_descent.py:658: ConvergenceWarning: Objective did not converge. You might want to increase the number of iterations. Duality gap: 0.31687371270032827, tolerance: 0.10416688995215338\n",
      "  model = cd_fast.sparse_enet_coordinate_descent(\n",
      "/home/lewelotki/.cache/pypoetry/virtualenvs/sudoku-classifier-ImMA5acm-py3.10/lib/python3.10/site-packages/sklearn/linear_model/_coordinate_descent.py:658: ConvergenceWarning: Objective did not converge. You might want to increase the number of iterations. Duality gap: 0.1859847835806363, tolerance: 0.10416688995215338\n",
      "  model = cd_fast.sparse_enet_coordinate_descent(\n",
      "/home/lewelotki/.cache/pypoetry/virtualenvs/sudoku-classifier-ImMA5acm-py3.10/lib/python3.10/site-packages/sklearn/linear_model/_coordinate_descent.py:658: ConvergenceWarning: Objective did not converge. You might want to increase the number of iterations. Duality gap: 0.17551653878209095, tolerance: 0.10416688995215338\n",
      "  model = cd_fast.sparse_enet_coordinate_descent(\n",
      "/home/lewelotki/.cache/pypoetry/virtualenvs/sudoku-classifier-ImMA5acm-py3.10/lib/python3.10/site-packages/sklearn/linear_model/_coordinate_descent.py:658: ConvergenceWarning: Objective did not converge. You might want to increase the number of iterations. Duality gap: 0.16637943750787088, tolerance: 0.10416688995215338\n",
      "  model = cd_fast.sparse_enet_coordinate_descent(\n",
      "/home/lewelotki/.cache/pypoetry/virtualenvs/sudoku-classifier-ImMA5acm-py3.10/lib/python3.10/site-packages/sklearn/linear_model/_coordinate_descent.py:658: ConvergenceWarning: Objective did not converge. You might want to increase the number of iterations. Duality gap: 0.14657716303980095, tolerance: 0.10416688995215338\n",
      "  model = cd_fast.sparse_enet_coordinate_descent(\n",
      "/home/lewelotki/.cache/pypoetry/virtualenvs/sudoku-classifier-ImMA5acm-py3.10/lib/python3.10/site-packages/sklearn/linear_model/_coordinate_descent.py:658: ConvergenceWarning: Objective did not converge. You might want to increase the number of iterations. Duality gap: 0.17458575781398622, tolerance: 0.10416688995215338\n",
      "  model = cd_fast.sparse_enet_coordinate_descent(\n",
      "/home/lewelotki/.cache/pypoetry/virtualenvs/sudoku-classifier-ImMA5acm-py3.10/lib/python3.10/site-packages/sklearn/linear_model/_coordinate_descent.py:658: ConvergenceWarning: Objective did not converge. You might want to increase the number of iterations. Duality gap: 0.18591852882473603, tolerance: 0.10416688995215338\n",
      "  model = cd_fast.sparse_enet_coordinate_descent(\n",
      "/home/lewelotki/.cache/pypoetry/virtualenvs/sudoku-classifier-ImMA5acm-py3.10/lib/python3.10/site-packages/sklearn/linear_model/_coordinate_descent.py:658: ConvergenceWarning: Objective did not converge. You might want to increase the number of iterations. Duality gap: 0.14230916798575066, tolerance: 0.10416688995215338\n",
      "  model = cd_fast.sparse_enet_coordinate_descent(\n"
     ]
    }
   ],
   "source": [
    "from sklearn.linear_model import LassoCV\n",
    "from sklearn.feature_selection import SelectFromModel\n",
    "from sklearn.pipeline import Pipeline\n",
    "\n",
    "# Lasso for feature selection\n",
    "lasso = LassoCV(cv=5, random_state=42).fit(X_train_scaled, y_train)\n",
    "model = SelectFromModel(lasso, prefit=True)\n",
    "X_train_lasso = model.transform(X_train_scaled)\n",
    "X_test_lasso = model.transform(X_test_scaled)\n",
    "\n",
    "print(f\"Original number of features: {X_train_scaled.shape[1]}\")\n",
    "print(f\"Reduced number of features with Lasso: {X_train_lasso.shape[1]}\")\n",
    "\n",
    "# Train SVM on reduced feature set\n",
    "svm_classifier = SVC(kernel='rbf', class_weight=class_weights_dict, C=1.0, gamma='scale', random_state=42)\n",
    "svm_classifier.fit(X_train_lasso, y_train)\n",
    "\n",
    "# Predict on the test set\n",
    "y_pred = svm_classifier.predict(X_test_lasso)\n",
    "\n",
    "# Display confusion matrix and classification report\n",
    "cm = confusion_matrix(y_test, y_pred)\n",
    "disp = ConfusionMatrixDisplay(confusion_matrix=cm, display_labels=['Easy', 'Hard'])\n",
    "disp.plot(cmap='Blues')\n",
    "plt.title(\"Confusion Matrix for SVM with Lasso Feature Selection\")\n",
    "plt.show()\n",
    "\n",
    "print(\"Classification Report:\\n\")\n",
    "print(classification_report(y_test, y_pred, target_names=['Easy', 'Hard']))\n"
   ]
  },
  {
   "cell_type": "markdown",
   "id": "d38f1a49-2325-4089-978e-8f4406096cfb",
   "metadata": {},
   "source": [
    "## Random Forest"
   ]
  },
  {
   "cell_type": "code",
   "execution_count": null,
   "id": "9aeceaf8-6982-4e13-99bf-d532aff53390",
   "metadata": {},
   "outputs": [],
   "source": [
    "import pandas as pd\n",
    "import numpy as np\n",
    "from sklearn.feature_extraction.text import TfidfVectorizer\n",
    "from sklearn.model_selection import train_test_split\n",
    "from sklearn.ensemble import RandomForestClassifier\n",
    "from sklearn.metrics import classification_report, accuracy_score, confusion_matrix\n",
    "import matplotlib.pyplot as plt\n",
    "import seaborn as sns"
   ]
  },
  {
   "cell_type": "code",
   "execution_count": null,
   "id": "82c521d8-e7b0-44e3-8150-dd6c315ba540",
   "metadata": {},
   "outputs": [],
   "source": [
    "df = pd.read_csv('../data/data_raw.csv')\n",
    "\n",
    "df = prepare_df(df)\n",
    "\n",
    "features = df['features']\n",
    "target = df['target']"
   ]
  },
  {
   "cell_type": "code",
   "execution_count": null,
   "id": "6e7abcd5-5ea2-423e-a53d-4989959f8aff",
   "metadata": {},
   "outputs": [],
   "source": [
    "vectorizer = TfidfVectorizer(max_features=10000)\n",
    "features_tfidf = vectorizer.fit_transform(features).toarray()\n",
    "\n",
    "X_train, X_test, y_train, y_test = train_test_split(features_tfidf, target, test_size=0.3, random_state=42, stratify=target)"
   ]
  },
  {
   "cell_type": "code",
   "execution_count": null,
   "id": "4d7c349f-6dc6-435f-b639-397e7a18f5c4",
   "metadata": {},
   "outputs": [],
   "source": [
    "rf_model = RandomForestClassifier(n_estimators=100, random_state=42)\n",
    "rf_model.fit(X_train, y_train)\n",
    "\n",
    "y_pred = rf_model.predict(X_test)"
   ]
  },
  {
   "cell_type": "code",
   "execution_count": null,
   "id": "5af46efa-6e7a-45ca-aafb-88c725ff8027",
   "metadata": {},
   "outputs": [],
   "source": [
    "print(\"Classification Report:\\n\", classification_report(y_test, y_pred))\n",
    "print(\"Accuracy Score:\", accuracy_score(y_test, y_pred))\n",
    "\n",
    "conf_matrix = confusion_matrix(y_test, y_pred)\n",
    "plt.figure(figsize=(8, 6))\n",
    "sns.heatmap(conf_matrix, annot=True, fmt='d', cmap='Blues', xticklabels=[1, 2, 3], yticklabels=[1, 2, 3])\n",
    "plt.xlabel(\"Predicted\")\n",
    "plt.ylabel(\"Actual\")\n",
    "plt.title(\"Confusion Matrix\")\n",
    "plt.show()"
   ]
  },
  {
   "cell_type": "markdown",
   "id": "4011ab02-af47-40b6-b745-f5891f255807",
   "metadata": {},
   "source": [
    "## Neural Network"
   ]
  },
  {
   "cell_type": "code",
   "execution_count": null,
   "id": "6af7e8d1-bf0a-4ca1-a54d-67d2eeb3159a",
   "metadata": {},
   "outputs": [],
   "source": [
    "import sys\n",
    "\n",
    "src_dir = '../src'\n",
    "\n",
    "if src_dir not in sys.path:\n",
    "    sys.path.append(src_dir)"
   ]
  },
  {
   "cell_type": "code",
   "execution_count": null,
   "id": "ddbe9ad6-3749-4f5e-acb3-30bfb994fb55",
   "metadata": {},
   "outputs": [],
   "source": [
    "import torch\n",
    "import torch.nn as nn\n",
    "import torch.optim as optim\n",
    "from torch.utils.data import DataLoader\n",
    "\n",
    "from classifier.dataloader.dataloader import create_dataloaders\n",
    "from classifier.models.simple_net import NeuralNetwork"
   ]
  },
  {
   "cell_type": "code",
   "execution_count": null,
   "id": "0306da70-a332-41a7-bfbd-39a3af8984ae",
   "metadata": {},
   "outputs": [],
   "source": [
    "torch.manual_seed(0)"
   ]
  },
  {
   "cell_type": "code",
   "execution_count": null,
   "id": "44902dda-af45-4bab-8160-ec99a0c9815b",
   "metadata": {},
   "outputs": [],
   "source": [
    "import pandas as pd\n",
    "import torch\n",
    "from torch.utils.data import Dataset, DataLoader\n",
    "from sklearn.feature_extraction.text import TfidfVectorizer\n",
    "from sklearn.model_selection import train_test_split\n",
    "\n",
    "data_path = '../data/data.csv'\n",
    "df = pd.read_csv(data_path)\n",
    "\n",
    "df['target'] = df['target'].replace({1: 1, 2: 1, 3: 2, 4: 3, 5: 3})\n",
    "df = df[df['target'] != 2]\n",
    "df['target'] = df['target'].replace({1: 0, 3: 1})\n",
    "\n",
    "X = df['features'] \n",
    "y = df['target']\n",
    "\n",
    "tfidf = TfidfVectorizer(max_features=10000)\n",
    "X_tfidf = tfidf.fit_transform(X)\n",
    "\n",
    "y_tensor = torch.tensor(y.values, dtype=torch.long)\n",
    "\n",
    "X_train, X_test, y_train, y_test = train_test_split(X_tfidf, y_tensor, test_size=0.2, random_state=42)\n",
    "\n",
    "class PuzzleDataset(Dataset):\n",
    "    def __init__(self, X, y):\n",
    "        self.X = X.toarray()  \n",
    "        self.y = y\n",
    "    \n",
    "    def __len__(self):\n",
    "        return len(self.y)\n",
    "    \n",
    "    def __getitem__(self, idx):\n",
    "        X_item = torch.tensor(self.X[idx], dtype=torch.float32)\n",
    "        y_item = self.y[idx]\n",
    "        return X_item, y_item\n",
    "\n",
    "train_dataset = PuzzleDataset(X_train, y_train)\n",
    "test_dataset = PuzzleDataset(X_test, y_test)\n",
    "\n",
    "train_loader = DataLoader(train_dataset, batch_size=32, shuffle=True)\n",
    "test_loader = DataLoader(test_dataset, batch_size=32, shuffle=False)\n",
    "\n",
    "print(f\"Train dataset size: {len(train_dataset)}\")\n",
    "print(f\"Test dataset size: {len(test_dataset)}\")"
   ]
  },
  {
   "cell_type": "code",
   "execution_count": null,
   "id": "f46df43e-3676-4ac5-bde7-1f42bfbd83e6",
   "metadata": {},
   "outputs": [],
   "source": [
    "learning_rate = 0.001\n",
    "epochs = 5\n",
    "\n",
    "max_features = 1e4\n",
    "input_size = int(max_features)\n",
    "hidden_sizes = [128, 64]\n",
    "output_size = 2\n",
    "\n",
    "model = NeuralNetwork(\n",
    "    input_size=input_size,\n",
    "    hidden_sizes=hidden_sizes,\n",
    "    output_size=output_size\n",
    ")"
   ]
  },
  {
   "cell_type": "code",
   "execution_count": null,
   "id": "1f165663-0ab6-4295-815b-744228ebd54e",
   "metadata": {},
   "outputs": [],
   "source": [
    "criterion = nn.CrossEntropyLoss()\n",
    "optimizer = optim.Adam(model.parameters(), lr=learning_rate)"
   ]
  },
  {
   "cell_type": "code",
   "execution_count": null,
   "id": "450bc349-e664-489f-a7db-d462f8a88a28",
   "metadata": {},
   "outputs": [],
   "source": [
    "from classifier.training_loop import train, evaluate"
   ]
  },
  {
   "cell_type": "code",
   "execution_count": null,
   "id": "bb869ea2-5491-4209-9e6c-80127e681892",
   "metadata": {},
   "outputs": [],
   "source": [
    "train(\n",
    "    model=model, \n",
    "    criterion=criterion, \n",
    "    optimizer=optimizer, \n",
    "    data_loader=train_loader, \n",
    "    epochs=epochs\n",
    ")"
   ]
  },
  {
   "cell_type": "code",
   "execution_count": null,
   "id": "6ee31b30-5465-498d-8f31-fc0d1b9f23d8",
   "metadata": {},
   "outputs": [],
   "source": [
    "average_loss, accuracy, y_pred, y_prob, y_true = evaluate(\n",
    "    model=model,\n",
    "    criterion=criterion,\n",
    "    data_loader=test_loader\n",
    ")"
   ]
  },
  {
   "cell_type": "code",
   "execution_count": null,
   "id": "7ee2d0c5-b8e3-43ff-811e-f580533415e3",
   "metadata": {},
   "outputs": [],
   "source": [
    "from sklearn.metrics import confusion_matrix, roc_curve, auc, classification_report\n",
    "import matplotlib.pyplot as plt\n",
    "import seaborn as sns"
   ]
  },
  {
   "cell_type": "code",
   "execution_count": null,
   "id": "9fa18c52-aebb-44f3-9491-00919e7bceb2",
   "metadata": {},
   "outputs": [],
   "source": [
    "conf_mat = confusion_matrix(y_true, y_pred)\n",
    "print(f\"Classification Report:\\n{classification_report(y_true, y_pred)}\")\n",
    "print(conf_mat)\n",
    "\n",
    "plt.figure(figsize=(6, 4))\n",
    "sns.heatmap(conf_mat, annot=True, fmt=\"d\", cmap=\"Blues\", xticklabels=['Not Sudoku', 'Sudoku'], yticklabels=['Not Sudoku', 'Sudoku'])\n",
    "plt.title('Confusion Matrix Neural Network')\n",
    "plt.xlabel('Predicted')\n",
    "plt.ylabel('Actual')\n",
    "plt.show()"
   ]
  },
  {
   "cell_type": "markdown",
   "id": "0935097f-625d-4836-82ee-4f9d64ceab24",
   "metadata": {},
   "source": [
    "## XGBoost"
   ]
  },
  {
   "cell_type": "code",
   "execution_count": null,
   "id": "9aa60702-82db-4401-af69-ec2179fcb429",
   "metadata": {},
   "outputs": [],
   "source": [
    "import xgboost as xgb\n",
    "from sklearn.feature_extraction.text import TfidfVectorizer\n",
    "from sklearn.model_selection import train_test_split, GridSearchCV\n",
    "from sklearn.metrics import confusion_matrix, classification_report, roc_auc_score, roc_curve\n",
    "import matplotlib.pyplot as plt\n",
    "import pandas as pd"
   ]
  },
  {
   "cell_type": "code",
   "execution_count": null,
   "id": "e0f0358c-7552-4ba3-bf44-c2e1de5ab4e3",
   "metadata": {},
   "outputs": [],
   "source": [
    "df = pd.read_csv('../data/data.csv')\n",
    "\n",
    "df['target'] = df['target'].replace({1: 1, 2: 1, 3: 2, 4: 3, 5: 3})\n",
    "df = df[df['target'] != 2]\n",
    "df['target'] = df['target'].replace({1: 0, 3: 1})\n",
    "\n",
    "tfidf_vectorizer = TfidfVectorizer(max_features=9830)\n",
    "X = tfidf_vectorizer.fit_transform(df['features'])\n",
    "y = df['target']"
   ]
  },
  {
   "cell_type": "code",
   "execution_count": null,
   "id": "fdcf6899-29d7-4d56-b945-d11e16485574",
   "metadata": {},
   "outputs": [],
   "source": [
    "X_train, X_test, y_train, y_test = train_test_split(X, y, test_size=0.2, random_state=42, stratify=y)"
   ]
  },
  {
   "cell_type": "code",
   "execution_count": null,
   "id": "ac60db83-a9ba-4d5b-86b8-476f8a63a390",
   "metadata": {},
   "outputs": [],
   "source": [
    "xgb_model = xgb.XGBClassifier(use_label_encoder=False, eval_metric='logloss')\n",
    "\n",
    "param_grid = {\n",
    "    'n_estimators': [100, 200, 300],\n",
    "    'max_depth': [3, 5, 7],\n",
    "    'learning_rate': [0.01, 0.1, 0.2],\n",
    "    'subsample': [0.8, 1],\n",
    "    'colsample_bytree': [0.8, 1]\n",
    "}\n",
    "\n",
    "grid_search = GridSearchCV(estimator=xgb_model, param_grid=param_grid, scoring='accuracy', cv=5, verbose=1, n_jobs=-1)\n",
    "grid_search.fit(X_train, y_train)\n",
    "\n",
    "best_xgb_model = grid_search.best_estimator_\n",
    "\n",
    "y_pred = best_xgb_model.predict(X_test)\n",
    "y_prob = best_xgb_model.predict_proba(X_test)[:, 1]"
   ]
  },
  {
   "cell_type": "code",
   "execution_count": null,
   "id": "449c7998-3452-48af-97a5-61dcbdf96636",
   "metadata": {},
   "outputs": [],
   "source": [
    "print(confusion_matrix(y_test, y_pred))\n",
    "print(classification_report(y_test, y_pred))\n",
    "\n",
    "roc_auc = roc_auc_score(y_test, y_prob)\n",
    "fpr, tpr, _ = roc_curve(y_test, y_prob)\n",
    "\n",
    "plt.figure(figsize=(8, 6))\n",
    "plt.plot(fpr, tpr, label=f'XGBoost (AUC = {roc_auc:.2f})')\n",
    "plt.plot([0, 1], [0, 1], linestyle='--', color='gray')\n",
    "plt.xlabel('False Positive Rate')\n",
    "plt.ylabel('True Positive Rate')\n",
    "plt.title('ROC Curve')\n",
    "plt.legend()\n",
    "plt.show()"
   ]
  },
  {
   "cell_type": "code",
   "execution_count": null,
   "id": "44c41926-e35a-4580-8565-c15e9d2fb730",
   "metadata": {},
   "outputs": [],
   "source": [
    "from sklearn.metrics import ConfusionMatrixDisplay, confusion_matrix\n",
    "\n",
    "cm = confusion_matrix(y_test, y_pred)\n",
    "disp = ConfusionMatrixDisplay(confusion_matrix=cm, display_labels=['Non-Sudoku', 'Sudoku'])\n",
    "disp.plot(cmap='Blues')\n",
    "plt.title(\"Confusion Matrix for XGBoost Model\")\n",
    "plt.show()\n",
    "\n",
    "best_params = grid_search.best_params_\n",
    "print(f\"Best Parameters: {best_params}\")"
   ]
  },
  {
   "cell_type": "markdown",
   "id": "a47cec06-c681-4f86-95a8-9b44fdb36e4f",
   "metadata": {},
   "source": [
    "Best Parameters: {'colsample_bytree': 1, 'learning_rate': 0.1, 'max_depth': 7, 'n_estimators': 300, 'subsample': 0.8}"
   ]
  },
  {
   "cell_type": "markdown",
   "id": "f3fe6546-7a1a-4f26-a828-4d9926eb9400",
   "metadata": {},
   "source": [
    "## Convolutional Neural Network"
   ]
  },
  {
   "cell_type": "code",
   "execution_count": null,
   "id": "cc94f27e-5821-4cc8-9d3c-463922476d18",
   "metadata": {},
   "outputs": [],
   "source": [
    "import sys\n",
    "\n",
    "src_dir = '../src'\n",
    "\n",
    "if src_dir not in sys.path:\n",
    "    sys.path.append(src_dir)"
   ]
  },
  {
   "cell_type": "code",
   "execution_count": 35,
   "id": "3ab9430f-a588-4aa2-9ab3-04015555d55c",
   "metadata": {},
   "outputs": [],
   "source": [
    "import torch\n",
    "import torch.nn as nn\n",
    "import torch.optim as optim\n",
    "from torch.utils.data import DataLoader\n",
    "\n",
    "from classifier.dataloader.dataloader import create_dataloaders\n",
    "from classifier.models.simple_net import NeuralNetwork"
   ]
  },
  {
   "cell_type": "code",
   "execution_count": 36,
   "id": "71657f5b-78e1-4ca8-ac37-95ad6ee6b7ae",
   "metadata": {},
   "outputs": [
    {
     "data": {
      "text/plain": [
       "<torch._C.Generator at 0x751007fdabf0>"
      ]
     },
     "execution_count": 36,
     "metadata": {},
     "output_type": "execute_result"
    }
   ],
   "source": [
    "torch.manual_seed(0)"
   ]
  },
  {
   "cell_type": "code",
   "execution_count": 37,
   "id": "3d4a4f45-8935-4ee3-8cec-1a13e4842b31",
   "metadata": {},
   "outputs": [
    {
     "name": "stdout",
     "output_type": "stream",
     "text": [
      "Train dataset size: 5225\n",
      "Test dataset size: 1307\n"
     ]
    }
   ],
   "source": [
    "import pandas as pd\n",
    "import torch\n",
    "from torch.utils.data import Dataset, DataLoader\n",
    "from sklearn.feature_extraction.text import TfidfVectorizer\n",
    "from sklearn.model_selection import train_test_split\n",
    "\n",
    "data_path = '../data/data.csv'\n",
    "df = pd.read_csv(data_path)\n",
    "\n",
    "df['target'] = df['target'].replace({1: 1, 2: 1, 3: 2, 4: 3, 5: 3})\n",
    "df = df[df['target'] != 2]\n",
    "df['target'] = df['target'].replace({1: 0, 3: 1})\n",
    "\n",
    "X = df['features'] \n",
    "y = df['target']\n",
    "\n",
    "tfidf = TfidfVectorizer(max_features=10000)\n",
    "X_tfidf = tfidf.fit_transform(X)\n",
    "\n",
    "y_tensor = torch.tensor(y.values, dtype=torch.long)\n",
    "\n",
    "X_train, X_test, y_train, y_test = train_test_split(X_tfidf, y_tensor, test_size=0.2, random_state=42)\n",
    "\n",
    "class PuzzleDataset(Dataset):\n",
    "    def __init__(self, X, y):\n",
    "        self.X = X.toarray()  \n",
    "        self.y = y\n",
    "    \n",
    "    def __len__(self):\n",
    "        return len(self.y)\n",
    "    \n",
    "    def __getitem__(self, idx):\n",
    "        X_item = torch.tensor(self.X[idx], dtype=torch.float32)\n",
    "        y_item = self.y[idx]\n",
    "        return X_item, y_item\n",
    "\n",
    "train_dataset = PuzzleDataset(X_train, y_train)\n",
    "test_dataset = PuzzleDataset(X_test, y_test)\n",
    "\n",
    "train_loader = DataLoader(train_dataset, batch_size=32, shuffle=True)\n",
    "test_loader = DataLoader(test_dataset, batch_size=32, shuffle=False)\n",
    "\n",
    "print(f\"Train dataset size: {len(train_dataset)}\")\n",
    "print(f\"Test dataset size: {len(test_dataset)}\")"
   ]
  },
  {
   "cell_type": "code",
   "execution_count": 39,
   "id": "2026e62b-2f9a-42e4-ab4e-07a777249fc3",
   "metadata": {},
   "outputs": [],
   "source": [
    "from classifier.models.conv_net import ConvolutionalNetwork"
   ]
  },
  {
   "cell_type": "code",
   "execution_count": 40,
   "id": "11b3053b-7793-45ab-988a-5cf84c1cb219",
   "metadata": {},
   "outputs": [],
   "source": [
    "learning_rate = 0.001\n",
    "epochs = 5\n",
    "max_features = 1e4\n",
    "\n",
    "num_classes = 2\n",
    "input_size = int(max_features)\n",
    "\n",
    "model = ConvolutionalNetwork(\n",
    "    input_features=input_size,\n",
    "    num_classes=num_classes\n",
    ")"
   ]
  },
  {
   "cell_type": "code",
   "execution_count": 41,
   "id": "83519cbc-d921-479b-997d-a2e0a68c57d9",
   "metadata": {},
   "outputs": [],
   "source": [
    "criterion = nn.CrossEntropyLoss()\n",
    "optimizer = optim.Adam(model.parameters(), lr=learning_rate)"
   ]
  },
  {
   "cell_type": "code",
   "execution_count": 42,
   "id": "3896fdbc-885c-4379-bf8e-ed93f973fa06",
   "metadata": {},
   "outputs": [
    {
     "data": {
      "application/vnd.jupyter.widget-view+json": {
       "model_id": "4ebc154b99bd454b8f3a205a68152a33",
       "version_major": 2,
       "version_minor": 0
      },
      "text/plain": [
       "Epoch 1/5:   0%|          | 0/164 [00:00<?, ?batch/s]"
      ]
     },
     "metadata": {},
     "output_type": "display_data"
    },
    {
     "data": {
      "application/vnd.jupyter.widget-view+json": {
       "model_id": "f3ec2b9b7170496286ec187f9e0fa8b4",
       "version_major": 2,
       "version_minor": 0
      },
      "text/plain": [
       "Epoch 2/5:   0%|          | 0/164 [00:00<?, ?batch/s]"
      ]
     },
     "metadata": {},
     "output_type": "display_data"
    },
    {
     "data": {
      "application/vnd.jupyter.widget-view+json": {
       "model_id": "25723d81e7a9491d8b98bcdf89338442",
       "version_major": 2,
       "version_minor": 0
      },
      "text/plain": [
       "Epoch 3/5:   0%|          | 0/164 [00:00<?, ?batch/s]"
      ]
     },
     "metadata": {},
     "output_type": "display_data"
    },
    {
     "data": {
      "application/vnd.jupyter.widget-view+json": {
       "model_id": "846270d9c9ed4a1eaa83176b3b6a5432",
       "version_major": 2,
       "version_minor": 0
      },
      "text/plain": [
       "Epoch 4/5:   0%|          | 0/164 [00:00<?, ?batch/s]"
      ]
     },
     "metadata": {},
     "output_type": "display_data"
    },
    {
     "data": {
      "application/vnd.jupyter.widget-view+json": {
       "model_id": "ecb0e1e226824e46ac7a7563ff0e4882",
       "version_major": 2,
       "version_minor": 0
      },
      "text/plain": [
       "Epoch 5/5:   0%|          | 0/164 [00:00<?, ?batch/s]"
      ]
     },
     "metadata": {},
     "output_type": "display_data"
    }
   ],
   "source": [
    "train(\n",
    "    model=model, \n",
    "    criterion=criterion, \n",
    "    optimizer=optimizer, \n",
    "    data_loader=train_loader, \n",
    "    epochs=epochs\n",
    ")"
   ]
  },
  {
   "cell_type": "code",
   "execution_count": 43,
   "id": "7b6c83d2-6673-4ff7-b2a2-631fa80d74be",
   "metadata": {},
   "outputs": [
    {
     "name": "stdout",
     "output_type": "stream",
     "text": [
      "Average Loss: 0.7542, Accuracy: 69.70%\n"
     ]
    }
   ],
   "source": [
    "average_loss, accuracy, y_pred, y_prob, y_true = evaluate(\n",
    "    model=model,\n",
    "    criterion=criterion,\n",
    "    data_loader=test_loader\n",
    ")"
   ]
  },
  {
   "cell_type": "code",
   "execution_count": 44,
   "id": "4fb7285c-fc08-42dd-a8bf-2bd10ab2d5a7",
   "metadata": {},
   "outputs": [],
   "source": [
    "from sklearn.metrics import confusion_matrix, roc_curve, auc, classification_report\n",
    "import matplotlib.pyplot as plt\n",
    "import seaborn as sns"
   ]
  },
  {
   "cell_type": "code",
   "execution_count": 45,
   "id": "943b6b42-1430-4e97-9728-2d1766f51066",
   "metadata": {},
   "outputs": [
    {
     "name": "stdout",
     "output_type": "stream",
     "text": [
      "Classification Report:\n",
      "              precision    recall  f1-score   support\n",
      "\n",
      "           0       0.69      0.76      0.72       687\n",
      "           1       0.70      0.63      0.66       620\n",
      "\n",
      "    accuracy                           0.70      1307\n",
      "   macro avg       0.70      0.69      0.69      1307\n",
      "weighted avg       0.70      0.70      0.70      1307\n",
      "\n",
      "[[520 167]\n",
      " [229 391]]\n"
     ]
    },
    {
     "data": {
      "image/png": "[encoded data removed]",
      "text/plain": [
       "<Figure size 600x400 with 2 Axes>"
      ]
     },
     "metadata": {},
     "output_type": "display_data"
    }
   ],
   "source": [
    "conf_mat = confusion_matrix(y_true, y_pred)\n",
    "print(f\"Classification Report:\\n{classification_report(y_true, y_pred)}\")\n",
    "print(conf_mat)\n",
    "\n",
    "plt.figure(figsize=(6, 4))\n",
    "sns.heatmap(conf_mat, annot=True, fmt=\"d\", cmap=\"Blues\", xticklabels=['Not Sudoku', 'Sudoku'], yticklabels=['Not Sudoku', 'Sudoku'])\n",
    "plt.title('Confusion Matrix Neural Network')\n",
    "plt.xlabel('Predicted')\n",
    "plt.ylabel('Actual')\n",
    "plt.show()"
   ]
  }
 ],
 "metadata": {
  "kernelspec": {
   "display_name": "Python 3 (ipykernel)",
   "language": "python",
   "name": "python3"
  },
  "language_info": {
   "codemirror_mode": {
    "name": "ipython",
    "version": 3
   },
   "file_extension": ".py",
   "mimetype": "text/x-python",
   "name": "python",
   "nbconvert_exporter": "python",
   "pygments_lexer": "ipython3",
   "version": "3.10.12"
  }
 },
 "nbformat": 4,
 "nbformat_minor": 5
}
