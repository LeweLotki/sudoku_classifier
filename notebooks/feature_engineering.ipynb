{
 "cells": [
  {
   "cell_type": "code",
   "execution_count": 1,
   "id": "bcc201f5-5389-4222-b4df-861ad2086622",
   "metadata": {},
   "outputs": [],
   "source": [
    "import pandas as pd\n",
    "import numpy as np\n",
    "from sklearn.feature_extraction.text import TfidfVectorizer\n",
    "from nltk.corpus import stopwords\n",
    "from nltk.tokenize import word_tokenize\n",
    "from sklearn.preprocessing import StandardScaler\n",
    "import re"
   ]
  },
  {
   "cell_type": "code",
   "execution_count": 2,
   "id": "2b6370fb-9d19-43d7-950f-3c267482d4b3",
   "metadata": {},
   "outputs": [],
   "source": [
    "df = pd.read_csv('../data/data_raw.csv')"
   ]
  },
  {
   "cell_type": "code",
   "execution_count": 3,
   "id": "cc460913-650e-489e-8359-b72d35bc66fc",
   "metadata": {},
   "outputs": [],
   "source": [
    "df['word_count'] = df['features'].apply(lambda x: len(x.split()))\n",
    "df['unique_word_count'] = df['features'].apply(lambda x: len(set(x.split())))\n",
    "df['char_count'] = df['features'].apply(lambda x: len(x))\n",
    "df['avg_word_length'] = df['features'].apply(lambda x: np.mean([len(word) for word in x.split()]))\n",
    "df['contains_sudoku'] = df['features'].apply(lambda x: 1 if 'sudoku' in x.lower() else 0)\n",
    "df['contains_digits'] = df['features'].apply(lambda x: 1 if any(char.isdigit() for char in x) else 0)\n",
    "df['contains_normal'] = df['features'].apply(lambda x: 1 if 'normal' in x.lower() else 0)"
   ]
  },
  {
   "cell_type": "code",
   "execution_count": 4,
   "id": "8757a704-109f-4306-b854-66c18b1541a1",
   "metadata": {},
   "outputs": [],
   "source": [
    "vectorizer = TfidfVectorizer(max_features=15000, ngram_range=(1, 2))\n",
    "X_tfidf = vectorizer.fit_transform(df['features']).toarray()"
   ]
  },
  {
   "cell_type": "code",
   "execution_count": 5,
   "id": "4a4a6111-edba-48b2-ada2-ef1059a3d3b4",
   "metadata": {},
   "outputs": [],
   "source": [
    "text_features = df[['word_count', 'unique_word_count', 'char_count', 'avg_word_length', 'contains_sudoku','contains_digits','contains_normal']].values\n",
    "X_features = np.concatenate([X_tfidf, text_features], axis=1)"
   ]
  },
  {
   "cell_type": "code",
   "execution_count": 6,
   "id": "e9a9e634-caf3-4286-bbce-5ba41e895421",
   "metadata": {},
   "outputs": [],
   "source": [
    "scaler = StandardScaler()\n",
    "X_features = scaler.fit_transform(X_features)"
   ]
  },
  {
   "cell_type": "code",
   "execution_count": 7,
   "id": "9f0d68a8-5bbd-44d1-8127-714bf3c89cd7",
   "metadata": {},
   "outputs": [],
   "source": [
    "df['target'] = df['target'].replace({1: 1, 2: 1, 3: 2, 4: 3, 5: 3})\n",
    "y = df['target'].values"
   ]
  },
  {
   "cell_type": "code",
   "execution_count": 8,
   "id": "a4ee3773-afef-44e9-a8b2-1e97f4ca4383",
   "metadata": {},
   "outputs": [],
   "source": [
    "from sklearn.model_selection import train_test_split\n",
    "X_train, X_test, y_train, y_test = train_test_split(X_features, y, test_size=0.2, random_state=42)"
   ]
  },
  {
   "cell_type": "code",
   "execution_count": 9,
   "id": "6e6ea678-7f6e-4b4b-b834-841cae79ac50",
   "metadata": {},
   "outputs": [],
   "source": [
    "import pandas as pd\n",
    "import numpy as np\n",
    "from sklearn.feature_extraction.text import TfidfVectorizer\n",
    "from sklearn.model_selection import train_test_split\n",
    "from sklearn.naive_bayes import MultinomialNB\n",
    "from sklearn.metrics import confusion_matrix, classification_report\n",
    "import seaborn as sns\n",
    "import matplotlib.pyplot as plt\n",
    "from imblearn.over_sampling import SMOTE"
   ]
  },
  {
   "cell_type": "code",
   "execution_count": 10,
   "id": "b27c6a3d-9244-4b22-a0dc-0a9294478538",
   "metadata": {},
   "outputs": [],
   "source": [
    "X_train = np.abs(X_train)\n",
    "X_test = np.abs(X_test)"
   ]
  },
  {
   "cell_type": "code",
   "execution_count": 11,
   "id": "25ac8db7-d4f5-46d4-8650-7728b4cb59dc",
   "metadata": {},
   "outputs": [],
   "source": [
    "nb_classifier = MultinomialNB(alpha=1)\n",
    "nb_classifier.fit(X_train, y_train)\n",
    "\n",
    "y_pred = nb_classifier.predict(X_test)"
   ]
  },
  {
   "cell_type": "code",
   "execution_count": 12,
   "id": "a6d8a2c9-900a-4794-af93-07e6fc5b7ba2",
   "metadata": {},
   "outputs": [
    {
     "name": "stdout",
     "output_type": "stream",
     "text": [
      "Classification Report:\n",
      "               precision    recall  f1-score   support\n",
      "\n",
      "           1       0.54      0.60      0.57       676\n",
      "           2       0.41      0.45      0.43       691\n",
      "           3       0.55      0.44      0.49       633\n",
      "\n",
      "    accuracy                           0.50      2000\n",
      "   macro avg       0.50      0.50      0.50      2000\n",
      "weighted avg       0.50      0.50      0.50      2000\n",
      "\n"
     ]
    },
    {
     "data": {
      "image/png": "[encoded data removed]",
      "text/plain": [
       "<Figure size 800x600 with 2 Axes>"
      ]
     },
     "metadata": {},
     "output_type": "display_data"
    }
   ],
   "source": [
    "print(\"Classification Report:\\n\", classification_report(y_test, y_pred))\n",
    "\n",
    "conf_matrix = confusion_matrix(y_test, y_pred)\n",
    "\n",
    "plt.figure(figsize=(8, 6))\n",
    "sns.heatmap(conf_matrix, annot=True, fmt='d', cmap='Blues', xticklabels=np.unique(y), yticklabels=np.unique(y))\n",
    "plt.title(\"Confusion Matrix\")\n",
    "plt.xlabel(\"Predicted\")\n",
    "plt.ylabel(\"Actual\")\n",
    "plt.show()"
   ]
  }
 ],
 "metadata": {
  "kernelspec": {
   "display_name": "Python 3 (ipykernel)",
   "language": "python",
   "name": "python3"
  },
  "language_info": {
   "codemirror_mode": {
    "name": "ipython",
    "version": 3
   },
   "file_extension": ".py",
   "mimetype": "text/x-python",
   "name": "python",
   "nbconvert_exporter": "python",
   "pygments_lexer": "ipython3",
   "version": "3.10.12"
  }
 },
 "nbformat": 4,
 "nbformat_minor": 5
}
