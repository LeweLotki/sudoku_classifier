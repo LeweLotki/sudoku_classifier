{
 "cells": [
  {
   "cell_type": "markdown",
   "id": "dc77e2c9-d5b3-4a1d-931a-9fae138f726e",
   "metadata": {},
   "source": [
    "This notebook classify between very easy, medium and very hard based on the puzzle description and comments"
   ]
  },
  {
   "cell_type": "markdown",
   "id": "df16947f-0394-43cd-906d-09cdb2d6d427",
   "metadata": {},
   "source": [
    "## SVM"
   ]
  },
  {
   "cell_type": "code",
   "execution_count": 1,
   "id": "7ed64934-268e-487c-9d28-f32808936039",
   "metadata": {},
   "outputs": [
    {
     "data": {
      "text/html": [
       "<div>\n",
       "<style scoped>\n",
       "    .dataframe tbody tr th:only-of-type {\n",
       "        vertical-align: middle;\n",
       "    }\n",
       "\n",
       "    .dataframe tbody tr th {\n",
       "        vertical-align: top;\n",
       "    }\n",
       "\n",
       "    .dataframe thead th {\n",
       "        text-align: right;\n",
       "    }\n",
       "</style>\n",
       "<table border=\"1\" class=\"dataframe\">\n",
       "  <thead>\n",
       "    <tr style=\"text-align: right;\">\n",
       "      <th></th>\n",
       "      <th>features</th>\n",
       "      <th>target</th>\n",
       "      <th>comments</th>\n",
       "      <th>has_tapa</th>\n",
       "      <th>has_nurimisaki</th>\n",
       "      <th>has_kompass</th>\n",
       "      <th>has_palindrome_(variante)</th>\n",
       "      <th>has_anti-queen_(variante)</th>\n",
       "      <th>has_10-in-9_(variante)</th>\n",
       "      <th>has_modifier_cells_(variante)</th>\n",
       "      <th>...</th>\n",
       "      <th>has_tomtom</th>\n",
       "      <th>has_statue_park</th>\n",
       "      <th>has_extra_regions_(variante)</th>\n",
       "      <th>has_logical</th>\n",
       "      <th>has_norinori</th>\n",
       "      <th>has_anti-knight_(variante)</th>\n",
       "      <th>has_daisho</th>\n",
       "      <th>has_earthquake_(variante)</th>\n",
       "      <th>has_diagonal_(variante)</th>\n",
       "      <th>has_cross_the_streams</th>\n",
       "    </tr>\n",
       "  </thead>\n",
       "  <tbody>\n",
       "    <tr>\n",
       "      <th>0</th>\n",
       "      <td>plato feeling unwell hypochondriac thermometer...</td>\n",
       "      <td>3</td>\n",
       "      <td>added comment work solution code</td>\n",
       "      <td>0</td>\n",
       "      <td>0</td>\n",
       "      <td>0</td>\n",
       "      <td>0</td>\n",
       "      <td>0</td>\n",
       "      <td>0</td>\n",
       "      <td>0</td>\n",
       "      <td>...</td>\n",
       "      <td>0</td>\n",
       "      <td>0</td>\n",
       "      <td>0</td>\n",
       "      <td>0</td>\n",
       "      <td>0</td>\n",
       "      <td>0</td>\n",
       "      <td>0</td>\n",
       "      <td>0</td>\n",
       "      <td>0</td>\n",
       "      <td>0</td>\n",
       "    </tr>\n",
       "    <tr>\n",
       "      <th>1</th>\n",
       "      <td>friend roman countryman lend ear come bury cae...</td>\n",
       "      <td>4</td>\n",
       "      <td>added roman numeral tag</td>\n",
       "      <td>0</td>\n",
       "      <td>0</td>\n",
       "      <td>0</td>\n",
       "      <td>0</td>\n",
       "      <td>0</td>\n",
       "      <td>0</td>\n",
       "      <td>0</td>\n",
       "      <td>...</td>\n",
       "      <td>0</td>\n",
       "      <td>0</td>\n",
       "      <td>0</td>\n",
       "      <td>0</td>\n",
       "      <td>0</td>\n",
       "      <td>0</td>\n",
       "      <td>0</td>\n",
       "      <td>0</td>\n",
       "      <td>0</td>\n",
       "      <td>0</td>\n",
       "    </tr>\n",
       "    <tr>\n",
       "      <th>2</th>\n",
       "      <td>standard yinyang rule apply</td>\n",
       "      <td>2</td>\n",
       "      <td>tougher expected star difficult puzzle maybe f...</td>\n",
       "      <td>0</td>\n",
       "      <td>0</td>\n",
       "      <td>0</td>\n",
       "      <td>0</td>\n",
       "      <td>0</td>\n",
       "      <td>0</td>\n",
       "      <td>0</td>\n",
       "      <td>...</td>\n",
       "      <td>0</td>\n",
       "      <td>0</td>\n",
       "      <td>0</td>\n",
       "      <td>0</td>\n",
       "      <td>0</td>\n",
       "      <td>0</td>\n",
       "      <td>0</td>\n",
       "      <td>0</td>\n",
       "      <td>0</td>\n",
       "      <td>0</td>\n",
       "    </tr>\n",
       "    <tr>\n",
       "      <th>3</th>\n",
       "      <td>penpastandard sudoku rule apply final numerica...</td>\n",
       "      <td>3</td>\n",
       "      <td>fun puzzle requiring tremendously wonderful va...</td>\n",
       "      <td>0</td>\n",
       "      <td>0</td>\n",
       "      <td>0</td>\n",
       "      <td>0</td>\n",
       "      <td>0</td>\n",
       "      <td>0</td>\n",
       "      <td>0</td>\n",
       "      <td>...</td>\n",
       "      <td>0</td>\n",
       "      <td>0</td>\n",
       "      <td>0</td>\n",
       "      <td>0</td>\n",
       "      <td>0</td>\n",
       "      <td>0</td>\n",
       "      <td>0</td>\n",
       "      <td>0</td>\n",
       "      <td>1</td>\n",
       "      <td>0</td>\n",
       "    </tr>\n",
       "    <tr>\n",
       "      <th>4</th>\n",
       "      <td>ring killerlittle killer sudoku wessel strijks...</td>\n",
       "      <td>3</td>\n",
       "      <td>smistry thanks glad liked thanks setting nice ...</td>\n",
       "      <td>0</td>\n",
       "      <td>0</td>\n",
       "      <td>0</td>\n",
       "      <td>0</td>\n",
       "      <td>0</td>\n",
       "      <td>0</td>\n",
       "      <td>0</td>\n",
       "      <td>...</td>\n",
       "      <td>0</td>\n",
       "      <td>0</td>\n",
       "      <td>0</td>\n",
       "      <td>0</td>\n",
       "      <td>0</td>\n",
       "      <td>0</td>\n",
       "      <td>0</td>\n",
       "      <td>0</td>\n",
       "      <td>0</td>\n",
       "      <td>0</td>\n",
       "    </tr>\n",
       "  </tbody>\n",
       "</table>\n",
       "<p>5 rows × 173 columns</p>\n",
       "</div>"
      ],
      "text/plain": [
       "                                            features  target  \\\n",
       "0  plato feeling unwell hypochondriac thermometer...       3   \n",
       "1  friend roman countryman lend ear come bury cae...       4   \n",
       "2                        standard yinyang rule apply       2   \n",
       "3  penpastandard sudoku rule apply final numerica...       3   \n",
       "4  ring killerlittle killer sudoku wessel strijks...       3   \n",
       "\n",
       "                                            comments  has_tapa  \\\n",
       "0                   added comment work solution code         0   \n",
       "1                            added roman numeral tag         0   \n",
       "2  tougher expected star difficult puzzle maybe f...         0   \n",
       "3  fun puzzle requiring tremendously wonderful va...         0   \n",
       "4  smistry thanks glad liked thanks setting nice ...         0   \n",
       "\n",
       "   has_nurimisaki  has_kompass  has_palindrome_(variante)  \\\n",
       "0               0            0                          0   \n",
       "1               0            0                          0   \n",
       "2               0            0                          0   \n",
       "3               0            0                          0   \n",
       "4               0            0                          0   \n",
       "\n",
       "   has_anti-queen_(variante)  has_10-in-9_(variante)  \\\n",
       "0                          0                       0   \n",
       "1                          0                       0   \n",
       "2                          0                       0   \n",
       "3                          0                       0   \n",
       "4                          0                       0   \n",
       "\n",
       "   has_modifier_cells_(variante)  ...  has_tomtom  has_statue_park  \\\n",
       "0                              0  ...           0                0   \n",
       "1                              0  ...           0                0   \n",
       "2                              0  ...           0                0   \n",
       "3                              0  ...           0                0   \n",
       "4                              0  ...           0                0   \n",
       "\n",
       "   has_extra_regions_(variante)  has_logical  has_norinori  \\\n",
       "0                             0            0             0   \n",
       "1                             0            0             0   \n",
       "2                             0            0             0   \n",
       "3                             0            0             0   \n",
       "4                             0            0             0   \n",
       "\n",
       "   has_anti-knight_(variante)  has_daisho  has_earthquake_(variante)  \\\n",
       "0                           0           0                          0   \n",
       "1                           0           0                          0   \n",
       "2                           0           0                          0   \n",
       "3                           0           0                          0   \n",
       "4                           0           0                          0   \n",
       "\n",
       "   has_diagonal_(variante)  has_cross_the_streams  \n",
       "0                        0                      0  \n",
       "1                        0                      0  \n",
       "2                        0                      0  \n",
       "3                        1                      0  \n",
       "4                        0                      0  \n",
       "\n",
       "[5 rows x 173 columns]"
      ]
     },
     "execution_count": 1,
     "metadata": {},
     "output_type": "execute_result"
    }
   ],
   "source": [
    "import pandas as pd\n",
    "from sklearn.model_selection import train_test_split\n",
    "from sklearn.feature_extraction.text import TfidfVectorizer\n",
    "from sklearn.preprocessing import LabelEncoder\n",
    "from sklearn.svm import SVC\n",
    "from sklearn.metrics import classification_report, confusion_matrix\n",
    "import matplotlib.pyplot as plt\n",
    "import seaborn as sns\n",
    "\n",
    "df = pd.read_csv(\"../data/data.csv\")\n",
    "\n",
    "df.head()"
   ]
  },
  {
   "cell_type": "code",
   "execution_count": 3,
   "id": "346cee3c-a5eb-43bd-869d-3fefe8025dbb",
   "metadata": {},
   "outputs": [],
   "source": [
    "def prepare_df(df):\n",
    "\n",
    "    df = df[(df['target'] != 2) & (df['target'] != 4)]\n",
    "    df['target'] = df['target'].replace({1: 0, 3: 1, 5: 2})\n",
    "\n",
    "    return df"
   ]
  },
  {
   "cell_type": "code",
   "execution_count": 3,
   "id": "cd6f6371-a88e-48ec-bb34-423de0e49be4",
   "metadata": {},
   "outputs": [
    {
     "name": "stderr",
     "output_type": "stream",
     "text": [
      "/tmp/ipykernel_16197/2634855390.py:4: SettingWithCopyWarning: \n",
      "A value is trying to be set on a copy of a slice from a DataFrame.\n",
      "Try using .loc[row_indexer,col_indexer] = value instead\n",
      "\n",
      "See the caveats in the documentation: https://pandas.pydata.org/pandas-docs/stable/user_guide/indexing.html#returning-a-view-versus-a-copy\n",
      "  df['target'] = df['target'].replace({1: 0, 3:1, 5: 2})\n"
     ]
    }
   ],
   "source": [
    "import scipy\n",
    "\n",
    "df = prepare_df(df)\n",
    "\n",
    "X = df['features']\n",
    "y = df['target'] \n",
    "\n",
    "label_encoder = LabelEncoder()\n",
    "y_encoded = label_encoder.fit_transform(y)\n",
    "\n",
    "ngram_features = TfidfVectorizer(max_features=5000, ngram_range=(1, 3))\n",
    "ngram_comments = TfidfVectorizer(max_features=5000, ngram_range=(1, 3))\n",
    "\n",
    "X_ngram_features = ngram_features.fit_transform(df['features'])\n",
    "X_ngram_comments = ngram_comments.fit_transform(df['comments'].fillna(''))\n",
    "\n",
    "X_combined = scipy.sparse.hstack([X_ngram_features, X_ngram_comments])"
   ]
  },
  {
   "cell_type": "code",
   "execution_count": 4,
   "id": "1f622c43-73dd-4a25-9b82-c5fd2316e60e",
   "metadata": {},
   "outputs": [],
   "source": [
    "X_train, X_test, y_train, y_test = train_test_split(X_combined, y_encoded, test_size=0.2, random_state=42, stratify=y_encoded)"
   ]
  },
  {
   "cell_type": "code",
   "execution_count": 6,
   "id": "8d22297f-383b-41a6-be3a-9ec44843f96b",
   "metadata": {},
   "outputs": [
    {
     "name": "stdout",
     "output_type": "stream",
     "text": [
      "Class Weights: {0: 1.5064363143631436, 1: 0.5343667387647201, 2: 2.151427189163038}\n"
     ]
    }
   ],
   "source": [
    "from sklearn.utils.class_weight import compute_class_weight\n",
    "import numpy as np\n",
    "\n",
    "class_weights = compute_class_weight(class_weight='balanced', classes=np.unique(y_train), y=y_train)\n",
    "class_weights_dict = {i: class_weights[i] for i in range(len(class_weights))}\n",
    "\n",
    "print(f\"Class Weights: {class_weights_dict}\")"
   ]
  },
  {
   "cell_type": "code",
   "execution_count": 7,
   "id": "fe56e225-ada8-41ce-9818-0dbc786a886d",
   "metadata": {},
   "outputs": [],
   "source": [
    "svm_classifier = SVC(kernel='rbf', class_weight=class_weights_dict, C=1.0, random_state=42)\n",
    "\n",
    "svm_classifier.fit(X_train, y_train)\n",
    "\n",
    "y_pred = svm_classifier.predict(X_test)"
   ]
  },
  {
   "cell_type": "code",
   "execution_count": 9,
   "id": "4e7f207d-8ff1-4e79-909f-03ad0a3cc952",
   "metadata": {},
   "outputs": [
    {
     "name": "stdout",
     "output_type": "stream",
     "text": [
      "Classification Report:\n",
      "               precision    recall  f1-score   support\n",
      "\n",
      "        Easy       0.75      0.59      0.66       246\n",
      "      Medium       0.76      0.88      0.81       694\n",
      "        Hard       0.63      0.42      0.50       172\n",
      "\n",
      "    accuracy                           0.74      1112\n",
      "   macro avg       0.71      0.63      0.66      1112\n",
      "weighted avg       0.74      0.74      0.73      1112\n",
      "\n"
     ]
    },
    {
     "data": {
      "image/png": "[encoded data removed]",
      "text/plain": [
       "<Figure size 800x600 with 2 Axes>"
      ]
     },
     "metadata": {},
     "output_type": "display_data"
    }
   ],
   "source": [
    "print(\"Classification Report:\\n\", classification_report(y_test, y_pred, target_names=['Easy', 'Medium', 'Hard']))\n",
    "\n",
    "conf_mat = confusion_matrix(y_test, y_pred)\n",
    "\n",
    "plt.figure(figsize=(8, 6))\n",
    "sns.heatmap(conf_mat, annot=True, fmt='d', cmap='Blues', xticklabels=['Easy', 'Medium', 'Hard'], yticklabels=['Easy', 'Medium', 'Hard'])\n",
    "plt.xlabel('Predicted')\n",
    "plt.ylabel('Actual')\n",
    "plt.title('Confusion Matrix for SVM with Class Weights')\n",
    "plt.show()"
   ]
  },
  {
   "cell_type": "markdown",
   "id": "55b5f2e8-6c92-4e24-bea1-53fcb6534fc0",
   "metadata": {},
   "source": [
    "## Data augmentation"
   ]
  },
  {
   "cell_type": "code",
   "execution_count": 10,
   "id": "05899c11-d6f6-43f1-a388-4ddfff6f3a13",
   "metadata": {},
   "outputs": [],
   "source": [
    "import pandas as pd\n",
    "from sklearn.model_selection import train_test_split\n",
    "from sklearn.feature_extraction.text import TfidfVectorizer\n",
    "from sklearn.preprocessing import LabelEncoder\n",
    "from sklearn.svm import SVC\n",
    "from sklearn.metrics import classification_report, confusion_matrix\n",
    "import matplotlib.pyplot as plt\n",
    "import seaborn as sns\n",
    "import scipy\n",
    "from sklearn.utils.class_weight import compute_class_weight\n",
    "import numpy as np\n",
    "from imblearn.over_sampling import SMOTE"
   ]
  },
  {
   "cell_type": "code",
   "execution_count": 11,
   "id": "73c4da1b-2a4e-43ab-923c-beeaacf8efd1",
   "metadata": {},
   "outputs": [
    {
     "name": "stderr",
     "output_type": "stream",
     "text": [
      "/tmp/ipykernel_16197/2634855390.py:4: SettingWithCopyWarning: \n",
      "A value is trying to be set on a copy of a slice from a DataFrame.\n",
      "Try using .loc[row_indexer,col_indexer] = value instead\n",
      "\n",
      "See the caveats in the documentation: https://pandas.pydata.org/pandas-docs/stable/user_guide/indexing.html#returning-a-view-versus-a-copy\n",
      "  df['target'] = df['target'].replace({1: 0, 3:1, 5: 2})\n"
     ]
    }
   ],
   "source": [
    "df = pd.read_csv(\"../data/data.csv\")\n",
    "\n",
    "df = prepare_df(df)\n",
    "\n",
    "X = df['features']\n",
    "y = df['target']\n",
    "\n",
    "label_encoder = LabelEncoder()\n",
    "y_encoded = label_encoder.fit_transform(y)\n",
    "\n",
    "ngram_features = TfidfVectorizer(max_features=5000, ngram_range=(1, 3))\n",
    "ngram_comments = TfidfVectorizer(max_features=5000, ngram_range=(1, 3))\n",
    "\n",
    "X_ngram_features = ngram_features.fit_transform(df['features'])\n",
    "X_ngram_comments = ngram_comments.fit_transform(df['comments'].fillna(''))\n",
    "\n",
    "X_combined = scipy.sparse.hstack([X_ngram_features, X_ngram_comments])"
   ]
  },
  {
   "cell_type": "code",
   "execution_count": 12,
   "id": "d5448167-05ca-4d3c-a501-049dbdf128cf",
   "metadata": {},
   "outputs": [],
   "source": [
    "X_train, X_test, y_train, y_test = train_test_split(X_combined, y_encoded, test_size=0.2, random_state=42, stratify=y_encoded)"
   ]
  },
  {
   "cell_type": "code",
   "execution_count": 20,
   "id": "b1107541-c14e-4dfc-839a-d20bc160e4bd",
   "metadata": {},
   "outputs": [],
   "source": [
    "smote = SMOTE(random_state=42)\n",
    "X_train_smote, y_train_smote = smote.fit_resample(X_train, y_train)\n",
    "\n",
    "class_weights_dict = {\n",
    "    0: 1,\n",
    "    1: 0.3, # best with 0.5\n",
    "    2: 1\n",
    "}\n",
    "\n",
    "svm_classifier = SVC(kernel='rbf', class_weight=class_weights_dict, C=1.0, random_state=42)\n",
    "svm_classifier.fit(X_train_smote, y_train_smote)\n",
    "\n",
    "y_pred = svm_classifier.predict(X_test)"
   ]
  },
  {
   "cell_type": "code",
   "execution_count": 21,
   "id": "8bbbb66e-0593-4557-a1d0-c443c5cf8f29",
   "metadata": {},
   "outputs": [
    {
     "name": "stdout",
     "output_type": "stream",
     "text": [
      "Classification Report:\n",
      "               precision    recall  f1-score   support\n",
      "\n",
      "        Easy       0.68      0.68      0.68       246\n",
      "      Medium       0.77      0.81      0.79       694\n",
      "        Hard       0.58      0.44      0.50       172\n",
      "\n",
      "    accuracy                           0.73      1112\n",
      "   macro avg       0.68      0.64      0.66      1112\n",
      "weighted avg       0.72      0.73      0.72      1112\n",
      "\n"
     ]
    },
    {
     "data": {
      "image/png": "[encoded data removed]",
      "text/plain": [
       "<Figure size 800x600 with 2 Axes>"
      ]
     },
     "metadata": {},
     "output_type": "display_data"
    }
   ],
   "source": [
    "print(\"Classification Report:\\n\", classification_report(y_test, y_pred, target_names=['Easy', 'Medium', 'Hard']))\n",
    "\n",
    "conf_mat = confusion_matrix(y_test, y_pred)\n",
    "\n",
    "plt.figure(figsize=(8, 6))\n",
    "sns.heatmap(conf_mat, annot=True, fmt='d', cmap='Blues', xticklabels=['Easy', 'Medium', 'Hard'], yticklabels=['Easy', 'Medium', 'Hard'])\n",
    "plt.xlabel('Predicted')\n",
    "plt.ylabel('Actual')\n",
    "plt.title('Confusion Matrix for SVM with Class Weights')\n",
    "plt.show()"
   ]
  },
  {
   "cell_type": "markdown",
   "id": "dbc51c54-a754-4142-9217-3bd2e77f216c",
   "metadata": {},
   "source": [
    "## Processed data"
   ]
  },
  {
   "cell_type": "code",
   "execution_count": 28,
   "id": "1433ba08-382d-46e0-b615-944baf4a4dad",
   "metadata": {},
   "outputs": [
    {
     "data": {
      "text/html": [
       "<div>\n",
       "<style scoped>\n",
       "    .dataframe tbody tr th:only-of-type {\n",
       "        vertical-align: middle;\n",
       "    }\n",
       "\n",
       "    .dataframe tbody tr th {\n",
       "        vertical-align: top;\n",
       "    }\n",
       "\n",
       "    .dataframe thead th {\n",
       "        text-align: right;\n",
       "    }\n",
       "</style>\n",
       "<table border=\"1\" class=\"dataframe\">\n",
       "  <thead>\n",
       "    <tr style=\"text-align: right;\">\n",
       "      <th></th>\n",
       "      <th>features</th>\n",
       "      <th>target</th>\n",
       "      <th>comments</th>\n",
       "      <th>has_tapa</th>\n",
       "      <th>has_nurimisaki</th>\n",
       "      <th>has_kompass</th>\n",
       "      <th>has_palindrome_(variante)</th>\n",
       "      <th>has_anti-queen_(variante)</th>\n",
       "      <th>has_10-in-9_(variante)</th>\n",
       "      <th>has_modifier_cells_(variante)</th>\n",
       "      <th>...</th>\n",
       "      <th>has_tomtom</th>\n",
       "      <th>has_statue_park</th>\n",
       "      <th>has_extra_regions_(variante)</th>\n",
       "      <th>has_logical</th>\n",
       "      <th>has_norinori</th>\n",
       "      <th>has_anti-knight_(variante)</th>\n",
       "      <th>has_daisho</th>\n",
       "      <th>has_earthquake_(variante)</th>\n",
       "      <th>has_diagonal_(variante)</th>\n",
       "      <th>has_cross_the_streams</th>\n",
       "    </tr>\n",
       "  </thead>\n",
       "  <tbody>\n",
       "    <tr>\n",
       "      <th>0</th>\n",
       "      <td>plato feeling unwell hypochondriac thermometer...</td>\n",
       "      <td>3</td>\n",
       "      <td>added comment work solution code</td>\n",
       "      <td>0</td>\n",
       "      <td>0</td>\n",
       "      <td>0</td>\n",
       "      <td>0</td>\n",
       "      <td>0</td>\n",
       "      <td>0</td>\n",
       "      <td>0</td>\n",
       "      <td>...</td>\n",
       "      <td>0</td>\n",
       "      <td>0</td>\n",
       "      <td>0</td>\n",
       "      <td>0</td>\n",
       "      <td>0</td>\n",
       "      <td>0</td>\n",
       "      <td>0</td>\n",
       "      <td>0</td>\n",
       "      <td>0</td>\n",
       "      <td>0</td>\n",
       "    </tr>\n",
       "    <tr>\n",
       "      <th>1</th>\n",
       "      <td>friend roman countryman lend ear come bury cae...</td>\n",
       "      <td>4</td>\n",
       "      <td>added roman numeral tag</td>\n",
       "      <td>0</td>\n",
       "      <td>0</td>\n",
       "      <td>0</td>\n",
       "      <td>0</td>\n",
       "      <td>0</td>\n",
       "      <td>0</td>\n",
       "      <td>0</td>\n",
       "      <td>...</td>\n",
       "      <td>0</td>\n",
       "      <td>0</td>\n",
       "      <td>0</td>\n",
       "      <td>0</td>\n",
       "      <td>0</td>\n",
       "      <td>0</td>\n",
       "      <td>0</td>\n",
       "      <td>0</td>\n",
       "      <td>0</td>\n",
       "      <td>0</td>\n",
       "    </tr>\n",
       "    <tr>\n",
       "      <th>2</th>\n",
       "      <td>ring killerlittle killer sudoku wessel strijks...</td>\n",
       "      <td>3</td>\n",
       "      <td>smistry thanks glad liked thanks setting nice ...</td>\n",
       "      <td>0</td>\n",
       "      <td>0</td>\n",
       "      <td>0</td>\n",
       "      <td>0</td>\n",
       "      <td>0</td>\n",
       "      <td>0</td>\n",
       "      <td>0</td>\n",
       "      <td>...</td>\n",
       "      <td>0</td>\n",
       "      <td>0</td>\n",
       "      <td>0</td>\n",
       "      <td>0</td>\n",
       "      <td>0</td>\n",
       "      <td>0</td>\n",
       "      <td>0</td>\n",
       "      <td>0</td>\n",
       "      <td>0</td>\n",
       "      <td>0</td>\n",
       "    </tr>\n",
       "    <tr>\n",
       "      <th>3</th>\n",
       "      <td>normal sudoku rule apply digit along thermomet...</td>\n",
       "      <td>4</td>\n",
       "      <td>great puzzle complex intricate enjoyable cleve...</td>\n",
       "      <td>0</td>\n",
       "      <td>0</td>\n",
       "      <td>0</td>\n",
       "      <td>0</td>\n",
       "      <td>0</td>\n",
       "      <td>0</td>\n",
       "      <td>0</td>\n",
       "      <td>...</td>\n",
       "      <td>0</td>\n",
       "      <td>0</td>\n",
       "      <td>0</td>\n",
       "      <td>0</td>\n",
       "      <td>0</td>\n",
       "      <td>0</td>\n",
       "      <td>0</td>\n",
       "      <td>0</td>\n",
       "      <td>0</td>\n",
       "      <td>0</td>\n",
       "    </tr>\n",
       "    <tr>\n",
       "      <th>4</th>\n",
       "      <td>normal sudoku rule apply cell that knight move...</td>\n",
       "      <td>3</td>\n",
       "      <td>enjoyable solve thanks puzzle</td>\n",
       "      <td>0</td>\n",
       "      <td>0</td>\n",
       "      <td>0</td>\n",
       "      <td>0</td>\n",
       "      <td>0</td>\n",
       "      <td>0</td>\n",
       "      <td>0</td>\n",
       "      <td>...</td>\n",
       "      <td>0</td>\n",
       "      <td>0</td>\n",
       "      <td>0</td>\n",
       "      <td>0</td>\n",
       "      <td>0</td>\n",
       "      <td>0</td>\n",
       "      <td>0</td>\n",
       "      <td>0</td>\n",
       "      <td>0</td>\n",
       "      <td>0</td>\n",
       "    </tr>\n",
       "  </tbody>\n",
       "</table>\n",
       "<p>5 rows × 173 columns</p>\n",
       "</div>"
      ],
      "text/plain": [
       "                                            features  target  \\\n",
       "0  plato feeling unwell hypochondriac thermometer...       3   \n",
       "1  friend roman countryman lend ear come bury cae...       4   \n",
       "2  ring killerlittle killer sudoku wessel strijks...       3   \n",
       "3  normal sudoku rule apply digit along thermomet...       4   \n",
       "4  normal sudoku rule apply cell that knight move...       3   \n",
       "\n",
       "                                            comments  has_tapa  \\\n",
       "0                   added comment work solution code         0   \n",
       "1                            added roman numeral tag         0   \n",
       "2  smistry thanks glad liked thanks setting nice ...         0   \n",
       "3  great puzzle complex intricate enjoyable cleve...         0   \n",
       "4                      enjoyable solve thanks puzzle         0   \n",
       "\n",
       "   has_nurimisaki  has_kompass  has_palindrome_(variante)  \\\n",
       "0               0            0                          0   \n",
       "1               0            0                          0   \n",
       "2               0            0                          0   \n",
       "3               0            0                          0   \n",
       "4               0            0                          0   \n",
       "\n",
       "   has_anti-queen_(variante)  has_10-in-9_(variante)  \\\n",
       "0                          0                       0   \n",
       "1                          0                       0   \n",
       "2                          0                       0   \n",
       "3                          0                       0   \n",
       "4                          0                       0   \n",
       "\n",
       "   has_modifier_cells_(variante)  ...  has_tomtom  has_statue_park  \\\n",
       "0                              0  ...           0                0   \n",
       "1                              0  ...           0                0   \n",
       "2                              0  ...           0                0   \n",
       "3                              0  ...           0                0   \n",
       "4                              0  ...           0                0   \n",
       "\n",
       "   has_extra_regions_(variante)  has_logical  has_norinori  \\\n",
       "0                             0            0             0   \n",
       "1                             0            0             0   \n",
       "2                             0            0             0   \n",
       "3                             0            0             0   \n",
       "4                             0            0             0   \n",
       "\n",
       "   has_anti-knight_(variante)  has_daisho  has_earthquake_(variante)  \\\n",
       "0                           0           0                          0   \n",
       "1                           0           0                          0   \n",
       "2                           0           0                          0   \n",
       "3                           0           0                          0   \n",
       "4                           0           0                          0   \n",
       "\n",
       "   has_diagonal_(variante)  has_cross_the_streams  \n",
       "0                        0                      0  \n",
       "1                        0                      0  \n",
       "2                        0                      0  \n",
       "3                        0                      0  \n",
       "4                        0                      0  \n",
       "\n",
       "[5 rows x 173 columns]"
      ]
     },
     "execution_count": 28,
     "metadata": {},
     "output_type": "execute_result"
    }
   ],
   "source": [
    "import pandas as pd\n",
    "from sklearn.model_selection import train_test_split\n",
    "from sklearn.feature_extraction.text import TfidfVectorizer\n",
    "from sklearn.preprocessing import LabelEncoder\n",
    "from sklearn.svm import SVC\n",
    "from sklearn.metrics import classification_report, confusion_matrix\n",
    "import matplotlib.pyplot as plt\n",
    "import seaborn as sns\n",
    "\n",
    "df = pd.read_csv(\"../data/data_processed.csv\")\n",
    "\n",
    "df.head()"
   ]
  },
  {
   "cell_type": "code",
   "execution_count": 29,
   "id": "b65184db-a3d5-4f64-8701-95c349620ac4",
   "metadata": {},
   "outputs": [
    {
     "name": "stderr",
     "output_type": "stream",
     "text": [
      "/tmp/ipykernel_16197/2634855390.py:4: SettingWithCopyWarning: \n",
      "A value is trying to be set on a copy of a slice from a DataFrame.\n",
      "Try using .loc[row_indexer,col_indexer] = value instead\n",
      "\n",
      "See the caveats in the documentation: https://pandas.pydata.org/pandas-docs/stable/user_guide/indexing.html#returning-a-view-versus-a-copy\n",
      "  df['target'] = df['target'].replace({1: 0, 3:1, 5: 2})\n"
     ]
    }
   ],
   "source": [
    "import scipy\n",
    "\n",
    "df = prepare_df(df)\n",
    "\n",
    "X = df['features']\n",
    "y = df['target'] \n",
    "\n",
    "label_encoder = LabelEncoder()\n",
    "y_encoded = label_encoder.fit_transform(y)\n",
    "\n",
    "ngram_features = TfidfVectorizer(max_features=5000, ngram_range=(1, 3))\n",
    "ngram_comments = TfidfVectorizer(max_features=5000, ngram_range=(1, 3))\n",
    "\n",
    "X_ngram_features = ngram_features.fit_transform(df['features'])\n",
    "X_ngram_comments = ngram_comments.fit_transform(df['comments'].fillna(''))\n",
    "\n",
    "X_combined = scipy.sparse.hstack([X_ngram_features, X_ngram_comments])"
   ]
  },
  {
   "cell_type": "code",
   "execution_count": 30,
   "id": "9cbf922a-2ff4-48a7-8dd4-12ce0915bf84",
   "metadata": {},
   "outputs": [],
   "source": [
    "X_train, X_test, y_train, y_test = train_test_split(X_combined, y_encoded, test_size=0.2, random_state=42, stratify=y_encoded)"
   ]
  },
  {
   "cell_type": "code",
   "execution_count": 31,
   "id": "5fc245de-49c4-46c9-a231-b8956e4bb4e7",
   "metadata": {},
   "outputs": [
    {
     "name": "stdout",
     "output_type": "stream",
     "text": [
      "Class Weights: {0: 1.6407506702412868, 1: 0.5195246179966044, 2: 2.1473684210526316}\n"
     ]
    }
   ],
   "source": [
    "from sklearn.utils.class_weight import compute_class_weight\n",
    "import numpy as np\n",
    "\n",
    "class_weights = compute_class_weight(class_weight='balanced', classes=np.unique(y_train), y=y_train)\n",
    "class_weights_dict = {i: class_weights[i] for i in range(len(class_weights))}\n",
    "\n",
    "print(f\"Class Weights: {class_weights_dict}\")"
   ]
  },
  {
   "cell_type": "code",
   "execution_count": 32,
   "id": "f7dea766-0dfe-48af-b556-1f7d459e0cc7",
   "metadata": {},
   "outputs": [],
   "source": [
    "svm_classifier = SVC(kernel='rbf', class_weight=class_weights_dict, C=1.0, random_state=42)\n",
    "\n",
    "svm_classifier.fit(X_train, y_train)\n",
    "\n",
    "y_pred = svm_classifier.predict(X_test)"
   ]
  },
  {
   "cell_type": "code",
   "execution_count": 33,
   "id": "765c3780-c52f-4687-8442-aa56a86e8432",
   "metadata": {},
   "outputs": [
    {
     "name": "stdout",
     "output_type": "stream",
     "text": [
      "Classification Report:\n",
      "               precision    recall  f1-score   support\n",
      "\n",
      "        Easy       0.76      0.49      0.59       186\n",
      "      Medium       0.75      0.90      0.82       590\n",
      "        Hard       0.63      0.41      0.50       143\n",
      "\n",
      "    accuracy                           0.74       919\n",
      "   macro avg       0.71      0.60      0.64       919\n",
      "weighted avg       0.74      0.74      0.72       919\n",
      "\n"
     ]
    },
    {
     "data": {
      "image/png": "[encoded data removed]",
      "text/plain": [
       "<Figure size 800x600 with 2 Axes>"
      ]
     },
     "metadata": {},
     "output_type": "display_data"
    }
   ],
   "source": [
    "print(\"Classification Report:\\n\", classification_report(y_test, y_pred, target_names=['Easy', 'Medium', 'Hard']))\n",
    "\n",
    "conf_mat = confusion_matrix(y_test, y_pred)\n",
    "\n",
    "plt.figure(figsize=(8, 6))\n",
    "sns.heatmap(conf_mat, annot=True, fmt='d', cmap='Blues', xticklabels=['Easy', 'Medium', 'Hard'], yticklabels=['Easy', 'Medium', 'Hard'])\n",
    "plt.xlabel('Predicted')\n",
    "plt.ylabel('Actual')\n",
    "plt.title('Confusion Matrix for SVM with Class Weights')\n",
    "plt.show()"
   ]
  },
  {
   "cell_type": "markdown",
   "id": "df122649-a9cb-4975-919f-2719dc76ea4e",
   "metadata": {},
   "source": [
    "## Test data augmentation"
   ]
  },
  {
   "cell_type": "markdown",
   "id": "33934635-04fe-4947-91d8-f939125f9ad8",
   "metadata": {},
   "source": [
    "### Only as a test, this is not correct approach"
   ]
  },
  {
   "cell_type": "code",
   "execution_count": 1,
   "id": "87dc9543-04ed-46e9-b6ea-31d24f88fea4",
   "metadata": {},
   "outputs": [],
   "source": [
    "import pandas as pd\n",
    "from sklearn.model_selection import train_test_split\n",
    "from sklearn.feature_extraction.text import TfidfVectorizer\n",
    "from sklearn.preprocessing import LabelEncoder\n",
    "from sklearn.svm import SVC\n",
    "from sklearn.metrics import classification_report, confusion_matrix\n",
    "import matplotlib.pyplot as plt\n",
    "import seaborn as sns\n",
    "import scipy\n",
    "from sklearn.utils.class_weight import compute_class_weight\n",
    "import numpy as np\n",
    "from imblearn.over_sampling import SMOTE"
   ]
  },
  {
   "cell_type": "code",
   "execution_count": 4,
   "id": "e13b0fe1-68c7-4933-8a9c-492d2f299436",
   "metadata": {},
   "outputs": [
    {
     "name": "stderr",
     "output_type": "stream",
     "text": [
      "/tmp/ipykernel_17908/1868238310.py:4: SettingWithCopyWarning: \n",
      "A value is trying to be set on a copy of a slice from a DataFrame.\n",
      "Try using .loc[row_indexer,col_indexer] = value instead\n",
      "\n",
      "See the caveats in the documentation: https://pandas.pydata.org/pandas-docs/stable/user_guide/indexing.html#returning-a-view-versus-a-copy\n",
      "  df['target'] = df['target'].replace({1: 0, 3: 1, 5: 2})\n"
     ]
    }
   ],
   "source": [
    "df = pd.read_csv(\"../data/data_processed.csv\")\n",
    "\n",
    "df = prepare_df(df)\n",
    "\n",
    "X = df['features']\n",
    "y = df['target']\n",
    "\n",
    "label_encoder = LabelEncoder()\n",
    "y_encoded = label_encoder.fit_transform(y)\n",
    "\n",
    "ngram_features = TfidfVectorizer(max_features=5000, ngram_range=(1, 3))\n",
    "ngram_comments = TfidfVectorizer(max_features=5000, ngram_range=(1, 3))\n",
    "\n",
    "X_ngram_features = ngram_features.fit_transform(df['features'])\n",
    "X_ngram_comments = ngram_comments.fit_transform(df['comments'].fillna(''))\n",
    "\n",
    "X_combined = scipy.sparse.hstack([X_ngram_features, X_ngram_comments])"
   ]
  },
  {
   "cell_type": "code",
   "execution_count": 5,
   "id": "9db48d98-47f8-4b25-8867-a17ef02b07cb",
   "metadata": {},
   "outputs": [],
   "source": [
    "X_train, X_test, y_train, y_test = train_test_split(X_combined, y_encoded, test_size=0.2, random_state=42, stratify=y_encoded)"
   ]
  },
  {
   "cell_type": "code",
   "execution_count": 14,
   "id": "7e744685-4604-40a0-aa6f-550887fed202",
   "metadata": {},
   "outputs": [],
   "source": [
    "smote = SMOTE(random_state=42)\n",
    "\n",
    "X_train_smote, y_train_smote = smote.fit_resample(X_train, y_train)\n",
    "X_test_smote, y_test_smote = smote.fit_resample(X_test, y_test)\n",
    "\n",
    "class_weights_dict = {\n",
    "    0: 1,\n",
    "    1: .3, \n",
    "    2: 1\n",
    "}\n",
    "\n",
    "svm_classifier = SVC(kernel='rbf', class_weight=class_weights_dict, C=1.0, random_state=42)\n",
    "svm_classifier.fit(X_train_smote, y_train_smote)\n",
    "\n",
    "y_pred = svm_classifier.predict(X_test_smote)"
   ]
  },
  {
   "cell_type": "code",
   "execution_count": 15,
   "id": "f3982244-9fe8-4060-a92b-376d6de3f695",
   "metadata": {},
   "outputs": [
    {
     "name": "stdout",
     "output_type": "stream",
     "text": [
      "Classification Report:\n",
      "               precision    recall  f1-score   support\n",
      "\n",
      "        Easy       0.84      0.77      0.80       590\n",
      "      Medium       0.66      0.86      0.75       590\n",
      "        Hard       0.89      0.69      0.78       590\n",
      "\n",
      "    accuracy                           0.77      1770\n",
      "   macro avg       0.80      0.77      0.78      1770\n",
      "weighted avg       0.80      0.77      0.78      1770\n",
      "\n"
     ]
    },
    {
     "data": {
      "image/png": "[encoded data removed]",
      "text/plain": [
       "<Figure size 800x600 with 2 Axes>"
      ]
     },
     "metadata": {},
     "output_type": "display_data"
    }
   ],
   "source": [
    "print(\"Classification Report:\\n\", classification_report(y_test_smote, y_pred, target_names=['Easy', 'Medium', 'Hard']))\n",
    "\n",
    "conf_mat = confusion_matrix(y_test_smote, y_pred)\n",
    "plt.figure(figsize=(8, 6))\n",
    "sns.heatmap(conf_mat, annot=True, fmt='d', cmap='Blues', xticklabels=['Easy', 'Medium', 'Hard'], yticklabels=['Easy', 'Medium', 'Hard'])\n",
    "plt.xlabel('Predicted')\n",
    "plt.ylabel('Actual')\n",
    "plt.title('Confusion Matrix for SVM with SMOTE applied to Train and Test')\n",
    "plt.show()"
   ]
  }
 ],
 "metadata": {
  "kernelspec": {
   "display_name": "Python 3 (ipykernel)",
   "language": "python",
   "name": "python3"
  },
  "language_info": {
   "codemirror_mode": {
    "name": "ipython",
    "version": 3
   },
   "file_extension": ".py",
   "mimetype": "text/x-python",
   "name": "python",
   "nbconvert_exporter": "python",
   "pygments_lexer": "ipython3",
   "version": "3.10.12"
  }
 },
 "nbformat": 4,
 "nbformat_minor": 5
}
