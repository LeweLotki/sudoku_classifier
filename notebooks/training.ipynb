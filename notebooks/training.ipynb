{
 "cells": [
  {
   "cell_type": "code",
   "execution_count": 1,
   "id": "8f9ec8c9-4d06-4853-850a-073be1c62549",
   "metadata": {},
   "outputs": [],
   "source": [
    "import sys\n",
    "\n",
    "src_dir = '../src'\n",
    "\n",
    "if src_dir not in sys.path:\n",
    "    sys.path.append(src_dir)"
   ]
  },
  {
   "cell_type": "markdown",
   "id": "8806f6aa-59dc-4b2c-ba61-da26357a54ba",
   "metadata": {},
   "source": [
    "## Dataloaders"
   ]
  },
  {
   "cell_type": "code",
   "execution_count": 2,
   "id": "ce21655e-a137-4123-9575-28078d6f0764",
   "metadata": {},
   "outputs": [],
   "source": [
    "import torch\n",
    "import torch.nn as nn\n",
    "import torch.optim as optim\n",
    "from torch.utils.data import DataLoader\n",
    "\n",
    "from classifier.dataloader.dataloader import create_dataloaders\n",
    "from classifier.models.simple_net import NeuralNetwork"
   ]
  },
  {
   "cell_type": "code",
   "execution_count": 3,
   "id": "7ee49628-cb6e-45cb-a64f-1a84221b6938",
   "metadata": {},
   "outputs": [
    {
     "data": {
      "text/plain": [
       "<torch._C.Generator at 0x7b410f5aebf0>"
      ]
     },
     "execution_count": 3,
     "metadata": {},
     "output_type": "execute_result"
    }
   ],
   "source": [
    "torch.manual_seed(0)"
   ]
  },
  {
   "cell_type": "code",
   "execution_count": 4,
   "id": "47a0cc62-c70b-448e-a212-f39a6560e3dd",
   "metadata": {},
   "outputs": [],
   "source": [
    "data_raw_path = '../data/data_raw.csv'\n",
    "batch_size = 32\n",
    "max_features = 1e4\n",
    "train_ratio = .7\n",
    "val_ratio = .15\n",
    "shuffle = True\n",
    "\n",
    "(\n",
    "\n",
    "    train_loader, \n",
    "    val_loader, \n",
    "    test_loader\n",
    "\n",
    ") = create_dataloaders(\n",
    "\n",
    "    csv_path=data_raw_path,\n",
    "    vectorization='tf-idf',\n",
    "    batch_size=batch_size,\n",
    "    max_features=int(max_features),\n",
    "    train_ratio=train_ratio,\n",
    "    val_ratio=val_ratio,\n",
    "    shuffle=shuffle\n",
    "\n",
    ")"
   ]
  },
  {
   "cell_type": "markdown",
   "id": "a319cdd2-2a3a-4def-a059-4715e7940745",
   "metadata": {},
   "source": [
    "## Training of simple dense net"
   ]
  },
  {
   "cell_type": "code",
   "execution_count": 5,
   "id": "a6736efc-c289-4c8c-90f1-3e759983d314",
   "metadata": {},
   "outputs": [],
   "source": [
    "learning_rate = 0.001\n",
    "epochs = 5\n",
    "\n",
    "input_size = int(max_features)\n",
    "hidden_sizes = [128, 64]\n",
    "\n",
    "model = NeuralNetwork(\n",
    "    input_size=input_size,\n",
    "    hidden_sizes=hidden_sizes\n",
    ")"
   ]
  },
  {
   "cell_type": "code",
   "execution_count": 6,
   "id": "08016c23-91c4-47f9-b5a7-509334673a7b",
   "metadata": {},
   "outputs": [],
   "source": [
    "criterion = nn.CrossEntropyLoss()\n",
    "optimizer = optim.Adam(model.parameters(), lr=learning_rate)"
   ]
  },
  {
   "cell_type": "code",
   "execution_count": 3,
   "id": "0dd8465b-f3bd-4c46-8605-3f236a25c7db",
   "metadata": {},
   "outputs": [],
   "source": [
    "from classifier.training_loop import train, evaluate"
   ]
  },
  {
   "cell_type": "code",
   "execution_count": 8,
   "id": "44312d7c-0e29-4ed1-a1d3-f17f49a9513f",
   "metadata": {},
   "outputs": [
    {
     "data": {
      "application/vnd.jupyter.widget-view+json": {
       "model_id": "d5e9d37724334ae492926ac05c8f3473",
       "version_major": 2,
       "version_minor": 0
      },
      "text/plain": [
       "Epoch 1/5:   0%|          | 0/219 [00:00<?, ?batch/s]"
      ]
     },
     "metadata": {},
     "output_type": "display_data"
    },
    {
     "data": {
      "application/vnd.jupyter.widget-view+json": {
       "model_id": "ede55b6934e04694b54ce2a366065915",
       "version_major": 2,
       "version_minor": 0
      },
      "text/plain": [
       "Epoch 2/5:   0%|          | 0/219 [00:00<?, ?batch/s]"
      ]
     },
     "metadata": {},
     "output_type": "display_data"
    },
    {
     "data": {
      "application/vnd.jupyter.widget-view+json": {
       "model_id": "ff49240e365d4069b99ed65d86755aa3",
       "version_major": 2,
       "version_minor": 0
      },
      "text/plain": [
       "Epoch 3/5:   0%|          | 0/219 [00:00<?, ?batch/s]"
      ]
     },
     "metadata": {},
     "output_type": "display_data"
    },
    {
     "data": {
      "application/vnd.jupyter.widget-view+json": {
       "model_id": "1fc96156517d45f0aaccc2fac97d2a67",
       "version_major": 2,
       "version_minor": 0
      },
      "text/plain": [
       "Epoch 4/5:   0%|          | 0/219 [00:00<?, ?batch/s]"
      ]
     },
     "metadata": {},
     "output_type": "display_data"
    },
    {
     "data": {
      "application/vnd.jupyter.widget-view+json": {
       "model_id": "023d49c4ed934a9db9e7aba809979af1",
       "version_major": 2,
       "version_minor": 0
      },
      "text/plain": [
       "Epoch 5/5:   0%|          | 0/219 [00:00<?, ?batch/s]"
      ]
     },
     "metadata": {},
     "output_type": "display_data"
    }
   ],
   "source": [
    "train(\n",
    "    model=model, \n",
    "    criterion=criterion, \n",
    "    optimizer=optimizer, \n",
    "    data_loader=train_loader, \n",
    "    epochs=epochs\n",
    ")"
   ]
  },
  {
   "cell_type": "code",
   "execution_count": 9,
   "id": "7de780b8-d030-4328-8d81-87762e6dd70f",
   "metadata": {},
   "outputs": [
    {
     "name": "stdout",
     "output_type": "stream",
     "text": [
      "Average Loss: 1.8722, Accuracy: 35.00%\n"
     ]
    }
   ],
   "source": [
    "average_loss, accuracy = evaluate(\n",
    "    model=model,\n",
    "    criterion=criterion,\n",
    "    data_loader=test_loader\n",
    ")"
   ]
  },
  {
   "cell_type": "markdown",
   "id": "80a0124a-6cfc-40ad-8b4a-8ac69215bfc2",
   "metadata": {},
   "source": [
    "## Convolutional network"
   ]
  },
  {
   "cell_type": "code",
   "execution_count": 3,
   "id": "78593c52-6533-4638-bc70-0ca21b38c766",
   "metadata": {},
   "outputs": [],
   "source": [
    "from classifier.models.conv_net import ConvolutionalNetwork"
   ]
  },
  {
   "cell_type": "code",
   "execution_count": 29,
   "id": "4f780a57-2aa6-4839-bdac-083bd82db70d",
   "metadata": {},
   "outputs": [],
   "source": [
    "learning_rate = 0.001\n",
    "epochs = 5\n",
    "\n",
    "input_size = int(max_features)\n",
    "\n",
    "model = ConvolutionalNetwork(\n",
    "    input_features=input_size,\n",
    ")"
   ]
  },
  {
   "cell_type": "code",
   "execution_count": 30,
   "id": "7a24a065-1242-412f-8cf7-82de513f409b",
   "metadata": {},
   "outputs": [],
   "source": [
    "criterion = nn.CrossEntropyLoss()\n",
    "optimizer = optim.Adam(model.parameters(), lr=learning_rate)"
   ]
  },
  {
   "cell_type": "code",
   "execution_count": 31,
   "id": "34fbe6de-cfbe-4708-b35d-5b10aa0d7c6d",
   "metadata": {},
   "outputs": [
    {
     "data": {
      "application/vnd.jupyter.widget-view+json": {
       "model_id": "fa0f4df4404147d0af0f370ba2696315",
       "version_major": 2,
       "version_minor": 0
      },
      "text/plain": [
       "Epoch 1/5:   0%|          | 0/219 [00:00<?, ?batch/s]"
      ]
     },
     "metadata": {},
     "output_type": "display_data"
    },
    {
     "data": {
      "application/vnd.jupyter.widget-view+json": {
       "model_id": "7141f497694546f6bd517110c4515e44",
       "version_major": 2,
       "version_minor": 0
      },
      "text/plain": [
       "Epoch 2/5:   0%|          | 0/219 [00:00<?, ?batch/s]"
      ]
     },
     "metadata": {},
     "output_type": "display_data"
    },
    {
     "data": {
      "application/vnd.jupyter.widget-view+json": {
       "model_id": "7a7bcccac78e4830bc98358977bcf352",
       "version_major": 2,
       "version_minor": 0
      },
      "text/plain": [
       "Epoch 3/5:   0%|          | 0/219 [00:00<?, ?batch/s]"
      ]
     },
     "metadata": {},
     "output_type": "display_data"
    },
    {
     "data": {
      "application/vnd.jupyter.widget-view+json": {
       "model_id": "27bc1a805ab848d2afe433d720c0442e",
       "version_major": 2,
       "version_minor": 0
      },
      "text/plain": [
       "Epoch 4/5:   0%|          | 0/219 [00:00<?, ?batch/s]"
      ]
     },
     "metadata": {},
     "output_type": "display_data"
    },
    {
     "data": {
      "application/vnd.jupyter.widget-view+json": {
       "model_id": "7951b50f919f483cabf26d5995ddb714",
       "version_major": 2,
       "version_minor": 0
      },
      "text/plain": [
       "Epoch 5/5:   0%|          | 0/219 [00:00<?, ?batch/s]"
      ]
     },
     "metadata": {},
     "output_type": "display_data"
    }
   ],
   "source": [
    "train(\n",
    "    model=model, \n",
    "    criterion=criterion, \n",
    "    optimizer=optimizer, \n",
    "    data_loader=train_loader, \n",
    "    epochs=epochs\n",
    ")"
   ]
  },
  {
   "cell_type": "code",
   "execution_count": 32,
   "id": "8a52c64e-7a30-4a25-b212-6ec51d34fc22",
   "metadata": {},
   "outputs": [
    {
     "name": "stdout",
     "output_type": "stream",
     "text": [
      "Average Loss: 1.8833, Accuracy: 35.53%\n"
     ]
    }
   ],
   "source": [
    "average_loss, accuracy = evaluate(\n",
    "    model=model,\n",
    "    criterion=criterion,\n",
    "    data_loader=test_loader\n",
    ")"
   ]
  },
  {
   "cell_type": "markdown",
   "id": "892d1bba-ecce-4886-8be5-752ab9527845",
   "metadata": {},
   "source": [
    "## Embedding network"
   ]
  },
  {
   "cell_type": "code",
   "execution_count": 4,
   "id": "350a2c8e-7c8e-4461-9f00-de7c53faa301",
   "metadata": {},
   "outputs": [],
   "source": [
    "from classifier.models.embedded_net import EmbeddingConvolutionalNetwork"
   ]
  },
  {
   "cell_type": "code",
   "execution_count": 5,
   "id": "65b56a53-e897-4e43-9f75-1bc6867ef34c",
   "metadata": {},
   "outputs": [
    {
     "name": "stderr",
     "output_type": "stream",
     "text": [
      "/home/lewelotki/.cache/pypoetry/virtualenvs/sudoku-classifier-ImMA5acm-py3.10/lib/python3.10/site-packages/sklearn/feature_extraction/text.py:521: UserWarning: The parameter 'token_pattern' will not be used since 'tokenizer' is not None'\n",
      "  warnings.warn(\n"
     ]
    }
   ],
   "source": [
    "data_raw_path = '../data/data_raw.csv'\n",
    "batch_size = 32\n",
    "max_features = 1e4\n",
    "train_ratio = .7\n",
    "val_ratio = .15\n",
    "shuffle = True\n",
    "\n",
    "(\n",
    "\n",
    "    train_loader, \n",
    "    val_loader, \n",
    "    test_loader\n",
    "\n",
    ") = create_dataloaders(\n",
    "\n",
    "    csv_path=data_raw_path,\n",
    "    vectorization='count',\n",
    "    batch_size=batch_size,\n",
    "    max_features=int(max_features),\n",
    "    train_ratio=train_ratio,\n",
    "    val_ratio=val_ratio,\n",
    "    shuffle=shuffle\n",
    "\n",
    ")"
   ]
  },
  {
   "cell_type": "code",
   "execution_count": 6,
   "id": "e429715d-09ca-4601-88e2-ed8b71e91e9d",
   "metadata": {},
   "outputs": [],
   "source": [
    "learning_rate = 0.001\n",
    "epochs = 5\n",
    "\n",
    "vocab_size = 10000  \n",
    "embedding_dim = 100 \n",
    "sequence_length = 100\n",
    "\n",
    "model = EmbeddingConvolutionalNetwork(\n",
    "    vocab_size=vocab_size,\n",
    "    embedding_dim=embedding_dim,\n",
    "    sequence_length=sequence_length\n",
    ")"
   ]
  },
  {
   "cell_type": "code",
   "execution_count": 7,
   "id": "986c550e-0ba0-4b13-8b18-73f114c0ab18",
   "metadata": {},
   "outputs": [],
   "source": [
    "criterion = nn.CrossEntropyLoss()\n",
    "optimizer = optim.Adam(model.parameters(), lr=learning_rate)"
   ]
  },
  {
   "cell_type": "code",
   "execution_count": 8,
   "id": "196b4812-8609-47e3-9d1e-d28dacfeb730",
   "metadata": {},
   "outputs": [
    {
     "data": {
      "application/vnd.jupyter.widget-view+json": {
       "model_id": "a0f403e01741465e9d75360334a0c792",
       "version_major": 2,
       "version_minor": 0
      },
      "text/plain": [
       "Epoch 1/5:   0%|          | 0/219 [00:00<?, ?batch/s]"
      ]
     },
     "metadata": {},
     "output_type": "display_data"
    },
    {
     "data": {
      "application/vnd.jupyter.widget-view+json": {
       "model_id": "0b9d7c868cef4bebb45cbc646fd4ee64",
       "version_major": 2,
       "version_minor": 0
      },
      "text/plain": [
       "Epoch 2/5:   0%|          | 0/219 [00:00<?, ?batch/s]"
      ]
     },
     "metadata": {},
     "output_type": "display_data"
    },
    {
     "data": {
      "application/vnd.jupyter.widget-view+json": {
       "model_id": "13896071e5764e72999894f6df5d9280",
       "version_major": 2,
       "version_minor": 0
      },
      "text/plain": [
       "Epoch 3/5:   0%|          | 0/219 [00:00<?, ?batch/s]"
      ]
     },
     "metadata": {},
     "output_type": "display_data"
    },
    {
     "data": {
      "application/vnd.jupyter.widget-view+json": {
       "model_id": "77bccf1396a942909771a67818b4b27b",
       "version_major": 2,
       "version_minor": 0
      },
      "text/plain": [
       "Epoch 4/5:   0%|          | 0/219 [00:00<?, ?batch/s]"
      ]
     },
     "metadata": {},
     "output_type": "display_data"
    },
    {
     "data": {
      "application/vnd.jupyter.widget-view+json": {
       "model_id": "4002eb2306cc43c792258ba0b16a386b",
       "version_major": 2,
       "version_minor": 0
      },
      "text/plain": [
       "Epoch 5/5:   0%|          | 0/219 [00:00<?, ?batch/s]"
      ]
     },
     "metadata": {},
     "output_type": "display_data"
    }
   ],
   "source": [
    "train(\n",
    "    model=model, \n",
    "    criterion=criterion, \n",
    "    optimizer=optimizer, \n",
    "    data_loader=train_loader, \n",
    "    epochs=epochs\n",
    ")"
   ]
  },
  {
   "cell_type": "code",
   "execution_count": 9,
   "id": "f60a7f8b-b546-405b-bb63-aa722428297b",
   "metadata": {},
   "outputs": [
    {
     "name": "stdout",
     "output_type": "stream",
     "text": [
      "Average Loss: 1.5296, Accuracy: 34.07%\n"
     ]
    }
   ],
   "source": [
    "average_loss, accuracy = evaluate(\n",
    "    model=model,\n",
    "    criterion=criterion,\n",
    "    data_loader=test_loader\n",
    ")"
   ]
  }
 ],
 "metadata": {
  "kernelspec": {
   "display_name": "Python 3 (ipykernel)",
   "language": "python",
   "name": "python3"
  },
  "language_info": {
   "codemirror_mode": {
    "name": "ipython",
    "version": 3
   },
   "file_extension": ".py",
   "mimetype": "text/x-python",
   "name": "python",
   "nbconvert_exporter": "python",
   "pygments_lexer": "ipython3",
   "version": "3.10.12"
  }
 },
 "nbformat": 4,
 "nbformat_minor": 5
}
