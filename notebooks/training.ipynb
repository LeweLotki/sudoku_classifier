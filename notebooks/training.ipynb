{
 "cells": [
  {
   "cell_type": "code",
   "execution_count": 1,
   "id": "8f9ec8c9-4d06-4853-850a-073be1c62549",
   "metadata": {},
   "outputs": [],
   "source": [
    "import sys\n",
    "\n",
    "src_dir = '../src'\n",
    "\n",
    "if src_dir not in sys.path:\n",
    "    sys.path.append(src_dir)"
   ]
  },
  {
   "cell_type": "markdown",
   "id": "a319cdd2-2a3a-4def-a059-4715e7940745",
   "metadata": {},
   "source": [
    "## Training of simple dense net"
   ]
  },
  {
   "cell_type": "code",
   "execution_count": 2,
   "id": "ce21655e-a137-4123-9575-28078d6f0764",
   "metadata": {},
   "outputs": [],
   "source": [
    "import torch\n",
    "import torch.nn as nn\n",
    "import torch.optim as optim\n",
    "from torch.utils.data import DataLoader\n",
    "\n",
    "from classifier.dataloader.dataloader import create_dataloaders\n",
    "from classifier.models.simple_net import NeuralNetwork"
   ]
  },
  {
   "cell_type": "code",
   "execution_count": 21,
   "id": "7ee49628-cb6e-45cb-a64f-1a84221b6938",
   "metadata": {},
   "outputs": [
    {
     "data": {
      "text/plain": [
       "<torch._C.Generator at 0x795bfb5b2c10>"
      ]
     },
     "execution_count": 21,
     "metadata": {},
     "output_type": "execute_result"
    }
   ],
   "source": [
    "torch.manual_seed(0)"
   ]
  },
  {
   "cell_type": "code",
   "execution_count": 22,
   "id": "47a0cc62-c70b-448e-a212-f39a6560e3dd",
   "metadata": {},
   "outputs": [],
   "source": [
    "data_raw_path = '../data/data_raw.csv'\n",
    "batch_size = 32\n",
    "max_features = 1e4\n",
    "train_ratio = .7\n",
    "val_ratio = .15\n",
    "shuffle = True\n",
    "\n",
    "(\n",
    "\n",
    "    train_loader, \n",
    "    val_loader, \n",
    "    test_loader\n",
    "\n",
    ") = create_dataloaders(\n",
    "\n",
    "    csv_path=data_raw_path,\n",
    "    batch_size=batch_size,\n",
    "    max_features=int(max_features),\n",
    "    train_ratio=train_ratio,\n",
    "    val_ratio=val_ratio,\n",
    "    shuffle=shuffle\n",
    "\n",
    ")"
   ]
  },
  {
   "cell_type": "code",
   "execution_count": 23,
   "id": "a6736efc-c289-4c8c-90f1-3e759983d314",
   "metadata": {},
   "outputs": [],
   "source": [
    "learning_rate = 0.001\n",
    "epochs = 5\n",
    "\n",
    "input_size = int(max_features)\n",
    "hidden_sizes = [128, 64]\n",
    "\n",
    "model = NeuralNetwork(\n",
    "    input_size=input_size,\n",
    "    hidden_sizes=hidden_sizes\n",
    ")"
   ]
  },
  {
   "cell_type": "code",
   "execution_count": 24,
   "id": "08016c23-91c4-47f9-b5a7-509334673a7b",
   "metadata": {},
   "outputs": [],
   "source": [
    "criterion = nn.CrossEntropyLoss()\n",
    "optimizer = optim.Adam(model.parameters(), lr=learning_rate)"
   ]
  },
  {
   "cell_type": "code",
   "execution_count": 25,
   "id": "0dd8465b-f3bd-4c46-8605-3f236a25c7db",
   "metadata": {},
   "outputs": [],
   "source": [
    "from classifier.training_loop import train, evaluate"
   ]
  },
  {
   "cell_type": "code",
   "execution_count": 26,
   "id": "44312d7c-0e29-4ed1-a1d3-f17f49a9513f",
   "metadata": {},
   "outputs": [
    {
     "data": {
      "application/vnd.jupyter.widget-view+json": {
       "model_id": "7b5b0f6928a84c078f8ce434103786fd",
       "version_major": 2,
       "version_minor": 0
      },
      "text/plain": [
       "Epoch 1/5:   0%|          | 0/219 [00:00<?, ?batch/s]"
      ]
     },
     "metadata": {},
     "output_type": "display_data"
    },
    {
     "data": {
      "application/vnd.jupyter.widget-view+json": {
       "model_id": "7f7dafd001da4dfd8c31a28ba32b14bc",
       "version_major": 2,
       "version_minor": 0
      },
      "text/plain": [
       "Epoch 2/5:   0%|          | 0/219 [00:00<?, ?batch/s]"
      ]
     },
     "metadata": {},
     "output_type": "display_data"
    },
    {
     "data": {
      "application/vnd.jupyter.widget-view+json": {
       "model_id": "bb1b3084a66a4fbea1b9dbb870930950",
       "version_major": 2,
       "version_minor": 0
      },
      "text/plain": [
       "Epoch 3/5:   0%|          | 0/219 [00:00<?, ?batch/s]"
      ]
     },
     "metadata": {},
     "output_type": "display_data"
    },
    {
     "data": {
      "application/vnd.jupyter.widget-view+json": {
       "model_id": "74407cc054674f7abfe84179a96d75f2",
       "version_major": 2,
       "version_minor": 0
      },
      "text/plain": [
       "Epoch 4/5:   0%|          | 0/219 [00:00<?, ?batch/s]"
      ]
     },
     "metadata": {},
     "output_type": "display_data"
    },
    {
     "data": {
      "application/vnd.jupyter.widget-view+json": {
       "model_id": "7ffecf5d39774d5b8dae67119258484a",
       "version_major": 2,
       "version_minor": 0
      },
      "text/plain": [
       "Epoch 5/5:   0%|          | 0/219 [00:00<?, ?batch/s]"
      ]
     },
     "metadata": {},
     "output_type": "display_data"
    }
   ],
   "source": [
    "train(\n",
    "    model=model, \n",
    "    criterion=criterion, \n",
    "    optimizer=optimizer, \n",
    "    data_loader=train_loader, \n",
    "    epochs=5\n",
    ")"
   ]
  },
  {
   "cell_type": "code",
   "execution_count": 27,
   "id": "7de780b8-d030-4328-8d81-87762e6dd70f",
   "metadata": {},
   "outputs": [
    {
     "name": "stdout",
     "output_type": "stream",
     "text": [
      "Average Loss: 1.8722, Accuracy: 35.00%\n"
     ]
    }
   ],
   "source": [
    "average_loss, accuracy = evaluate(\n",
    "    model=model,\n",
    "    criterion=criterion,\n",
    "    data_loader=test_loader\n",
    ")"
   ]
  }
 ],
 "metadata": {
  "kernelspec": {
   "display_name": "Python 3 (ipykernel)",
   "language": "python",
   "name": "python3"
  },
  "language_info": {
   "codemirror_mode": {
    "name": "ipython",
    "version": 3
   },
   "file_extension": ".py",
   "mimetype": "text/x-python",
   "name": "python",
   "nbconvert_exporter": "python",
   "pygments_lexer": "ipython3",
   "version": "3.10.12"
  }
 },
 "nbformat": 4,
 "nbformat_minor": 5
}
