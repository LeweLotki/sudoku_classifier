{
 "cells": [
  {
   "cell_type": "markdown",
   "id": "fed868f3-423b-4f8b-bdf2-fb2502fa1268",
   "metadata": {},
   "source": [
    "Notebook for basic data cleaning(regex + tokenization). Data are loaded from database, and then saved to ../data/data_raw.csv(features + target) and to ./data/data.csv(features + target + binary columns + comments)"
   ]
  },
  {
   "cell_type": "markdown",
   "id": "d9884fcd-4a93-40a3-8cff-82b7e87fd3ad",
   "metadata": {},
   "source": [
    "## Loading data"
   ]
  },
  {
   "cell_type": "code",
   "execution_count": 1,
   "id": "3dd07a26-e7d9-4a27-81f3-c5556400700d",
   "metadata": {},
   "outputs": [],
   "source": [
    "import pandas as pd\n",
    "from sqlalchemy import create_engine"
   ]
  },
  {
   "cell_type": "code",
   "execution_count": 2,
   "id": "a6b22a70-29d9-4891-8ae0-09e2f62e07a5",
   "metadata": {},
   "outputs": [],
   "source": [
    "db_path = '../database.db'\n",
    "engine = create_engine(f'sqlite:///{db_path}')"
   ]
  },
  {
   "cell_type": "code",
   "execution_count": 3,
   "id": "da4433eb-9e69-4b67-a18f-9798213b06b8",
   "metadata": {},
   "outputs": [
    {
     "data": {
      "text/html": [
       "<div>\n",
       "<style scoped>\n",
       "    .dataframe tbody tr th:only-of-type {\n",
       "        vertical-align: middle;\n",
       "    }\n",
       "\n",
       "    .dataframe tbody tr th {\n",
       "        vertical-align: top;\n",
       "    }\n",
       "\n",
       "    .dataframe thead th {\n",
       "        text-align: right;\n",
       "    }\n",
       "</style>\n",
       "<table border=\"1\" class=\"dataframe\">\n",
       "  <thead>\n",
       "    <tr style=\"text-align: right;\">\n",
       "      <th></th>\n",
       "      <th>id</th>\n",
       "      <th>code</th>\n",
       "      <th>rules</th>\n",
       "      <th>difficulty</th>\n",
       "      <th>types</th>\n",
       "      <th>comments</th>\n",
       "    </tr>\n",
       "  </thead>\n",
       "  <tbody>\n",
       "    <tr>\n",
       "      <th>0</th>\n",
       "      <td>1</td>\n",
       "      <td>000001</td>\n",
       "      <td>Ordnen Sie allen Buchstaben des Alphabets eine...</td>\n",
       "      <td>4</td>\n",
       "      <td>ABCtje</td>\n",
       "      <td>am 15. August 2021, 13:32 Uhr von uvo_mod Labe...</td>\n",
       "    </tr>\n",
       "    <tr>\n",
       "      <th>1</th>\n",
       "      <td>2</td>\n",
       "      <td>000002</td>\n",
       "      <td>Teile beide Diagramme in 12 unterschiedliche P...</td>\n",
       "      <td>2</td>\n",
       "      <td>Unknown</td>\n",
       "      <td>am 29. Oktober 2023, 17:40 Uhr von damasosos92...</td>\n",
       "    </tr>\n",
       "    <tr>\n",
       "      <th>2</th>\n",
       "      <td>3</td>\n",
       "      <td>000003</td>\n",
       "      <td>Befindet sich zwischen zwei Ziffern ein schwar...</td>\n",
       "      <td>2</td>\n",
       "      <td>Kropki</td>\n",
       "      <td>am 19. Mai 2023, 06:02 Uhr von Dandelo @alewis...</td>\n",
       "    </tr>\n",
       "    <tr>\n",
       "      <th>3</th>\n",
       "      <td>4</td>\n",
       "      <td>000006</td>\n",
       "      <td>Hier noch die Anleitungen zu den beiden Einzel...</td>\n",
       "      <td>3</td>\n",
       "      <td>Hochhäuser, Fillomino</td>\n",
       "      <td>am 27. Juni 2023, 06:29 Uhr von DiMono Penpa+ ...</td>\n",
       "    </tr>\n",
       "    <tr>\n",
       "      <th>4</th>\n",
       "      <td>5</td>\n",
       "      <td>000009</td>\n",
       "      <td>Und das ist zu tun: In das Diagramm sollen Zif...</td>\n",
       "      <td>1</td>\n",
       "      <td>Magisches Labyrinth</td>\n",
       "      <td>am 20. März 2024, 18:39 Uhr von DanSkorne Enjo...</td>\n",
       "    </tr>\n",
       "  </tbody>\n",
       "</table>\n",
       "</div>"
      ],
      "text/plain": [
       "   id    code                                              rules  difficulty  \\\n",
       "0   1  000001  Ordnen Sie allen Buchstaben des Alphabets eine...           4   \n",
       "1   2  000002  Teile beide Diagramme in 12 unterschiedliche P...           2   \n",
       "2   3  000003  Befindet sich zwischen zwei Ziffern ein schwar...           2   \n",
       "3   4  000006  Hier noch die Anleitungen zu den beiden Einzel...           3   \n",
       "4   5  000009  Und das ist zu tun: In das Diagramm sollen Zif...           1   \n",
       "\n",
       "                   types                                           comments  \n",
       "0                 ABCtje  am 15. August 2021, 13:32 Uhr von uvo_mod Labe...  \n",
       "1                Unknown  am 29. Oktober 2023, 17:40 Uhr von damasosos92...  \n",
       "2                 Kropki  am 19. Mai 2023, 06:02 Uhr von Dandelo @alewis...  \n",
       "3  Hochhäuser, Fillomino  am 27. Juni 2023, 06:29 Uhr von DiMono Penpa+ ...  \n",
       "4    Magisches Labyrinth  am 20. März 2024, 18:39 Uhr von DanSkorne Enjo...  "
      ]
     },
     "execution_count": 3,
     "metadata": {},
     "output_type": "execute_result"
    }
   ],
   "source": [
    "df = pd.read_sql_table('puzzles', con=engine)\n",
    "df.head()"
   ]
  },
  {
   "cell_type": "code",
   "execution_count": 4,
   "id": "62e7b05b-eca5-4263-b78d-312806bf5180",
   "metadata": {},
   "outputs": [
    {
     "name": "stdout",
     "output_type": "stream",
     "text": [
      "Unique values in 'difficulty' column after mapping and reloading:\n",
      "[4 2 3 1 5]\n"
     ]
    }
   ],
   "source": [
    "unique_difficulties = df['difficulty'].unique()\n",
    "\n",
    "print(\"Unique values in 'difficulty' column after mapping and reloading:\")\n",
    "print(unique_difficulties)"
   ]
  },
  {
   "cell_type": "markdown",
   "id": "f8e3f2d8-5e08-4190-96b5-e13ea91c4819",
   "metadata": {},
   "source": [
    "## Data imbalance"
   ]
  },
  {
   "cell_type": "code",
   "execution_count": 5,
   "id": "d4897e5d-c501-4672-ae93-0e1c4f53c3be",
   "metadata": {},
   "outputs": [],
   "source": [
    "import matplotlib.pyplot as plt"
   ]
  },
  {
   "cell_type": "code",
   "execution_count": 6,
   "id": "ba687601-cc1a-4dd3-ae7c-4d673e85dd11",
   "metadata": {},
   "outputs": [],
   "source": [
    "def display_data_imbalance(df):\n",
    "    difficulty_counts = df['difficulty'].value_counts(normalize=True) * 100 \n",
    "    \n",
    "    plt.figure(figsize=(6, 6)) \n",
    "    plt.pie(\n",
    "        difficulty_counts, \n",
    "        labels=difficulty_counts.index, \n",
    "        autopct='%1.1f%%',  \n",
    "        startangle=140,     \n",
    "    )\n",
    "    plt.title('Distribution of Puzzle Difficulty Levels')\n",
    "    plt.axis('equal')\n",
    "    plt.show()"
   ]
  },
  {
   "cell_type": "code",
   "execution_count": 7,
   "id": "e89fb65a-c5b0-4846-8db1-2b1d49d0f3cb",
   "metadata": {},
   "outputs": [
    {
     "data": {
      "image/png": "[encoded data removed]",
      "text/plain": [
       "<Figure size 600x600 with 1 Axes>"
      ]
     },
     "metadata": {},
     "output_type": "display_data"
    }
   ],
   "source": [
    "display_data_imbalance(df)"
   ]
  },
  {
   "cell_type": "markdown",
   "id": "06742485-b8f7-4446-b921-65f7f9aab7aa",
   "metadata": {},
   "source": [
    "## Dropping non-english rule sets"
   ]
  },
  {
   "cell_type": "code",
   "execution_count": 5,
   "id": "ba370af3-d045-415e-ac91-ff96879c45f4",
   "metadata": {},
   "outputs": [],
   "source": [
    "from langdetect import detect, DetectorFactory"
   ]
  },
  {
   "cell_type": "code",
   "execution_count": 6,
   "id": "20c60d30-cf6b-4cb4-8beb-f69b680d157d",
   "metadata": {},
   "outputs": [],
   "source": [
    "DetectorFactory.seed = 0"
   ]
  },
  {
   "cell_type": "code",
   "execution_count": 7,
   "id": "7e7b0c12-cf36-4fef-a6c6-a0570c95d2e3",
   "metadata": {},
   "outputs": [],
   "source": [
    "def is_english(text):\n",
    "    try:\n",
    "        return detect(text) == 'en'\n",
    "    except:\n",
    "        return False"
   ]
  },
  {
   "cell_type": "code",
   "execution_count": 8,
   "id": "f51ca08e-b8e5-4559-82ab-a434c7772234",
   "metadata": {},
   "outputs": [
    {
     "name": "stdout",
     "output_type": "stream",
     "text": [
      "Number of rows with English rules: 10999\n"
     ]
    }
   ],
   "source": [
    "df = df[df['rules'].apply(is_english)]\n",
    "\n",
    "print(\"Number of rows with English rules:\", len(df))"
   ]
  },
  {
   "cell_type": "code",
   "execution_count": 9,
   "id": "7545ba9a-d813-48a0-bcc1-7b8731d3c733",
   "metadata": {},
   "outputs": [
    {
     "data": {
      "text/html": [
       "<div>\n",
       "<style scoped>\n",
       "    .dataframe tbody tr th:only-of-type {\n",
       "        vertical-align: middle;\n",
       "    }\n",
       "\n",
       "    .dataframe tbody tr th {\n",
       "        vertical-align: top;\n",
       "    }\n",
       "\n",
       "    .dataframe thead th {\n",
       "        text-align: right;\n",
       "    }\n",
       "</style>\n",
       "<table border=\"1\" class=\"dataframe\">\n",
       "  <thead>\n",
       "    <tr style=\"text-align: right;\">\n",
       "      <th></th>\n",
       "      <th>id</th>\n",
       "      <th>code</th>\n",
       "      <th>rules</th>\n",
       "      <th>difficulty</th>\n",
       "      <th>types</th>\n",
       "      <th>comments</th>\n",
       "    </tr>\n",
       "  </thead>\n",
       "  <tbody>\n",
       "    <tr>\n",
       "      <th>0</th>\n",
       "      <td>1</td>\n",
       "      <td>000001</td>\n",
       "      <td>Ordnen Sie allen Buchstaben des Alphabets eine...</td>\n",
       "      <td>4</td>\n",
       "      <td>ABCtje</td>\n",
       "      <td>am 15. August 2021, 13:32 Uhr von uvo_mod Labe...</td>\n",
       "    </tr>\n",
       "    <tr>\n",
       "      <th>1</th>\n",
       "      <td>2</td>\n",
       "      <td>000002</td>\n",
       "      <td>Teile beide Diagramme in 12 unterschiedliche P...</td>\n",
       "      <td>2</td>\n",
       "      <td>Unknown</td>\n",
       "      <td>am 29. Oktober 2023, 17:40 Uhr von damasosos92...</td>\n",
       "    </tr>\n",
       "    <tr>\n",
       "      <th>5</th>\n",
       "      <td>6</td>\n",
       "      <td>00000A</td>\n",
       "      <td>Ordnen Sie allen Buchstaben des Alphabets eine...</td>\n",
       "      <td>4</td>\n",
       "      <td>ABCtje</td>\n",
       "      <td>am 15. August 2021, 13:37 Uhr von uvo_mod Labe...</td>\n",
       "    </tr>\n",
       "    <tr>\n",
       "      <th>12</th>\n",
       "      <td>13</td>\n",
       "      <td>00000N</td>\n",
       "      <td>Teile das L in 9 unterschiedliche Pentomino un...</td>\n",
       "      <td>2</td>\n",
       "      <td>Unknown</td>\n",
       "      <td>am 15. Oktober 2022, 06:15 Uhr von Richard Add...</td>\n",
       "    </tr>\n",
       "    <tr>\n",
       "      <th>13</th>\n",
       "      <td>14</td>\n",
       "      <td>00000O</td>\n",
       "      <td>Solve online inF-PuzzlesorCtC-app(thx Nick Smi...</td>\n",
       "      <td>4</td>\n",
       "      <td>Sudoku, Consecutive (Variante)</td>\n",
       "      <td>am 9. Oktober 2022, 08:48 Uhr von Richard Adde...</td>\n",
       "    </tr>\n",
       "  </tbody>\n",
       "</table>\n",
       "</div>"
      ],
      "text/plain": [
       "    id    code                                              rules  difficulty  \\\n",
       "0    1  000001  Ordnen Sie allen Buchstaben des Alphabets eine...           4   \n",
       "1    2  000002  Teile beide Diagramme in 12 unterschiedliche P...           2   \n",
       "5    6  00000A  Ordnen Sie allen Buchstaben des Alphabets eine...           4   \n",
       "12  13  00000N  Teile das L in 9 unterschiedliche Pentomino un...           2   \n",
       "13  14  00000O  Solve online inF-PuzzlesorCtC-app(thx Nick Smi...           4   \n",
       "\n",
       "                             types  \\\n",
       "0                           ABCtje   \n",
       "1                          Unknown   \n",
       "5                           ABCtje   \n",
       "12                         Unknown   \n",
       "13  Sudoku, Consecutive (Variante)   \n",
       "\n",
       "                                             comments  \n",
       "0   am 15. August 2021, 13:32 Uhr von uvo_mod Labe...  \n",
       "1   am 29. Oktober 2023, 17:40 Uhr von damasosos92...  \n",
       "5   am 15. August 2021, 13:37 Uhr von uvo_mod Labe...  \n",
       "12  am 15. Oktober 2022, 06:15 Uhr von Richard Add...  \n",
       "13  am 9. Oktober 2022, 08:48 Uhr von Richard Adde...  "
      ]
     },
     "execution_count": 9,
     "metadata": {},
     "output_type": "execute_result"
    }
   ],
   "source": [
    "df.head()"
   ]
  },
  {
   "cell_type": "code",
   "execution_count": 13,
   "id": "c10dc493-afb2-4027-9cbe-d7856c139ea9",
   "metadata": {},
   "outputs": [
    {
     "data": {
      "image/png": "[encoded data removed]",
      "text/plain": [
       "<Figure size 600x600 with 1 Axes>"
      ]
     },
     "metadata": {},
     "output_type": "display_data"
    }
   ],
   "source": [
    "display_data_imbalance(df)"
   ]
  },
  {
   "cell_type": "markdown",
   "id": "66690ca2-a1e2-4a21-91dd-19ca4d7b9468",
   "metadata": {},
   "source": [
    "## Taking 10000 instances from dataframe"
   ]
  },
  {
   "cell_type": "code",
   "execution_count": 10,
   "id": "677b38e8-d2a0-4c9a-aa06-52b496ce36e0",
   "metadata": {},
   "outputs": [
    {
     "name": "stdout",
     "output_type": "stream",
     "text": [
      "Number of instances in the DataFrame: 10000\n"
     ]
    }
   ],
   "source": [
    "df = df.tail(10000)\n",
    "\n",
    "print(\"Number of instances in the DataFrame:\", len(df))"
   ]
  },
  {
   "cell_type": "code",
   "execution_count": 11,
   "id": "563c7990-ef57-4e0a-a9e8-610ea8d7725d",
   "metadata": {},
   "outputs": [
    {
     "data": {
      "text/html": [
       "<div>\n",
       "<style scoped>\n",
       "    .dataframe tbody tr th:only-of-type {\n",
       "        vertical-align: middle;\n",
       "    }\n",
       "\n",
       "    .dataframe tbody tr th {\n",
       "        vertical-align: top;\n",
       "    }\n",
       "\n",
       "    .dataframe thead th {\n",
       "        text-align: right;\n",
       "    }\n",
       "</style>\n",
       "<table border=\"1\" class=\"dataframe\">\n",
       "  <thead>\n",
       "    <tr style=\"text-align: right;\">\n",
       "      <th></th>\n",
       "      <th>id</th>\n",
       "      <th>code</th>\n",
       "      <th>rules</th>\n",
       "      <th>difficulty</th>\n",
       "      <th>types</th>\n",
       "      <th>comments</th>\n",
       "    </tr>\n",
       "  </thead>\n",
       "  <tbody>\n",
       "    <tr>\n",
       "      <th>3824</th>\n",
       "      <td>3825</td>\n",
       "      <td>0004QD</td>\n",
       "      <td>Plato is feeling unwell. As a hypochondriac, h...</td>\n",
       "      <td>3</td>\n",
       "      <td>Sudoku, Thermo (Variante), Primzahlen (Thema)</td>\n",
       "      <td>am 18. November 2020, 11:40 Uhr von steelwool ...</td>\n",
       "    </tr>\n",
       "    <tr>\n",
       "      <th>3826</th>\n",
       "      <td>3827</td>\n",
       "      <td>0004QH</td>\n",
       "      <td>\"Friends, Romans, countrymen, lend me your ear...</td>\n",
       "      <td>4</td>\n",
       "      <td>Sudoku, Roman Numerals (Variante), XV (Variante)</td>\n",
       "      <td>am 31. März 2024, 04:19 Uhr von RockyRoer Adde...</td>\n",
       "    </tr>\n",
       "    <tr>\n",
       "      <th>3827</th>\n",
       "      <td>3828</td>\n",
       "      <td>0004QI</td>\n",
       "      <td>The standard Yin-Yang rules apply.</td>\n",
       "      <td>2</td>\n",
       "      <td>Yin und Yang</td>\n",
       "      <td>am 9. Dezember 2020, 02:39 Uhr von AsilG Tough...</td>\n",
       "    </tr>\n",
       "    <tr>\n",
       "      <th>3829</th>\n",
       "      <td>3830</td>\n",
       "      <td>0004QL</td>\n",
       "      <td>PenpaStandard Sudoku Rules apply to the final ...</td>\n",
       "      <td>3</td>\n",
       "      <td>Sudoku, Diagonal (Variante), Killer (Variante)</td>\n",
       "      <td>am 13. November 2023, 08:17 Uhr von jwmpuz Wha...</td>\n",
       "    </tr>\n",
       "    <tr>\n",
       "      <th>3830</th>\n",
       "      <td>3831</td>\n",
       "      <td>0004QM</td>\n",
       "      <td>The Ring (Killer/Little Killer Sudoku) by Wess...</td>\n",
       "      <td>3</td>\n",
       "      <td>Sudoku</td>\n",
       "      <td>am 18. November 2020, 09:02 Uhr von smistry @s...</td>\n",
       "    </tr>\n",
       "  </tbody>\n",
       "</table>\n",
       "</div>"
      ],
      "text/plain": [
       "        id    code                                              rules  \\\n",
       "3824  3825  0004QD  Plato is feeling unwell. As a hypochondriac, h...   \n",
       "3826  3827  0004QH  \"Friends, Romans, countrymen, lend me your ear...   \n",
       "3827  3828  0004QI                 The standard Yin-Yang rules apply.   \n",
       "3829  3830  0004QL  PenpaStandard Sudoku Rules apply to the final ...   \n",
       "3830  3831  0004QM  The Ring (Killer/Little Killer Sudoku) by Wess...   \n",
       "\n",
       "      difficulty                                             types  \\\n",
       "3824           3     Sudoku, Thermo (Variante), Primzahlen (Thema)   \n",
       "3826           4  Sudoku, Roman Numerals (Variante), XV (Variante)   \n",
       "3827           2                                      Yin und Yang   \n",
       "3829           3    Sudoku, Diagonal (Variante), Killer (Variante)   \n",
       "3830           3                                            Sudoku   \n",
       "\n",
       "                                               comments  \n",
       "3824  am 18. November 2020, 11:40 Uhr von steelwool ...  \n",
       "3826  am 31. März 2024, 04:19 Uhr von RockyRoer Adde...  \n",
       "3827  am 9. Dezember 2020, 02:39 Uhr von AsilG Tough...  \n",
       "3829  am 13. November 2023, 08:17 Uhr von jwmpuz Wha...  \n",
       "3830  am 18. November 2020, 09:02 Uhr von smistry @s...  "
      ]
     },
     "execution_count": 11,
     "metadata": {},
     "output_type": "execute_result"
    }
   ],
   "source": [
    "df.head()"
   ]
  },
  {
   "cell_type": "code",
   "execution_count": 16,
   "id": "5359921a-53de-4c57-a151-b4e21757969e",
   "metadata": {},
   "outputs": [
    {
     "data": {
      "image/png": "[encoded data removed]",
      "text/plain": [
       "<Figure size 600x600 with 1 Axes>"
      ]
     },
     "metadata": {},
     "output_type": "display_data"
    }
   ],
   "source": [
    "display_data_imbalance(df)"
   ]
  },
  {
   "cell_type": "markdown",
   "id": "1bb4edc6-5596-4c59-9683-868936792494",
   "metadata": {},
   "source": [
    "## Remove non-ASCII"
   ]
  },
  {
   "cell_type": "code",
   "execution_count": 12,
   "id": "194bd30d-0908-4ba6-b3d2-d9c38168548a",
   "metadata": {},
   "outputs": [],
   "source": [
    "import re"
   ]
  },
  {
   "cell_type": "code",
   "execution_count": 14,
   "id": "9aa6d9e9-654b-43ca-8c31-e8f6cdbd0727",
   "metadata": {},
   "outputs": [],
   "source": [
    "def remove_non_ascii(text):\n",
    "    # Remove non-ASCII characters\n",
    "    text = re.sub(r'[^\\x00-\\x7F]+', '', text)\n",
    "    \n",
    "    # Remove non-English characters (retain only letters, numbers, and common punctuation)\n",
    "    text = re.sub(r'[^A-Za-z0-9\\s.,?!\\'\\\"-]+', '', text)\n",
    "    \n",
    "    # Remove additional unwanted characters like newlines, tabs, etc.\n",
    "    text = re.sub(r'[\\n\\r\\t]+', ' ', text)\n",
    "\n",
    "    text = text.strip()\n",
    "    \n",
    "    return text"
   ]
  },
  {
   "cell_type": "code",
   "execution_count": 15,
   "id": "96fb8aa6-45ec-450c-8ef5-6442a0467305",
   "metadata": {},
   "outputs": [
    {
     "name": "stdout",
     "output_type": "stream",
     "text": [
      "Number of instances in the DataFrame: 10000\n"
     ]
    }
   ],
   "source": [
    "df['rules'] = df['rules'].apply(lambda x: remove_non_ascii(x) if isinstance(x, str) else x)\n",
    "\n",
    "print(\"Number of instances in the DataFrame:\", len(df))"
   ]
  },
  {
   "cell_type": "code",
   "execution_count": 16,
   "id": "cd1ed738-7c91-4474-b439-a13c4369266b",
   "metadata": {},
   "outputs": [
    {
     "data": {
      "text/html": [
       "<div>\n",
       "<style scoped>\n",
       "    .dataframe tbody tr th:only-of-type {\n",
       "        vertical-align: middle;\n",
       "    }\n",
       "\n",
       "    .dataframe tbody tr th {\n",
       "        vertical-align: top;\n",
       "    }\n",
       "\n",
       "    .dataframe thead th {\n",
       "        text-align: right;\n",
       "    }\n",
       "</style>\n",
       "<table border=\"1\" class=\"dataframe\">\n",
       "  <thead>\n",
       "    <tr style=\"text-align: right;\">\n",
       "      <th></th>\n",
       "      <th>id</th>\n",
       "      <th>code</th>\n",
       "      <th>rules</th>\n",
       "      <th>difficulty</th>\n",
       "      <th>types</th>\n",
       "      <th>comments</th>\n",
       "    </tr>\n",
       "  </thead>\n",
       "  <tbody>\n",
       "    <tr>\n",
       "      <th>3824</th>\n",
       "      <td>3825</td>\n",
       "      <td>0004QD</td>\n",
       "      <td>Plato is feeling unwell. As a hypochondriac, h...</td>\n",
       "      <td>3</td>\n",
       "      <td>Sudoku, Thermo (Variante), Primzahlen (Thema)</td>\n",
       "      <td>am 18. November 2020, 11:40 Uhr von steelwool ...</td>\n",
       "    </tr>\n",
       "    <tr>\n",
       "      <th>3826</th>\n",
       "      <td>3827</td>\n",
       "      <td>0004QH</td>\n",
       "      <td>\"Friends, Romans, countrymen, lend me your ear...</td>\n",
       "      <td>4</td>\n",
       "      <td>Sudoku, Roman Numerals (Variante), XV (Variante)</td>\n",
       "      <td>am 31. März 2024, 04:19 Uhr von RockyRoer Adde...</td>\n",
       "    </tr>\n",
       "    <tr>\n",
       "      <th>3827</th>\n",
       "      <td>3828</td>\n",
       "      <td>0004QI</td>\n",
       "      <td>The standard Yin-Yang rules apply.</td>\n",
       "      <td>2</td>\n",
       "      <td>Yin und Yang</td>\n",
       "      <td>am 9. Dezember 2020, 02:39 Uhr von AsilG Tough...</td>\n",
       "    </tr>\n",
       "    <tr>\n",
       "      <th>3829</th>\n",
       "      <td>3830</td>\n",
       "      <td>0004QL</td>\n",
       "      <td>PenpaStandard Sudoku Rules apply to the final ...</td>\n",
       "      <td>3</td>\n",
       "      <td>Sudoku, Diagonal (Variante), Killer (Variante)</td>\n",
       "      <td>am 13. November 2023, 08:17 Uhr von jwmpuz Wha...</td>\n",
       "    </tr>\n",
       "    <tr>\n",
       "      <th>3830</th>\n",
       "      <td>3831</td>\n",
       "      <td>0004QM</td>\n",
       "      <td>The Ring KillerLittle Killer Sudoku by Wessel ...</td>\n",
       "      <td>3</td>\n",
       "      <td>Sudoku</td>\n",
       "      <td>am 18. November 2020, 09:02 Uhr von smistry @s...</td>\n",
       "    </tr>\n",
       "  </tbody>\n",
       "</table>\n",
       "</div>"
      ],
      "text/plain": [
       "        id    code                                              rules  \\\n",
       "3824  3825  0004QD  Plato is feeling unwell. As a hypochondriac, h...   \n",
       "3826  3827  0004QH  \"Friends, Romans, countrymen, lend me your ear...   \n",
       "3827  3828  0004QI                 The standard Yin-Yang rules apply.   \n",
       "3829  3830  0004QL  PenpaStandard Sudoku Rules apply to the final ...   \n",
       "3830  3831  0004QM  The Ring KillerLittle Killer Sudoku by Wessel ...   \n",
       "\n",
       "      difficulty                                             types  \\\n",
       "3824           3     Sudoku, Thermo (Variante), Primzahlen (Thema)   \n",
       "3826           4  Sudoku, Roman Numerals (Variante), XV (Variante)   \n",
       "3827           2                                      Yin und Yang   \n",
       "3829           3    Sudoku, Diagonal (Variante), Killer (Variante)   \n",
       "3830           3                                            Sudoku   \n",
       "\n",
       "                                               comments  \n",
       "3824  am 18. November 2020, 11:40 Uhr von steelwool ...  \n",
       "3826  am 31. März 2024, 04:19 Uhr von RockyRoer Adde...  \n",
       "3827  am 9. Dezember 2020, 02:39 Uhr von AsilG Tough...  \n",
       "3829  am 13. November 2023, 08:17 Uhr von jwmpuz Wha...  \n",
       "3830  am 18. November 2020, 09:02 Uhr von smistry @s...  "
      ]
     },
     "execution_count": 16,
     "metadata": {},
     "output_type": "execute_result"
    }
   ],
   "source": [
    "df.head()"
   ]
  },
  {
   "cell_type": "markdown",
   "id": "5408343b-0da2-4b24-a216-80d539fee085",
   "metadata": {},
   "source": [
    "## Remove stopwords"
   ]
  },
  {
   "cell_type": "code",
   "execution_count": 17,
   "id": "6ad124c9-5603-4645-b798-2bac59eb5f80",
   "metadata": {},
   "outputs": [
    {
     "name": "stderr",
     "output_type": "stream",
     "text": [
      "[nltk_data] Downloading package stopwords to\n",
      "[nltk_data]     /home/lewelotki/nltk_data...\n",
      "[nltk_data]   Package stopwords is already up-to-date!\n"
     ]
    }
   ],
   "source": [
    "import nltk\n",
    "nltk.download('stopwords')\n",
    "\n",
    "from nltk.corpus import stopwords"
   ]
  },
  {
   "cell_type": "code",
   "execution_count": 18,
   "id": "715e8e4a-71b4-4aed-83d7-54ccf39db927",
   "metadata": {},
   "outputs": [],
   "source": [
    "stop_words = set(stopwords.words('english'))"
   ]
  },
  {
   "cell_type": "code",
   "execution_count": 19,
   "id": "544fdaac-ff92-4256-b5de-434b4ba97ba4",
   "metadata": {},
   "outputs": [],
   "source": [
    "def remove_stopwords(text):\n",
    "    \n",
    "    text = text.lower()\n",
    "    \n",
    "    text = re.sub(r'\\b\\w{1}\\b', '', text) \n",
    "    \n",
    "    cleaned_words = [word for word in text.split() if word not in stop_words]\n",
    "    cleaned_text = ' '.join(cleaned_words)\n",
    "    \n",
    "    return cleaned_text"
   ]
  },
  {
   "cell_type": "code",
   "execution_count": 20,
   "id": "4842155e-8de7-4c39-8415-afd928ae7da3",
   "metadata": {},
   "outputs": [
    {
     "data": {
      "text/html": [
       "<div>\n",
       "<style scoped>\n",
       "    .dataframe tbody tr th:only-of-type {\n",
       "        vertical-align: middle;\n",
       "    }\n",
       "\n",
       "    .dataframe tbody tr th {\n",
       "        vertical-align: top;\n",
       "    }\n",
       "\n",
       "    .dataframe thead th {\n",
       "        text-align: right;\n",
       "    }\n",
       "</style>\n",
       "<table border=\"1\" class=\"dataframe\">\n",
       "  <thead>\n",
       "    <tr style=\"text-align: right;\">\n",
       "      <th></th>\n",
       "      <th>id</th>\n",
       "      <th>code</th>\n",
       "      <th>rules</th>\n",
       "      <th>difficulty</th>\n",
       "      <th>types</th>\n",
       "      <th>comments</th>\n",
       "    </tr>\n",
       "  </thead>\n",
       "  <tbody>\n",
       "    <tr>\n",
       "      <th>3824</th>\n",
       "      <td>3825</td>\n",
       "      <td>0004QD</td>\n",
       "      <td>plato feeling unwell. hypochondriac, thermomet...</td>\n",
       "      <td>3</td>\n",
       "      <td>Sudoku, Thermo (Variante), Primzahlen (Thema)</td>\n",
       "      <td>am 18. November 2020, 11:40 Uhr von steelwool ...</td>\n",
       "    </tr>\n",
       "    <tr>\n",
       "      <th>3826</th>\n",
       "      <td>3827</td>\n",
       "      <td>0004QH</td>\n",
       "      <td>\"friends, romans, countrymen, lend ears come b...</td>\n",
       "      <td>4</td>\n",
       "      <td>Sudoku, Roman Numerals (Variante), XV (Variante)</td>\n",
       "      <td>am 31. März 2024, 04:19 Uhr von RockyRoer Adde...</td>\n",
       "    </tr>\n",
       "    <tr>\n",
       "      <th>3827</th>\n",
       "      <td>3828</td>\n",
       "      <td>0004QI</td>\n",
       "      <td>standard yin-yang rules apply.</td>\n",
       "      <td>2</td>\n",
       "      <td>Yin und Yang</td>\n",
       "      <td>am 9. Dezember 2020, 02:39 Uhr von AsilG Tough...</td>\n",
       "    </tr>\n",
       "    <tr>\n",
       "      <th>3829</th>\n",
       "      <td>3830</td>\n",
       "      <td>0004QL</td>\n",
       "      <td>penpastandard sudoku rules apply final numeric...</td>\n",
       "      <td>3</td>\n",
       "      <td>Sudoku, Diagonal (Variante), Killer (Variante)</td>\n",
       "      <td>am 13. November 2023, 08:17 Uhr von jwmpuz Wha...</td>\n",
       "    </tr>\n",
       "    <tr>\n",
       "      <th>3830</th>\n",
       "      <td>3831</td>\n",
       "      <td>0004QM</td>\n",
       "      <td>ring killerlittle killer sudoku wessel strijks...</td>\n",
       "      <td>3</td>\n",
       "      <td>Sudoku</td>\n",
       "      <td>am 18. November 2020, 09:02 Uhr von smistry @s...</td>\n",
       "    </tr>\n",
       "  </tbody>\n",
       "</table>\n",
       "</div>"
      ],
      "text/plain": [
       "        id    code                                              rules  \\\n",
       "3824  3825  0004QD  plato feeling unwell. hypochondriac, thermomet...   \n",
       "3826  3827  0004QH  \"friends, romans, countrymen, lend ears come b...   \n",
       "3827  3828  0004QI                     standard yin-yang rules apply.   \n",
       "3829  3830  0004QL  penpastandard sudoku rules apply final numeric...   \n",
       "3830  3831  0004QM  ring killerlittle killer sudoku wessel strijks...   \n",
       "\n",
       "      difficulty                                             types  \\\n",
       "3824           3     Sudoku, Thermo (Variante), Primzahlen (Thema)   \n",
       "3826           4  Sudoku, Roman Numerals (Variante), XV (Variante)   \n",
       "3827           2                                      Yin und Yang   \n",
       "3829           3    Sudoku, Diagonal (Variante), Killer (Variante)   \n",
       "3830           3                                            Sudoku   \n",
       "\n",
       "                                               comments  \n",
       "3824  am 18. November 2020, 11:40 Uhr von steelwool ...  \n",
       "3826  am 31. März 2024, 04:19 Uhr von RockyRoer Adde...  \n",
       "3827  am 9. Dezember 2020, 02:39 Uhr von AsilG Tough...  \n",
       "3829  am 13. November 2023, 08:17 Uhr von jwmpuz Wha...  \n",
       "3830  am 18. November 2020, 09:02 Uhr von smistry @s...  "
      ]
     },
     "execution_count": 20,
     "metadata": {},
     "output_type": "execute_result"
    }
   ],
   "source": [
    "df['rules'] = df['rules'].apply(lambda x: remove_stopwords(x) if isinstance(x, str) else x)\n",
    "df.head()"
   ]
  },
  {
   "cell_type": "markdown",
   "id": "7d21dd4b-cdb1-4600-88ba-11698e91defe",
   "metadata": {},
   "source": [
    "## Remove punctuation"
   ]
  },
  {
   "cell_type": "code",
   "execution_count": 21,
   "id": "0ac8a406-fd5f-4f7c-9a12-a33136d69a01",
   "metadata": {},
   "outputs": [],
   "source": [
    "import string"
   ]
  },
  {
   "cell_type": "code",
   "execution_count": 22,
   "id": "2de7fa6a-ff31-43cd-bde0-ff6bf8941ae6",
   "metadata": {},
   "outputs": [],
   "source": [
    "def remove_punctuation(text):\n",
    "    text = re.sub(f'[{re.escape(string.punctuation)}]', '', text)\n",
    "    return text"
   ]
  },
  {
   "cell_type": "code",
   "execution_count": 23,
   "id": "4157a099-b67c-4629-b4ef-6253fd73e22b",
   "metadata": {},
   "outputs": [
    {
     "data": {
      "text/html": [
       "<div>\n",
       "<style scoped>\n",
       "    .dataframe tbody tr th:only-of-type {\n",
       "        vertical-align: middle;\n",
       "    }\n",
       "\n",
       "    .dataframe tbody tr th {\n",
       "        vertical-align: top;\n",
       "    }\n",
       "\n",
       "    .dataframe thead th {\n",
       "        text-align: right;\n",
       "    }\n",
       "</style>\n",
       "<table border=\"1\" class=\"dataframe\">\n",
       "  <thead>\n",
       "    <tr style=\"text-align: right;\">\n",
       "      <th></th>\n",
       "      <th>id</th>\n",
       "      <th>code</th>\n",
       "      <th>rules</th>\n",
       "      <th>difficulty</th>\n",
       "      <th>types</th>\n",
       "      <th>comments</th>\n",
       "    </tr>\n",
       "  </thead>\n",
       "  <tbody>\n",
       "    <tr>\n",
       "      <th>3824</th>\n",
       "      <td>3825</td>\n",
       "      <td>0004QD</td>\n",
       "      <td>plato feeling unwell hypochondriac thermometer...</td>\n",
       "      <td>3</td>\n",
       "      <td>Sudoku, Thermo (Variante), Primzahlen (Thema)</td>\n",
       "      <td>am 18. November 2020, 11:40 Uhr von steelwool ...</td>\n",
       "    </tr>\n",
       "    <tr>\n",
       "      <th>3826</th>\n",
       "      <td>3827</td>\n",
       "      <td>0004QH</td>\n",
       "      <td>friends romans countrymen lend ears come bury ...</td>\n",
       "      <td>4</td>\n",
       "      <td>Sudoku, Roman Numerals (Variante), XV (Variante)</td>\n",
       "      <td>am 31. März 2024, 04:19 Uhr von RockyRoer Adde...</td>\n",
       "    </tr>\n",
       "    <tr>\n",
       "      <th>3827</th>\n",
       "      <td>3828</td>\n",
       "      <td>0004QI</td>\n",
       "      <td>standard yinyang rules apply</td>\n",
       "      <td>2</td>\n",
       "      <td>Yin und Yang</td>\n",
       "      <td>am 9. Dezember 2020, 02:39 Uhr von AsilG Tough...</td>\n",
       "    </tr>\n",
       "    <tr>\n",
       "      <th>3829</th>\n",
       "      <td>3830</td>\n",
       "      <td>0004QL</td>\n",
       "      <td>penpastandard sudoku rules apply final numeric...</td>\n",
       "      <td>3</td>\n",
       "      <td>Sudoku, Diagonal (Variante), Killer (Variante)</td>\n",
       "      <td>am 13. November 2023, 08:17 Uhr von jwmpuz Wha...</td>\n",
       "    </tr>\n",
       "    <tr>\n",
       "      <th>3830</th>\n",
       "      <td>3831</td>\n",
       "      <td>0004QM</td>\n",
       "      <td>ring killerlittle killer sudoku wessel strijks...</td>\n",
       "      <td>3</td>\n",
       "      <td>Sudoku</td>\n",
       "      <td>am 18. November 2020, 09:02 Uhr von smistry @s...</td>\n",
       "    </tr>\n",
       "  </tbody>\n",
       "</table>\n",
       "</div>"
      ],
      "text/plain": [
       "        id    code                                              rules  \\\n",
       "3824  3825  0004QD  plato feeling unwell hypochondriac thermometer...   \n",
       "3826  3827  0004QH  friends romans countrymen lend ears come bury ...   \n",
       "3827  3828  0004QI                       standard yinyang rules apply   \n",
       "3829  3830  0004QL  penpastandard sudoku rules apply final numeric...   \n",
       "3830  3831  0004QM  ring killerlittle killer sudoku wessel strijks...   \n",
       "\n",
       "      difficulty                                             types  \\\n",
       "3824           3     Sudoku, Thermo (Variante), Primzahlen (Thema)   \n",
       "3826           4  Sudoku, Roman Numerals (Variante), XV (Variante)   \n",
       "3827           2                                      Yin und Yang   \n",
       "3829           3    Sudoku, Diagonal (Variante), Killer (Variante)   \n",
       "3830           3                                            Sudoku   \n",
       "\n",
       "                                               comments  \n",
       "3824  am 18. November 2020, 11:40 Uhr von steelwool ...  \n",
       "3826  am 31. März 2024, 04:19 Uhr von RockyRoer Adde...  \n",
       "3827  am 9. Dezember 2020, 02:39 Uhr von AsilG Tough...  \n",
       "3829  am 13. November 2023, 08:17 Uhr von jwmpuz Wha...  \n",
       "3830  am 18. November 2020, 09:02 Uhr von smistry @s...  "
      ]
     },
     "execution_count": 23,
     "metadata": {},
     "output_type": "execute_result"
    }
   ],
   "source": [
    "df['rules'] = df['rules'].apply(lambda x: remove_punctuation(x) if isinstance(x, str) else x)\n",
    "df.head()"
   ]
  },
  {
   "cell_type": "markdown",
   "id": "38911506-40b3-4617-96c4-2b9cd3e53544",
   "metadata": {},
   "source": [
    "## Lemmatization and tokenization"
   ]
  },
  {
   "cell_type": "code",
   "execution_count": 24,
   "id": "1f144e9a-893d-4702-890d-905a327a0abc",
   "metadata": {},
   "outputs": [],
   "source": [
    "from nltk.tokenize import word_tokenize\n",
    "from nltk.stem import WordNetLemmatizer"
   ]
  },
  {
   "cell_type": "code",
   "execution_count": 25,
   "id": "98a460a4-fa70-41cf-9551-bb774279289a",
   "metadata": {},
   "outputs": [
    {
     "name": "stderr",
     "output_type": "stream",
     "text": [
      "[nltk_data] Downloading package punkt to /home/lewelotki/nltk_data...\n",
      "[nltk_data]   Package punkt is already up-to-date!\n",
      "[nltk_data] Downloading package wordnet to\n",
      "[nltk_data]     /home/lewelotki/nltk_data...\n",
      "[nltk_data]   Package wordnet is already up-to-date!\n",
      "[nltk_data] Downloading package omw-1.4 to\n",
      "[nltk_data]     /home/lewelotki/nltk_data...\n",
      "[nltk_data]   Package omw-1.4 is already up-to-date!\n"
     ]
    },
    {
     "data": {
      "text/plain": [
       "True"
      ]
     },
     "execution_count": 25,
     "metadata": {},
     "output_type": "execute_result"
    }
   ],
   "source": [
    "nltk.download('punkt')\n",
    "nltk.download('wordnet')\n",
    "nltk.download('omw-1.4')"
   ]
  },
  {
   "cell_type": "code",
   "execution_count": 26,
   "id": "ca5615fa-1dde-420d-a588-aa8a47dbf4aa",
   "metadata": {},
   "outputs": [],
   "source": [
    "lemmatizer = WordNetLemmatizer()"
   ]
  },
  {
   "cell_type": "code",
   "execution_count": 27,
   "id": "81833cf8-056c-40cf-ad43-a4add9658a1c",
   "metadata": {},
   "outputs": [],
   "source": [
    "def tokenize_and_lemmatize(text):\n",
    "    \n",
    "    tokens = word_tokenize(text)\n",
    "    lemmatized_tokens = [lemmatizer.lemmatize(token) for token in tokens]\n",
    "    \n",
    "    return lemmatized_tokens"
   ]
  },
  {
   "cell_type": "code",
   "execution_count": 28,
   "id": "fcf2d1b3-8485-4594-b781-0b1a65951ded",
   "metadata": {},
   "outputs": [
    {
     "data": {
      "text/html": [
       "<div>\n",
       "<style scoped>\n",
       "    .dataframe tbody tr th:only-of-type {\n",
       "        vertical-align: middle;\n",
       "    }\n",
       "\n",
       "    .dataframe tbody tr th {\n",
       "        vertical-align: top;\n",
       "    }\n",
       "\n",
       "    .dataframe thead th {\n",
       "        text-align: right;\n",
       "    }\n",
       "</style>\n",
       "<table border=\"1\" class=\"dataframe\">\n",
       "  <thead>\n",
       "    <tr style=\"text-align: right;\">\n",
       "      <th></th>\n",
       "      <th>id</th>\n",
       "      <th>code</th>\n",
       "      <th>rules</th>\n",
       "      <th>difficulty</th>\n",
       "      <th>types</th>\n",
       "      <th>comments</th>\n",
       "    </tr>\n",
       "  </thead>\n",
       "  <tbody>\n",
       "    <tr>\n",
       "      <th>3824</th>\n",
       "      <td>3825</td>\n",
       "      <td>0004QD</td>\n",
       "      <td>plato feeling unwell hypochondriac thermometer...</td>\n",
       "      <td>3</td>\n",
       "      <td>Sudoku, Thermo (Variante), Primzahlen (Thema)</td>\n",
       "      <td>am 18. November 2020, 11:40 Uhr von steelwool ...</td>\n",
       "    </tr>\n",
       "    <tr>\n",
       "      <th>3826</th>\n",
       "      <td>3827</td>\n",
       "      <td>0004QH</td>\n",
       "      <td>friend roman countryman lend ear come bury cae...</td>\n",
       "      <td>4</td>\n",
       "      <td>Sudoku, Roman Numerals (Variante), XV (Variante)</td>\n",
       "      <td>am 31. März 2024, 04:19 Uhr von RockyRoer Adde...</td>\n",
       "    </tr>\n",
       "    <tr>\n",
       "      <th>3827</th>\n",
       "      <td>3828</td>\n",
       "      <td>0004QI</td>\n",
       "      <td>standard yinyang rule apply</td>\n",
       "      <td>2</td>\n",
       "      <td>Yin und Yang</td>\n",
       "      <td>am 9. Dezember 2020, 02:39 Uhr von AsilG Tough...</td>\n",
       "    </tr>\n",
       "    <tr>\n",
       "      <th>3829</th>\n",
       "      <td>3830</td>\n",
       "      <td>0004QL</td>\n",
       "      <td>penpastandard sudoku rule apply final numerica...</td>\n",
       "      <td>3</td>\n",
       "      <td>Sudoku, Diagonal (Variante), Killer (Variante)</td>\n",
       "      <td>am 13. November 2023, 08:17 Uhr von jwmpuz Wha...</td>\n",
       "    </tr>\n",
       "    <tr>\n",
       "      <th>3830</th>\n",
       "      <td>3831</td>\n",
       "      <td>0004QM</td>\n",
       "      <td>ring killerlittle killer sudoku wessel strijks...</td>\n",
       "      <td>3</td>\n",
       "      <td>Sudoku</td>\n",
       "      <td>am 18. November 2020, 09:02 Uhr von smistry @s...</td>\n",
       "    </tr>\n",
       "  </tbody>\n",
       "</table>\n",
       "</div>"
      ],
      "text/plain": [
       "        id    code                                              rules  \\\n",
       "3824  3825  0004QD  plato feeling unwell hypochondriac thermometer...   \n",
       "3826  3827  0004QH  friend roman countryman lend ear come bury cae...   \n",
       "3827  3828  0004QI                        standard yinyang rule apply   \n",
       "3829  3830  0004QL  penpastandard sudoku rule apply final numerica...   \n",
       "3830  3831  0004QM  ring killerlittle killer sudoku wessel strijks...   \n",
       "\n",
       "      difficulty                                             types  \\\n",
       "3824           3     Sudoku, Thermo (Variante), Primzahlen (Thema)   \n",
       "3826           4  Sudoku, Roman Numerals (Variante), XV (Variante)   \n",
       "3827           2                                      Yin und Yang   \n",
       "3829           3    Sudoku, Diagonal (Variante), Killer (Variante)   \n",
       "3830           3                                            Sudoku   \n",
       "\n",
       "                                               comments  \n",
       "3824  am 18. November 2020, 11:40 Uhr von steelwool ...  \n",
       "3826  am 31. März 2024, 04:19 Uhr von RockyRoer Adde...  \n",
       "3827  am 9. Dezember 2020, 02:39 Uhr von AsilG Tough...  \n",
       "3829  am 13. November 2023, 08:17 Uhr von jwmpuz Wha...  \n",
       "3830  am 18. November 2020, 09:02 Uhr von smistry @s...  "
      ]
     },
     "execution_count": 28,
     "metadata": {},
     "output_type": "execute_result"
    }
   ],
   "source": [
    "df['tokens'] = df['rules'].apply(lambda x: tokenize_and_lemmatize(x) if isinstance(x, str) else x)\n",
    "df['rules'] = df['tokens'].apply(lambda x: ' '.join(x) if isinstance(x, list) else x)\n",
    "df = df.drop('tokens', axis=1)\n",
    "df.head()"
   ]
  },
  {
   "cell_type": "markdown",
   "id": "dddb5d3c-bbce-4bf0-a64c-8c83f217db9b",
   "metadata": {},
   "source": [
    "## Saving raw data"
   ]
  },
  {
   "cell_type": "code",
   "execution_count": 29,
   "id": "0c472985-f7be-45f9-80dc-6517b18490b5",
   "metadata": {},
   "outputs": [],
   "source": [
    "import os"
   ]
  },
  {
   "cell_type": "code",
   "execution_count": 30,
   "id": "3bc75727-0ac9-4fe7-bc23-5ecc73c4e5c2",
   "metadata": {},
   "outputs": [],
   "source": [
    "df_to_save = df[['rules', 'difficulty', 'types', 'comments']].rename(columns={'rules': 'features', 'difficulty': 'target'})"
   ]
  },
  {
   "cell_type": "code",
   "execution_count": 31,
   "id": "d0f4f400-11ba-484f-80b0-3328e22d7522",
   "metadata": {},
   "outputs": [],
   "source": [
    "output_dir = '../data'\n",
    "os.makedirs(output_dir, exist_ok=True)"
   ]
  },
  {
   "cell_type": "code",
   "execution_count": 32,
   "id": "10bd5279-7300-4165-86d2-21f607be2eb4",
   "metadata": {},
   "outputs": [
    {
     "name": "stdout",
     "output_type": "stream",
     "text": [
      "Data has been saved to ../data/data.csv\n"
     ]
    }
   ],
   "source": [
    "output_path = os.path.join(output_dir, 'data.csv')\n",
    "df_to_save.to_csv(output_path, index=False)\n",
    "\n",
    "print(f\"Data has been saved to {output_path}\")"
   ]
  },
  {
   "cell_type": "markdown",
   "id": "5119957e-b536-4b4c-ba06-0697f3f78bcf",
   "metadata": {},
   "source": [
    "## tf-idf vectorization"
   ]
  },
  {
   "cell_type": "code",
   "execution_count": 38,
   "id": "29d81a72-4052-4ac6-b106-7cbdb81c6100",
   "metadata": {},
   "outputs": [],
   "source": [
    "from sklearn.feature_extraction.text import TfidfVectorizer\n",
    "import numpy as np\n",
    "import json"
   ]
  },
  {
   "cell_type": "code",
   "execution_count": 45,
   "id": "b457169e-cc4a-4b8e-8022-fd1baa4df234",
   "metadata": {},
   "outputs": [],
   "source": [
    "df = pd.read_csv('../data/data.csv')"
   ]
  },
  {
   "cell_type": "code",
   "execution_count": 40,
   "id": "df672bfa-ca2c-4ab1-aa75-2dea1bd797f2",
   "metadata": {},
   "outputs": [],
   "source": [
    "vectorizer = TfidfVectorizer(max_features=10000)\n",
    "\n",
    "tfidf_matrix = vectorizer.fit_transform(df['features'])"
   ]
  },
  {
   "cell_type": "code",
   "execution_count": 41,
   "id": "8a27a372-751a-4dcf-ab23-1ab9008dad46",
   "metadata": {},
   "outputs": [
    {
     "name": "stdout",
     "output_type": "stream",
     "text": [
      "TF-IDF matrix shape: (10000, 10000)\n"
     ]
    }
   ],
   "source": [
    "print(f\"TF-IDF matrix shape: {tfidf_matrix.shape}\")"
   ]
  },
  {
   "cell_type": "code",
   "execution_count": 42,
   "id": "878e2eb9-d9a3-4cb6-81ee-e3e92782ee6f",
   "metadata": {},
   "outputs": [
    {
     "data": {
      "text/plain": [
       "<Compressed Sparse Row sparse matrix of dtype 'float64'\n",
       "\twith 377566 stored elements and shape (10000, 10000)>"
      ]
     },
     "execution_count": 42,
     "metadata": {},
     "output_type": "execute_result"
    }
   ],
   "source": [
    "tfidf_matrix"
   ]
  },
  {
   "cell_type": "code",
   "execution_count": 43,
   "id": "7a2080f8-6494-47ca-b033-129c649bd2f7",
   "metadata": {},
   "outputs": [
    {
     "data": {
      "text/html": [
       "<div>\n",
       "<style scoped>\n",
       "    .dataframe tbody tr th:only-of-type {\n",
       "        vertical-align: middle;\n",
       "    }\n",
       "\n",
       "    .dataframe tbody tr th {\n",
       "        vertical-align: top;\n",
       "    }\n",
       "\n",
       "    .dataframe thead th {\n",
       "        text-align: right;\n",
       "    }\n",
       "</style>\n",
       "<table border=\"1\" class=\"dataframe\">\n",
       "  <thead>\n",
       "    <tr style=\"text-align: right;\">\n",
       "      <th></th>\n",
       "      <th>features</th>\n",
       "      <th>target</th>\n",
       "      <th>types</th>\n",
       "      <th>comments</th>\n",
       "      <th>features_vectorized</th>\n",
       "    </tr>\n",
       "  </thead>\n",
       "  <tbody>\n",
       "    <tr>\n",
       "      <th>0</th>\n",
       "      <td>plato feeling unwell hypochondriac thermometer...</td>\n",
       "      <td>3</td>\n",
       "      <td>Sudoku, Thermo (Variante), Primzahlen (Thema)</td>\n",
       "      <td>am 18. November 2020, 11:40 Uhr von steelwool ...</td>\n",
       "      <td>[0.0, 0.0, 0.0, 0.0, 0.0, 0.0, 0.0, 0.0, 0.0, ...</td>\n",
       "    </tr>\n",
       "    <tr>\n",
       "      <th>1</th>\n",
       "      <td>friend roman countryman lend ear come bury cae...</td>\n",
       "      <td>4</td>\n",
       "      <td>Sudoku, Roman Numerals (Variante), XV (Variante)</td>\n",
       "      <td>am 31. März 2024, 04:19 Uhr von RockyRoer Adde...</td>\n",
       "      <td>[0.0, 0.0, 0.0, 0.0, 0.0, 0.0, 0.0, 0.0, 0.0, ...</td>\n",
       "    </tr>\n",
       "    <tr>\n",
       "      <th>2</th>\n",
       "      <td>standard yinyang rule apply</td>\n",
       "      <td>2</td>\n",
       "      <td>Yin und Yang</td>\n",
       "      <td>am 9. Dezember 2020, 02:39 Uhr von AsilG Tough...</td>\n",
       "      <td>[0.0, 0.0, 0.0, 0.0, 0.0, 0.0, 0.0, 0.0, 0.0, ...</td>\n",
       "    </tr>\n",
       "    <tr>\n",
       "      <th>3</th>\n",
       "      <td>penpastandard sudoku rule apply final numerica...</td>\n",
       "      <td>3</td>\n",
       "      <td>Sudoku, Diagonal (Variante), Killer (Variante)</td>\n",
       "      <td>am 13. November 2023, 08:17 Uhr von jwmpuz Wha...</td>\n",
       "      <td>[0.0, 0.0, 0.0, 0.0, 0.0, 0.0, 0.0, 0.0, 0.0, ...</td>\n",
       "    </tr>\n",
       "    <tr>\n",
       "      <th>4</th>\n",
       "      <td>ring killerlittle killer sudoku wessel strijks...</td>\n",
       "      <td>3</td>\n",
       "      <td>Sudoku</td>\n",
       "      <td>am 18. November 2020, 09:02 Uhr von smistry @s...</td>\n",
       "      <td>[0.0, 0.0, 0.0, 0.0, 0.0, 0.0, 0.0, 0.0, 0.0, ...</td>\n",
       "    </tr>\n",
       "  </tbody>\n",
       "</table>\n",
       "</div>"
      ],
      "text/plain": [
       "                                            features  target  \\\n",
       "0  plato feeling unwell hypochondriac thermometer...       3   \n",
       "1  friend roman countryman lend ear come bury cae...       4   \n",
       "2                        standard yinyang rule apply       2   \n",
       "3  penpastandard sudoku rule apply final numerica...       3   \n",
       "4  ring killerlittle killer sudoku wessel strijks...       3   \n",
       "\n",
       "                                              types  \\\n",
       "0     Sudoku, Thermo (Variante), Primzahlen (Thema)   \n",
       "1  Sudoku, Roman Numerals (Variante), XV (Variante)   \n",
       "2                                      Yin und Yang   \n",
       "3    Sudoku, Diagonal (Variante), Killer (Variante)   \n",
       "4                                            Sudoku   \n",
       "\n",
       "                                            comments  \\\n",
       "0  am 18. November 2020, 11:40 Uhr von steelwool ...   \n",
       "1  am 31. März 2024, 04:19 Uhr von RockyRoer Adde...   \n",
       "2  am 9. Dezember 2020, 02:39 Uhr von AsilG Tough...   \n",
       "3  am 13. November 2023, 08:17 Uhr von jwmpuz Wha...   \n",
       "4  am 18. November 2020, 09:02 Uhr von smistry @s...   \n",
       "\n",
       "                                 features_vectorized  \n",
       "0  [0.0, 0.0, 0.0, 0.0, 0.0, 0.0, 0.0, 0.0, 0.0, ...  \n",
       "1  [0.0, 0.0, 0.0, 0.0, 0.0, 0.0, 0.0, 0.0, 0.0, ...  \n",
       "2  [0.0, 0.0, 0.0, 0.0, 0.0, 0.0, 0.0, 0.0, 0.0, ...  \n",
       "3  [0.0, 0.0, 0.0, 0.0, 0.0, 0.0, 0.0, 0.0, 0.0, ...  \n",
       "4  [0.0, 0.0, 0.0, 0.0, 0.0, 0.0, 0.0, 0.0, 0.0, ...  "
      ]
     },
     "execution_count": 43,
     "metadata": {},
     "output_type": "execute_result"
    }
   ],
   "source": [
    "df['features_vectorized'] = list(tfidf_matrix.toarray())\n",
    "df.head()"
   ]
  },
  {
   "cell_type": "code",
   "execution_count": 44,
   "id": "4c6ead6b-cb72-4a38-be38-3855c515ac6f",
   "metadata": {},
   "outputs": [],
   "source": [
    "df['features'] = df['features_vectorized'].apply(lambda x: json.dumps(x.tolist()) if isinstance(x, np.ndarray) else x)"
   ]
  },
  {
   "cell_type": "markdown",
   "id": "ad10a0f9-531b-423d-b32a-f541232d7ee7",
   "metadata": {},
   "source": [
    "## Cleaning comments"
   ]
  },
  {
   "cell_type": "code",
   "execution_count": 33,
   "id": "23ecd20b-68d5-4904-b7a3-b512ef19e27d",
   "metadata": {},
   "outputs": [],
   "source": [
    "df = pd.read_csv('../data/data.csv')"
   ]
  },
  {
   "cell_type": "code",
   "execution_count": 34,
   "id": "c12a9bd5-4567-4789-973d-3ef8e5816ff5",
   "metadata": {},
   "outputs": [
    {
     "data": {
      "text/html": [
       "<div>\n",
       "<style scoped>\n",
       "    .dataframe tbody tr th:only-of-type {\n",
       "        vertical-align: middle;\n",
       "    }\n",
       "\n",
       "    .dataframe tbody tr th {\n",
       "        vertical-align: top;\n",
       "    }\n",
       "\n",
       "    .dataframe thead th {\n",
       "        text-align: right;\n",
       "    }\n",
       "</style>\n",
       "<table border=\"1\" class=\"dataframe\">\n",
       "  <thead>\n",
       "    <tr style=\"text-align: right;\">\n",
       "      <th></th>\n",
       "      <th>features</th>\n",
       "      <th>target</th>\n",
       "      <th>types</th>\n",
       "      <th>comments</th>\n",
       "    </tr>\n",
       "  </thead>\n",
       "  <tbody>\n",
       "    <tr>\n",
       "      <th>0</th>\n",
       "      <td>plato feeling unwell hypochondriac thermometer...</td>\n",
       "      <td>3</td>\n",
       "      <td>Sudoku, Thermo (Variante), Primzahlen (Thema)</td>\n",
       "      <td>am 18. November 2020, 11:40 Uhr von steelwool ...</td>\n",
       "    </tr>\n",
       "    <tr>\n",
       "      <th>1</th>\n",
       "      <td>friend roman countryman lend ear come bury cae...</td>\n",
       "      <td>4</td>\n",
       "      <td>Sudoku, Roman Numerals (Variante), XV (Variante)</td>\n",
       "      <td>am 31. März 2024, 04:19 Uhr von RockyRoer Adde...</td>\n",
       "    </tr>\n",
       "    <tr>\n",
       "      <th>2</th>\n",
       "      <td>standard yinyang rule apply</td>\n",
       "      <td>2</td>\n",
       "      <td>Yin und Yang</td>\n",
       "      <td>am 9. Dezember 2020, 02:39 Uhr von AsilG Tough...</td>\n",
       "    </tr>\n",
       "    <tr>\n",
       "      <th>3</th>\n",
       "      <td>penpastandard sudoku rule apply final numerica...</td>\n",
       "      <td>3</td>\n",
       "      <td>Sudoku, Diagonal (Variante), Killer (Variante)</td>\n",
       "      <td>am 13. November 2023, 08:17 Uhr von jwmpuz Wha...</td>\n",
       "    </tr>\n",
       "    <tr>\n",
       "      <th>4</th>\n",
       "      <td>ring killerlittle killer sudoku wessel strijks...</td>\n",
       "      <td>3</td>\n",
       "      <td>Sudoku</td>\n",
       "      <td>am 18. November 2020, 09:02 Uhr von smistry @s...</td>\n",
       "    </tr>\n",
       "  </tbody>\n",
       "</table>\n",
       "</div>"
      ],
      "text/plain": [
       "                                            features  target  \\\n",
       "0  plato feeling unwell hypochondriac thermometer...       3   \n",
       "1  friend roman countryman lend ear come bury cae...       4   \n",
       "2                        standard yinyang rule apply       2   \n",
       "3  penpastandard sudoku rule apply final numerica...       3   \n",
       "4  ring killerlittle killer sudoku wessel strijks...       3   \n",
       "\n",
       "                                              types  \\\n",
       "0     Sudoku, Thermo (Variante), Primzahlen (Thema)   \n",
       "1  Sudoku, Roman Numerals (Variante), XV (Variante)   \n",
       "2                                      Yin und Yang   \n",
       "3    Sudoku, Diagonal (Variante), Killer (Variante)   \n",
       "4                                            Sudoku   \n",
       "\n",
       "                                            comments  \n",
       "0  am 18. November 2020, 11:40 Uhr von steelwool ...  \n",
       "1  am 31. März 2024, 04:19 Uhr von RockyRoer Adde...  \n",
       "2  am 9. Dezember 2020, 02:39 Uhr von AsilG Tough...  \n",
       "3  am 13. November 2023, 08:17 Uhr von jwmpuz Wha...  \n",
       "4  am 18. November 2020, 09:02 Uhr von smistry @s...  "
      ]
     },
     "execution_count": 34,
     "metadata": {},
     "output_type": "execute_result"
    }
   ],
   "source": [
    "df.head()"
   ]
  },
  {
   "cell_type": "code",
   "execution_count": 35,
   "id": "78ead193-cf5f-4a36-97d6-fb7308f55392",
   "metadata": {},
   "outputs": [
    {
     "data": {
      "text/plain": [
       "\"am 22. Juni 2021, 20:15 Uhr von bigger Ok, this is really weird. First of all, it's a one star. If I think it's very easy, anyone who think otherwise has a big problem. It's not like a four star annoyance agreement problem. If you disagree with the stars, leave a comment and let me know why. I've seen coloring only two stars and MSLS or je not 5 star. So you are going to justify your stars why it's hard. Good luck with your reasoning. Second, why so many people? You do know I'll check my puzzles some points on the future. This kind of weird surge reveals what your preference is. In This case, a meh idea. The problem is Old Miles made puzzles for fun. So there might be a anniversary type puzzle for here. But if he check the data, he might give up the idea of making one.(I kind of give up, so chances are he might too) Anyway, stop giving this puzzle attention. I don't want anyone to paraphrase this rule, unless with twists. I refuse to believe you like this one more. It's a variant that deserved to be forgot. Don't make me remember it.\""
      ]
     },
     "execution_count": 35,
     "metadata": {},
     "output_type": "execute_result"
    }
   ],
   "source": [
    "df.iloc[1000]['comments']"
   ]
  },
  {
   "cell_type": "code",
   "execution_count": 36,
   "id": "5315be23-e01c-4e2a-ac20-27fe56f27bdb",
   "metadata": {},
   "outputs": [],
   "source": [
    "import re\n",
    "import pandas as pd\n",
    "\n",
    "def clean_comment(comment):\n",
    "    '''deleting am date von username pattern'''\n",
    "    pattern = r\"am\\s[\\d]{1,2}\\.\\s\\w+\\s[\\d]{4},\\s[\\d]{1,2}:[\\d]{2}\\sUhr\\s[von]+\\s[\\w]+\"\n",
    "    cleaned_comment = re.sub(pattern, '', comment)\n",
    "    return cleaned_comment.strip()\n",
    "\n",
    "df['comments'] = df['comments'].apply(clean_comment)"
   ]
  },
  {
   "cell_type": "code",
   "execution_count": 37,
   "id": "e89006d7-590c-451a-8e71-c5e6ffb5c2e3",
   "metadata": {},
   "outputs": [
    {
     "data": {
      "text/html": [
       "<div>\n",
       "<style scoped>\n",
       "    .dataframe tbody tr th:only-of-type {\n",
       "        vertical-align: middle;\n",
       "    }\n",
       "\n",
       "    .dataframe tbody tr th {\n",
       "        vertical-align: top;\n",
       "    }\n",
       "\n",
       "    .dataframe thead th {\n",
       "        text-align: right;\n",
       "    }\n",
       "</style>\n",
       "<table border=\"1\" class=\"dataframe\">\n",
       "  <thead>\n",
       "    <tr style=\"text-align: right;\">\n",
       "      <th></th>\n",
       "      <th>features</th>\n",
       "      <th>target</th>\n",
       "      <th>types</th>\n",
       "      <th>comments</th>\n",
       "    </tr>\n",
       "  </thead>\n",
       "  <tbody>\n",
       "    <tr>\n",
       "      <th>0</th>\n",
       "      <td>plato feeling unwell hypochondriac thermometer...</td>\n",
       "      <td>3</td>\n",
       "      <td>Sudoku, Thermo (Variante), Primzahlen (Thema)</td>\n",
       "      <td>Added a comment about how to work out the solu...</td>\n",
       "    </tr>\n",
       "    <tr>\n",
       "      <th>1</th>\n",
       "      <td>friend roman countryman lend ear come bury cae...</td>\n",
       "      <td>4</td>\n",
       "      <td>Sudoku, Roman Numerals (Variante), XV (Variante)</td>\n",
       "      <td>Added roman numerals tag</td>\n",
       "    </tr>\n",
       "    <tr>\n",
       "      <th>2</th>\n",
       "      <td>standard yinyang rule apply</td>\n",
       "      <td>2</td>\n",
       "      <td>Yin und Yang</td>\n",
       "      <td>Tougher than expected for a 1-star difficult p...</td>\n",
       "    </tr>\n",
       "    <tr>\n",
       "      <th>3</th>\n",
       "      <td>penpastandard sudoku rule apply final numerica...</td>\n",
       "      <td>3</td>\n",
       "      <td>Sudoku, Diagonal (Variante), Killer (Variante)</td>\n",
       "      <td>What a fun puzzle requiring a tremendously won...</td>\n",
       "    </tr>\n",
       "    <tr>\n",
       "      <th>4</th>\n",
       "      <td>ring killerlittle killer sudoku wessel strijks...</td>\n",
       "      <td>3</td>\n",
       "      <td>Sudoku</td>\n",
       "      <td>@smistry Thanks! Glad you liked it:) thanks fo...</td>\n",
       "    </tr>\n",
       "  </tbody>\n",
       "</table>\n",
       "</div>"
      ],
      "text/plain": [
       "                                            features  target  \\\n",
       "0  plato feeling unwell hypochondriac thermometer...       3   \n",
       "1  friend roman countryman lend ear come bury cae...       4   \n",
       "2                        standard yinyang rule apply       2   \n",
       "3  penpastandard sudoku rule apply final numerica...       3   \n",
       "4  ring killerlittle killer sudoku wessel strijks...       3   \n",
       "\n",
       "                                              types  \\\n",
       "0     Sudoku, Thermo (Variante), Primzahlen (Thema)   \n",
       "1  Sudoku, Roman Numerals (Variante), XV (Variante)   \n",
       "2                                      Yin und Yang   \n",
       "3    Sudoku, Diagonal (Variante), Killer (Variante)   \n",
       "4                                            Sudoku   \n",
       "\n",
       "                                            comments  \n",
       "0  Added a comment about how to work out the solu...  \n",
       "1                           Added roman numerals tag  \n",
       "2  Tougher than expected for a 1-star difficult p...  \n",
       "3  What a fun puzzle requiring a tremendously won...  \n",
       "4  @smistry Thanks! Glad you liked it:) thanks fo...  "
      ]
     },
     "execution_count": 37,
     "metadata": {},
     "output_type": "execute_result"
    }
   ],
   "source": [
    "df.head()"
   ]
  },
  {
   "cell_type": "code",
   "execution_count": 38,
   "id": "d8d5adfe-d664-4269-9374-77d291ad4eec",
   "metadata": {},
   "outputs": [
    {
     "name": "stdout",
     "output_type": "stream",
     "text": [
      "Number of instances in the DataFrame: 10000\n"
     ]
    }
   ],
   "source": [
    "df['comments'] = df['comments'].apply(lambda x: remove_non_ascii(x) if isinstance(x, str) else x)\n",
    "\n",
    "print(\"Number of instances in the DataFrame:\", len(df))"
   ]
  },
  {
   "cell_type": "code",
   "execution_count": 39,
   "id": "46ed90cb-42af-4525-a994-c0792238187e",
   "metadata": {},
   "outputs": [
    {
     "data": {
      "text/html": [
       "<div>\n",
       "<style scoped>\n",
       "    .dataframe tbody tr th:only-of-type {\n",
       "        vertical-align: middle;\n",
       "    }\n",
       "\n",
       "    .dataframe tbody tr th {\n",
       "        vertical-align: top;\n",
       "    }\n",
       "\n",
       "    .dataframe thead th {\n",
       "        text-align: right;\n",
       "    }\n",
       "</style>\n",
       "<table border=\"1\" class=\"dataframe\">\n",
       "  <thead>\n",
       "    <tr style=\"text-align: right;\">\n",
       "      <th></th>\n",
       "      <th>features</th>\n",
       "      <th>target</th>\n",
       "      <th>types</th>\n",
       "      <th>comments</th>\n",
       "    </tr>\n",
       "  </thead>\n",
       "  <tbody>\n",
       "    <tr>\n",
       "      <th>0</th>\n",
       "      <td>plato feeling unwell hypochondriac thermometer...</td>\n",
       "      <td>3</td>\n",
       "      <td>Sudoku, Thermo (Variante), Primzahlen (Thema)</td>\n",
       "      <td>added comment work solution code!</td>\n",
       "    </tr>\n",
       "    <tr>\n",
       "      <th>1</th>\n",
       "      <td>friend roman countryman lend ear come bury cae...</td>\n",
       "      <td>4</td>\n",
       "      <td>Sudoku, Roman Numerals (Variante), XV (Variante)</td>\n",
       "      <td>added roman numerals tag</td>\n",
       "    </tr>\n",
       "    <tr>\n",
       "      <th>2</th>\n",
       "      <td>standard yinyang rule apply</td>\n",
       "      <td>2</td>\n",
       "      <td>Yin und Yang</td>\n",
       "      <td>tougher expected -star difficult puzzle, maybe...</td>\n",
       "    </tr>\n",
       "    <tr>\n",
       "      <th>3</th>\n",
       "      <td>penpastandard sudoku rule apply final numerica...</td>\n",
       "      <td>3</td>\n",
       "      <td>Sudoku, Diagonal (Variante), Killer (Variante)</td>\n",
       "      <td>fun puzzle requiring tremendously wonderful va...</td>\n",
       "    </tr>\n",
       "    <tr>\n",
       "      <th>4</th>\n",
       "      <td>ring killerlittle killer sudoku wessel strijks...</td>\n",
       "      <td>3</td>\n",
       "      <td>Sudoku</td>\n",
       "      <td>smistry thanks! glad liked thanks setting, nic...</td>\n",
       "    </tr>\n",
       "  </tbody>\n",
       "</table>\n",
       "</div>"
      ],
      "text/plain": [
       "                                            features  target  \\\n",
       "0  plato feeling unwell hypochondriac thermometer...       3   \n",
       "1  friend roman countryman lend ear come bury cae...       4   \n",
       "2                        standard yinyang rule apply       2   \n",
       "3  penpastandard sudoku rule apply final numerica...       3   \n",
       "4  ring killerlittle killer sudoku wessel strijks...       3   \n",
       "\n",
       "                                              types  \\\n",
       "0     Sudoku, Thermo (Variante), Primzahlen (Thema)   \n",
       "1  Sudoku, Roman Numerals (Variante), XV (Variante)   \n",
       "2                                      Yin und Yang   \n",
       "3    Sudoku, Diagonal (Variante), Killer (Variante)   \n",
       "4                                            Sudoku   \n",
       "\n",
       "                                            comments  \n",
       "0                  added comment work solution code!  \n",
       "1                           added roman numerals tag  \n",
       "2  tougher expected -star difficult puzzle, maybe...  \n",
       "3  fun puzzle requiring tremendously wonderful va...  \n",
       "4  smistry thanks! glad liked thanks setting, nic...  "
      ]
     },
     "execution_count": 39,
     "metadata": {},
     "output_type": "execute_result"
    }
   ],
   "source": [
    "df['comments'] = df['comments'].apply(lambda x: remove_stopwords(x) if isinstance(x, str) else x)\n",
    "df.head()"
   ]
  },
  {
   "cell_type": "code",
   "execution_count": 40,
   "id": "e715ac55-48c3-438d-92ac-c1ea0af7a420",
   "metadata": {},
   "outputs": [
    {
     "data": {
      "text/html": [
       "<div>\n",
       "<style scoped>\n",
       "    .dataframe tbody tr th:only-of-type {\n",
       "        vertical-align: middle;\n",
       "    }\n",
       "\n",
       "    .dataframe tbody tr th {\n",
       "        vertical-align: top;\n",
       "    }\n",
       "\n",
       "    .dataframe thead th {\n",
       "        text-align: right;\n",
       "    }\n",
       "</style>\n",
       "<table border=\"1\" class=\"dataframe\">\n",
       "  <thead>\n",
       "    <tr style=\"text-align: right;\">\n",
       "      <th></th>\n",
       "      <th>features</th>\n",
       "      <th>target</th>\n",
       "      <th>types</th>\n",
       "      <th>comments</th>\n",
       "    </tr>\n",
       "  </thead>\n",
       "  <tbody>\n",
       "    <tr>\n",
       "      <th>0</th>\n",
       "      <td>plato feeling unwell hypochondriac thermometer...</td>\n",
       "      <td>3</td>\n",
       "      <td>Sudoku, Thermo (Variante), Primzahlen (Thema)</td>\n",
       "      <td>added comment work solution code</td>\n",
       "    </tr>\n",
       "    <tr>\n",
       "      <th>1</th>\n",
       "      <td>friend roman countryman lend ear come bury cae...</td>\n",
       "      <td>4</td>\n",
       "      <td>Sudoku, Roman Numerals (Variante), XV (Variante)</td>\n",
       "      <td>added roman numerals tag</td>\n",
       "    </tr>\n",
       "    <tr>\n",
       "      <th>2</th>\n",
       "      <td>standard yinyang rule apply</td>\n",
       "      <td>2</td>\n",
       "      <td>Yin und Yang</td>\n",
       "      <td>tougher expected star difficult puzzle maybe  ...</td>\n",
       "    </tr>\n",
       "    <tr>\n",
       "      <th>3</th>\n",
       "      <td>penpastandard sudoku rule apply final numerica...</td>\n",
       "      <td>3</td>\n",
       "      <td>Sudoku, Diagonal (Variante), Killer (Variante)</td>\n",
       "      <td>fun puzzle requiring tremendously wonderful va...</td>\n",
       "    </tr>\n",
       "    <tr>\n",
       "      <th>4</th>\n",
       "      <td>ring killerlittle killer sudoku wessel strijks...</td>\n",
       "      <td>3</td>\n",
       "      <td>Sudoku</td>\n",
       "      <td>smistry thanks glad liked thanks setting nice ...</td>\n",
       "    </tr>\n",
       "  </tbody>\n",
       "</table>\n",
       "</div>"
      ],
      "text/plain": [
       "                                            features  target  \\\n",
       "0  plato feeling unwell hypochondriac thermometer...       3   \n",
       "1  friend roman countryman lend ear come bury cae...       4   \n",
       "2                        standard yinyang rule apply       2   \n",
       "3  penpastandard sudoku rule apply final numerica...       3   \n",
       "4  ring killerlittle killer sudoku wessel strijks...       3   \n",
       "\n",
       "                                              types  \\\n",
       "0     Sudoku, Thermo (Variante), Primzahlen (Thema)   \n",
       "1  Sudoku, Roman Numerals (Variante), XV (Variante)   \n",
       "2                                      Yin und Yang   \n",
       "3    Sudoku, Diagonal (Variante), Killer (Variante)   \n",
       "4                                            Sudoku   \n",
       "\n",
       "                                            comments  \n",
       "0                   added comment work solution code  \n",
       "1                           added roman numerals tag  \n",
       "2  tougher expected star difficult puzzle maybe  ...  \n",
       "3  fun puzzle requiring tremendously wonderful va...  \n",
       "4  smistry thanks glad liked thanks setting nice ...  "
      ]
     },
     "execution_count": 40,
     "metadata": {},
     "output_type": "execute_result"
    }
   ],
   "source": [
    "df['comments'] = df['comments'].apply(lambda x: remove_punctuation(x) if isinstance(x, str) else x)\n",
    "df.head()"
   ]
  },
  {
   "cell_type": "code",
   "execution_count": 41,
   "id": "5925dd39-98c2-4db6-b50b-aec02938b99c",
   "metadata": {},
   "outputs": [
    {
     "data": {
      "text/html": [
       "<div>\n",
       "<style scoped>\n",
       "    .dataframe tbody tr th:only-of-type {\n",
       "        vertical-align: middle;\n",
       "    }\n",
       "\n",
       "    .dataframe tbody tr th {\n",
       "        vertical-align: top;\n",
       "    }\n",
       "\n",
       "    .dataframe thead th {\n",
       "        text-align: right;\n",
       "    }\n",
       "</style>\n",
       "<table border=\"1\" class=\"dataframe\">\n",
       "  <thead>\n",
       "    <tr style=\"text-align: right;\">\n",
       "      <th></th>\n",
       "      <th>features</th>\n",
       "      <th>target</th>\n",
       "      <th>types</th>\n",
       "      <th>comments</th>\n",
       "    </tr>\n",
       "  </thead>\n",
       "  <tbody>\n",
       "    <tr>\n",
       "      <th>0</th>\n",
       "      <td>plato feeling unwell hypochondriac thermometer...</td>\n",
       "      <td>3</td>\n",
       "      <td>Sudoku, Thermo (Variante), Primzahlen (Thema)</td>\n",
       "      <td>added comment work solution code</td>\n",
       "    </tr>\n",
       "    <tr>\n",
       "      <th>1</th>\n",
       "      <td>friend roman countryman lend ear come bury cae...</td>\n",
       "      <td>4</td>\n",
       "      <td>Sudoku, Roman Numerals (Variante), XV (Variante)</td>\n",
       "      <td>added roman numeral tag</td>\n",
       "    </tr>\n",
       "    <tr>\n",
       "      <th>2</th>\n",
       "      <td>standard yinyang rule apply</td>\n",
       "      <td>2</td>\n",
       "      <td>Yin und Yang</td>\n",
       "      <td>tougher expected star difficult puzzle maybe f...</td>\n",
       "    </tr>\n",
       "    <tr>\n",
       "      <th>3</th>\n",
       "      <td>penpastandard sudoku rule apply final numerica...</td>\n",
       "      <td>3</td>\n",
       "      <td>Sudoku, Diagonal (Variante), Killer (Variante)</td>\n",
       "      <td>fun puzzle requiring tremendously wonderful va...</td>\n",
       "    </tr>\n",
       "    <tr>\n",
       "      <th>4</th>\n",
       "      <td>ring killerlittle killer sudoku wessel strijks...</td>\n",
       "      <td>3</td>\n",
       "      <td>Sudoku</td>\n",
       "      <td>smistry thanks glad liked thanks setting nice ...</td>\n",
       "    </tr>\n",
       "  </tbody>\n",
       "</table>\n",
       "</div>"
      ],
      "text/plain": [
       "                                            features  target  \\\n",
       "0  plato feeling unwell hypochondriac thermometer...       3   \n",
       "1  friend roman countryman lend ear come bury cae...       4   \n",
       "2                        standard yinyang rule apply       2   \n",
       "3  penpastandard sudoku rule apply final numerica...       3   \n",
       "4  ring killerlittle killer sudoku wessel strijks...       3   \n",
       "\n",
       "                                              types  \\\n",
       "0     Sudoku, Thermo (Variante), Primzahlen (Thema)   \n",
       "1  Sudoku, Roman Numerals (Variante), XV (Variante)   \n",
       "2                                      Yin und Yang   \n",
       "3    Sudoku, Diagonal (Variante), Killer (Variante)   \n",
       "4                                            Sudoku   \n",
       "\n",
       "                                            comments  \n",
       "0                   added comment work solution code  \n",
       "1                            added roman numeral tag  \n",
       "2  tougher expected star difficult puzzle maybe f...  \n",
       "3  fun puzzle requiring tremendously wonderful va...  \n",
       "4  smistry thanks glad liked thanks setting nice ...  "
      ]
     },
     "execution_count": 41,
     "metadata": {},
     "output_type": "execute_result"
    }
   ],
   "source": [
    "df['tokens'] = df['comments'].apply(lambda x: tokenize_and_lemmatize(x) if isinstance(x, str) else x)\n",
    "df['comments'] = df['tokens'].apply(lambda x: ' '.join(x) if isinstance(x, list) else x)\n",
    "df = df.drop('tokens', axis=1)\n",
    "df.head()"
   ]
  },
  {
   "cell_type": "code",
   "execution_count": 42,
   "id": "4856089f-2a5a-4251-b5bc-7ef65c0c2a74",
   "metadata": {},
   "outputs": [
    {
     "name": "stdout",
     "output_type": "stream",
     "text": [
      "Data has been saved to ../data/data.csv\n"
     ]
    }
   ],
   "source": [
    "df.to_csv(output_path, index=False)\n",
    "\n",
    "print(f\"Data has been saved to {output_path}\")"
   ]
  },
  {
   "cell_type": "markdown",
   "id": "6ed98c57-309c-411a-8987-ec8ae38cb7e3",
   "metadata": {},
   "source": [
    "## Conctacte features and comments"
   ]
  },
  {
   "cell_type": "code",
   "execution_count": 62,
   "id": "853de5bf-0b00-49b2-931a-8e72b80f59f7",
   "metadata": {},
   "outputs": [
    {
     "data": {
      "text/html": [
       "<div>\n",
       "<style scoped>\n",
       "    .dataframe tbody tr th:only-of-type {\n",
       "        vertical-align: middle;\n",
       "    }\n",
       "\n",
       "    .dataframe tbody tr th {\n",
       "        vertical-align: top;\n",
       "    }\n",
       "\n",
       "    .dataframe thead th {\n",
       "        text-align: right;\n",
       "    }\n",
       "</style>\n",
       "<table border=\"1\" class=\"dataframe\">\n",
       "  <thead>\n",
       "    <tr style=\"text-align: right;\">\n",
       "      <th></th>\n",
       "      <th>features</th>\n",
       "      <th>target</th>\n",
       "      <th>types</th>\n",
       "    </tr>\n",
       "  </thead>\n",
       "  <tbody>\n",
       "    <tr>\n",
       "      <th>0</th>\n",
       "      <td>plato feeling unwell hypochondriac thermometer...</td>\n",
       "      <td>3</td>\n",
       "      <td>Sudoku, Thermo (Variante), Primzahlen (Thema)</td>\n",
       "    </tr>\n",
       "    <tr>\n",
       "      <th>1</th>\n",
       "      <td>friend roman countryman lend ear come bury cae...</td>\n",
       "      <td>4</td>\n",
       "      <td>Sudoku, Roman Numerals (Variante), XV (Variante)</td>\n",
       "    </tr>\n",
       "    <tr>\n",
       "      <th>2</th>\n",
       "      <td>standard yinyang rule apply tougher expected s...</td>\n",
       "      <td>2</td>\n",
       "      <td>Yin und Yang</td>\n",
       "    </tr>\n",
       "    <tr>\n",
       "      <th>3</th>\n",
       "      <td>penpastandard sudoku rule apply final numerica...</td>\n",
       "      <td>3</td>\n",
       "      <td>Sudoku, Diagonal (Variante), Killer (Variante)</td>\n",
       "    </tr>\n",
       "    <tr>\n",
       "      <th>4</th>\n",
       "      <td>ring killerlittle killer sudoku wessel strijks...</td>\n",
       "      <td>3</td>\n",
       "      <td>Sudoku</td>\n",
       "    </tr>\n",
       "  </tbody>\n",
       "</table>\n",
       "</div>"
      ],
      "text/plain": [
       "                                            features  target  \\\n",
       "0  plato feeling unwell hypochondriac thermometer...       3   \n",
       "1  friend roman countryman lend ear come bury cae...       4   \n",
       "2  standard yinyang rule apply tougher expected s...       2   \n",
       "3  penpastandard sudoku rule apply final numerica...       3   \n",
       "4  ring killerlittle killer sudoku wessel strijks...       3   \n",
       "\n",
       "                                              types  \n",
       "0     Sudoku, Thermo (Variante), Primzahlen (Thema)  \n",
       "1  Sudoku, Roman Numerals (Variante), XV (Variante)  \n",
       "2                                      Yin und Yang  \n",
       "3    Sudoku, Diagonal (Variante), Killer (Variante)  \n",
       "4                                            Sudoku  "
      ]
     },
     "execution_count": 62,
     "metadata": {},
     "output_type": "execute_result"
    }
   ],
   "source": [
    "df['features'] = df['features'] + ' ' + df['comments']\n",
    "df = df.drop(columns=['comments'])\n",
    "df.head()"
   ]
  },
  {
   "cell_type": "code",
   "execution_count": 63,
   "id": "e5238362-59c5-4502-9d05-b311963da2c7",
   "metadata": {},
   "outputs": [
    {
     "name": "stdout",
     "output_type": "stream",
     "text": [
      "Data has been saved to ../data/data.csv\n"
     ]
    }
   ],
   "source": [
    "df.to_csv(output_path, index=False)\n",
    "\n",
    "print(f\"Data has been saved to {output_path}\")"
   ]
  },
  {
   "cell_type": "markdown",
   "id": "c60a1e00-3ec2-4043-ac13-eb2dd3cbb703",
   "metadata": {},
   "source": [
    "## Cleaning types"
   ]
  },
  {
   "cell_type": "code",
   "execution_count": 43,
   "id": "85686019-2a26-416d-aff0-819aaa94ba1e",
   "metadata": {},
   "outputs": [
    {
     "data": {
      "text/plain": [
       "array(['Sudoku, Thermo (Variante), Primzahlen (Thema)',\n",
       "       'Sudoku, Roman Numerals (Variante), XV (Variante)', 'Yin und Yang',\n",
       "       ...,\n",
       "       'Sudoku, Kropki, Disjoint Groups (Variante), Renban (Variante), Killer (Variante), Region Sum Lines (Variante)',\n",
       "       'Sudoku, Killer (Variante), German Whispers (Variante), Between (Variante)',\n",
       "       'Sudoku, Thermo (Variante), Anti-Knight (Variante), Killer (Variante), Arrows (Variante)'],\n",
       "      dtype=object)"
      ]
     },
     "execution_count": 43,
     "metadata": {},
     "output_type": "execute_result"
    }
   ],
   "source": [
    "df['types'].unique()"
   ]
  },
  {
   "cell_type": "code",
   "execution_count": 44,
   "id": "3c91645a-3577-49b3-bb30-ba7ebb8f18da",
   "metadata": {},
   "outputs": [
    {
     "name": "stdout",
     "output_type": "stream",
     "text": [
      "{'Tapa', 'Nurimisaki', 'Kompass', 'Palindrome (Variante)', 'Anti-Queen (Variante)', '10-in-9 (Variante)', 'Modifier Cells (Variante)', 'Arrows (Variante)', 'Anti-Diagonal (Variante)', 'Region Sum Lines (Variante)', 'Nurikabe', 'Zeltlager', 'Binairo (Variante)', 'Kropki Pairs (Variante)', 'Sashigane', 'Hamle', 'Battlefield (Variante)', 'Odd Pairs (Variante)', 'Minesweeper', 'Entropie (Thema)', 'Römische Summen', 'Magisches Labyrinth', 'Broken 159 (Variante)', 'Doppelblock', 'Kropki', 'Renban (Variante)', 'Wortschlangen', 'Wortsuche', 'Compass (Variante)', 'Hitori', 'Linesweeper', 'Samurai (Variante)', 'Japanische Summen', 'XY-Differences (Variante)', 'Between (Variante)', 'Slingshot (Variante)', 'Pathway (Variante)', 'Galaxien', 'Suguru', 'Kakuro', 'LITS', 'Hakyuu', 'Anti-Factor Lines (Variante)', 'Quadruple (Variante)', 'Unknown', 'Nonogramm', 'Position Sums (Variante)', 'Kreuzworträtsel', 'Median (Variante)', 'Ratio Pairs (Variante)', 'Alles oder Nichts', 'Sandwich (Variante)', 'Sudoku', 'Herugolf', 'Country Road', 'Ratio (Variante)', 'Mathrax', 'Offset (Variante)', 'Greener Grasses', 'Roman Numerals (Variante)', 'X-Sums (Variante)', 'Non-Consecutive (Variante)', 'Killer (Variante)', 'Kariertes Fillomino', 'Doppelstern', 'Punkte (Thema)', '159 (Variante)', 'Double Trouble (Variante)', 'Urnenrätsel', 'Pentopia', 'Stostone', 'Wittgenstein-Ziegel', 'Thermometer', 'Distance (Variante)', 'Ungarisches Tapa', 'Haisu', 'Schlangennest', 'Höhle', 'Hochhäuser', 'Schlange (Variante)', 'Rundweg', 'XV Pairs (Variante)', 'Produkte', 'Neighbours', 'Schlange', 'Moon-or-Sun', 'Arukone', 'German Whispers (Variante)', 'Produkt (Thema)', 'Shakashaka', 'Yajilin', 'Difference (Variante)', 'Fibonacci (Thema)', 'Lockout Lines (Variante)', 'Roller Coaster', 'Hashiwokakero', 'Mid-Loop', 'Icebarn', 'Geradeweg', 'Non-Touching (Variante)', 'Pentominous', 'Landvermessung', 'Inselchen', 'XV (Variante)', 'Magisches Quadrat', 'Consecutive (Variante)', 'Outside (Variante)', 'Gebietssummen', 'Buchstabensalat', 'Touching Pentominoes', 'U-Bahn', 'Akari', 'Putteria', 'Quattroquadri (Variante)', 'Thermo (Variante)', 'Magnetplatten', 'Schiffe versenken', 'Chaos Construction (Variante)', 'Yin und Yang', 'Leuchttürme', 'Primzahlen (Thema)', 'Araf', 'Carpet (Variante)', 'Taxicab (Variante)', 'Maximum (Variante)', 'Equality', 'Fillomino', 'Greater Than (Variante)', 'Heyawake', 'Parität (Thema)', 'Windoku (Variante)', 'Buchstabenrätsel', 'Irregular (Variante)', 'Worteinbaurätsel (leer)', 'MinMax (Variante)', 'Pfeile', 'Just One Cell (Variante)', 'Yajisan-Kazusan', 'Clone (Variante)', 'Masyu', 'Gaps', 'Shikaku', 'Shimaguni', 'Little Killer (Variante)', 'Koralle', 'Castle Wall', 'Tren', 'Rossini (Variante)', 'Fortress (Variante)', 'Parity Party (Variante)', 'Kuromasu', 'Aquarium', 'Disjoint Groups (Variante)', 'Sukoro', 'Springerzug (Thema)', 'Consecutive Pairs (Variante)', 'Battenburg (Variante)', 'Even/Odd (Variante)', 'Combi Block', 'Friendly (Variante)', 'TomTom', 'Statue Park', 'Extra Regions (Variante)', 'Logical', 'Norinori', 'Anti-Knight (Variante)', 'Daisho', 'Earthquake (Variante)', 'Diagonal (Variante)', 'Cross the Streams'}\n"
     ]
    }
   ],
   "source": [
    "import itertools\n",
    "\n",
    "split_types = df['types'].str.split(', ')\n",
    "\n",
    "unique_types = set(itertools.chain.from_iterable(split_types))\n",
    "\n",
    "print(unique_types)"
   ]
  },
  {
   "cell_type": "code",
   "execution_count": 45,
   "id": "dc34dabe-8fe4-492a-91ec-8555fd20b7cc",
   "metadata": {},
   "outputs": [
    {
     "name": "stderr",
     "output_type": "stream",
     "text": [
      "/tmp/ipykernel_58763/3958407231.py:2: PerformanceWarning: DataFrame is highly fragmented.  This is usually the result of calling `frame.insert` many times, which has poor performance.  Consider joining all columns at once using pd.concat(axis=1) instead. To get a de-fragmented frame, use `newframe = frame.copy()`\n",
      "  df[f'has_{type_value.lower().replace(\" \", \"_\")}'] = df['types'].apply(lambda x: 1 if type_value in x else 0)\n",
      "/tmp/ipykernel_58763/3958407231.py:2: PerformanceWarning: DataFrame is highly fragmented.  This is usually the result of calling `frame.insert` many times, which has poor performance.  Consider joining all columns at once using pd.concat(axis=1) instead. To get a de-fragmented frame, use `newframe = frame.copy()`\n",
      "  df[f'has_{type_value.lower().replace(\" \", \"_\")}'] = df['types'].apply(lambda x: 1 if type_value in x else 0)\n",
      "/tmp/ipykernel_58763/3958407231.py:2: PerformanceWarning: DataFrame is highly fragmented.  This is usually the result of calling `frame.insert` many times, which has poor performance.  Consider joining all columns at once using pd.concat(axis=1) instead. To get a de-fragmented frame, use `newframe = frame.copy()`\n",
      "  df[f'has_{type_value.lower().replace(\" \", \"_\")}'] = df['types'].apply(lambda x: 1 if type_value in x else 0)\n",
      "/tmp/ipykernel_58763/3958407231.py:2: PerformanceWarning: DataFrame is highly fragmented.  This is usually the result of calling `frame.insert` many times, which has poor performance.  Consider joining all columns at once using pd.concat(axis=1) instead. To get a de-fragmented frame, use `newframe = frame.copy()`\n",
      "  df[f'has_{type_value.lower().replace(\" \", \"_\")}'] = df['types'].apply(lambda x: 1 if type_value in x else 0)\n",
      "/tmp/ipykernel_58763/3958407231.py:2: PerformanceWarning: DataFrame is highly fragmented.  This is usually the result of calling `frame.insert` many times, which has poor performance.  Consider joining all columns at once using pd.concat(axis=1) instead. To get a de-fragmented frame, use `newframe = frame.copy()`\n",
      "  df[f'has_{type_value.lower().replace(\" \", \"_\")}'] = df['types'].apply(lambda x: 1 if type_value in x else 0)\n",
      "/tmp/ipykernel_58763/3958407231.py:2: PerformanceWarning: DataFrame is highly fragmented.  This is usually the result of calling `frame.insert` many times, which has poor performance.  Consider joining all columns at once using pd.concat(axis=1) instead. To get a de-fragmented frame, use `newframe = frame.copy()`\n",
      "  df[f'has_{type_value.lower().replace(\" \", \"_\")}'] = df['types'].apply(lambda x: 1 if type_value in x else 0)\n",
      "/tmp/ipykernel_58763/3958407231.py:2: PerformanceWarning: DataFrame is highly fragmented.  This is usually the result of calling `frame.insert` many times, which has poor performance.  Consider joining all columns at once using pd.concat(axis=1) instead. To get a de-fragmented frame, use `newframe = frame.copy()`\n",
      "  df[f'has_{type_value.lower().replace(\" \", \"_\")}'] = df['types'].apply(lambda x: 1 if type_value in x else 0)\n",
      "/tmp/ipykernel_58763/3958407231.py:2: PerformanceWarning: DataFrame is highly fragmented.  This is usually the result of calling `frame.insert` many times, which has poor performance.  Consider joining all columns at once using pd.concat(axis=1) instead. To get a de-fragmented frame, use `newframe = frame.copy()`\n",
      "  df[f'has_{type_value.lower().replace(\" \", \"_\")}'] = df['types'].apply(lambda x: 1 if type_value in x else 0)\n",
      "/tmp/ipykernel_58763/3958407231.py:2: PerformanceWarning: DataFrame is highly fragmented.  This is usually the result of calling `frame.insert` many times, which has poor performance.  Consider joining all columns at once using pd.concat(axis=1) instead. To get a de-fragmented frame, use `newframe = frame.copy()`\n",
      "  df[f'has_{type_value.lower().replace(\" \", \"_\")}'] = df['types'].apply(lambda x: 1 if type_value in x else 0)\n",
      "/tmp/ipykernel_58763/3958407231.py:2: PerformanceWarning: DataFrame is highly fragmented.  This is usually the result of calling `frame.insert` many times, which has poor performance.  Consider joining all columns at once using pd.concat(axis=1) instead. To get a de-fragmented frame, use `newframe = frame.copy()`\n",
      "  df[f'has_{type_value.lower().replace(\" \", \"_\")}'] = df['types'].apply(lambda x: 1 if type_value in x else 0)\n",
      "/tmp/ipykernel_58763/3958407231.py:2: PerformanceWarning: DataFrame is highly fragmented.  This is usually the result of calling `frame.insert` many times, which has poor performance.  Consider joining all columns at once using pd.concat(axis=1) instead. To get a de-fragmented frame, use `newframe = frame.copy()`\n",
      "  df[f'has_{type_value.lower().replace(\" \", \"_\")}'] = df['types'].apply(lambda x: 1 if type_value in x else 0)\n",
      "/tmp/ipykernel_58763/3958407231.py:2: PerformanceWarning: DataFrame is highly fragmented.  This is usually the result of calling `frame.insert` many times, which has poor performance.  Consider joining all columns at once using pd.concat(axis=1) instead. To get a de-fragmented frame, use `newframe = frame.copy()`\n",
      "  df[f'has_{type_value.lower().replace(\" \", \"_\")}'] = df['types'].apply(lambda x: 1 if type_value in x else 0)\n",
      "/tmp/ipykernel_58763/3958407231.py:2: PerformanceWarning: DataFrame is highly fragmented.  This is usually the result of calling `frame.insert` many times, which has poor performance.  Consider joining all columns at once using pd.concat(axis=1) instead. To get a de-fragmented frame, use `newframe = frame.copy()`\n",
      "  df[f'has_{type_value.lower().replace(\" \", \"_\")}'] = df['types'].apply(lambda x: 1 if type_value in x else 0)\n",
      "/tmp/ipykernel_58763/3958407231.py:2: PerformanceWarning: DataFrame is highly fragmented.  This is usually the result of calling `frame.insert` many times, which has poor performance.  Consider joining all columns at once using pd.concat(axis=1) instead. To get a de-fragmented frame, use `newframe = frame.copy()`\n",
      "  df[f'has_{type_value.lower().replace(\" \", \"_\")}'] = df['types'].apply(lambda x: 1 if type_value in x else 0)\n",
      "/tmp/ipykernel_58763/3958407231.py:2: PerformanceWarning: DataFrame is highly fragmented.  This is usually the result of calling `frame.insert` many times, which has poor performance.  Consider joining all columns at once using pd.concat(axis=1) instead. To get a de-fragmented frame, use `newframe = frame.copy()`\n",
      "  df[f'has_{type_value.lower().replace(\" \", \"_\")}'] = df['types'].apply(lambda x: 1 if type_value in x else 0)\n",
      "/tmp/ipykernel_58763/3958407231.py:2: PerformanceWarning: DataFrame is highly fragmented.  This is usually the result of calling `frame.insert` many times, which has poor performance.  Consider joining all columns at once using pd.concat(axis=1) instead. To get a de-fragmented frame, use `newframe = frame.copy()`\n",
      "  df[f'has_{type_value.lower().replace(\" \", \"_\")}'] = df['types'].apply(lambda x: 1 if type_value in x else 0)\n",
      "/tmp/ipykernel_58763/3958407231.py:2: PerformanceWarning: DataFrame is highly fragmented.  This is usually the result of calling `frame.insert` many times, which has poor performance.  Consider joining all columns at once using pd.concat(axis=1) instead. To get a de-fragmented frame, use `newframe = frame.copy()`\n",
      "  df[f'has_{type_value.lower().replace(\" \", \"_\")}'] = df['types'].apply(lambda x: 1 if type_value in x else 0)\n",
      "/tmp/ipykernel_58763/3958407231.py:2: PerformanceWarning: DataFrame is highly fragmented.  This is usually the result of calling `frame.insert` many times, which has poor performance.  Consider joining all columns at once using pd.concat(axis=1) instead. To get a de-fragmented frame, use `newframe = frame.copy()`\n",
      "  df[f'has_{type_value.lower().replace(\" \", \"_\")}'] = df['types'].apply(lambda x: 1 if type_value in x else 0)\n",
      "/tmp/ipykernel_58763/3958407231.py:2: PerformanceWarning: DataFrame is highly fragmented.  This is usually the result of calling `frame.insert` many times, which has poor performance.  Consider joining all columns at once using pd.concat(axis=1) instead. To get a de-fragmented frame, use `newframe = frame.copy()`\n",
      "  df[f'has_{type_value.lower().replace(\" \", \"_\")}'] = df['types'].apply(lambda x: 1 if type_value in x else 0)\n",
      "/tmp/ipykernel_58763/3958407231.py:2: PerformanceWarning: DataFrame is highly fragmented.  This is usually the result of calling `frame.insert` many times, which has poor performance.  Consider joining all columns at once using pd.concat(axis=1) instead. To get a de-fragmented frame, use `newframe = frame.copy()`\n",
      "  df[f'has_{type_value.lower().replace(\" \", \"_\")}'] = df['types'].apply(lambda x: 1 if type_value in x else 0)\n",
      "/tmp/ipykernel_58763/3958407231.py:2: PerformanceWarning: DataFrame is highly fragmented.  This is usually the result of calling `frame.insert` many times, which has poor performance.  Consider joining all columns at once using pd.concat(axis=1) instead. To get a de-fragmented frame, use `newframe = frame.copy()`\n",
      "  df[f'has_{type_value.lower().replace(\" \", \"_\")}'] = df['types'].apply(lambda x: 1 if type_value in x else 0)\n",
      "/tmp/ipykernel_58763/3958407231.py:2: PerformanceWarning: DataFrame is highly fragmented.  This is usually the result of calling `frame.insert` many times, which has poor performance.  Consider joining all columns at once using pd.concat(axis=1) instead. To get a de-fragmented frame, use `newframe = frame.copy()`\n",
      "  df[f'has_{type_value.lower().replace(\" \", \"_\")}'] = df['types'].apply(lambda x: 1 if type_value in x else 0)\n",
      "/tmp/ipykernel_58763/3958407231.py:2: PerformanceWarning: DataFrame is highly fragmented.  This is usually the result of calling `frame.insert` many times, which has poor performance.  Consider joining all columns at once using pd.concat(axis=1) instead. To get a de-fragmented frame, use `newframe = frame.copy()`\n",
      "  df[f'has_{type_value.lower().replace(\" \", \"_\")}'] = df['types'].apply(lambda x: 1 if type_value in x else 0)\n",
      "/tmp/ipykernel_58763/3958407231.py:2: PerformanceWarning: DataFrame is highly fragmented.  This is usually the result of calling `frame.insert` many times, which has poor performance.  Consider joining all columns at once using pd.concat(axis=1) instead. To get a de-fragmented frame, use `newframe = frame.copy()`\n",
      "  df[f'has_{type_value.lower().replace(\" \", \"_\")}'] = df['types'].apply(lambda x: 1 if type_value in x else 0)\n",
      "/tmp/ipykernel_58763/3958407231.py:2: PerformanceWarning: DataFrame is highly fragmented.  This is usually the result of calling `frame.insert` many times, which has poor performance.  Consider joining all columns at once using pd.concat(axis=1) instead. To get a de-fragmented frame, use `newframe = frame.copy()`\n",
      "  df[f'has_{type_value.lower().replace(\" \", \"_\")}'] = df['types'].apply(lambda x: 1 if type_value in x else 0)\n",
      "/tmp/ipykernel_58763/3958407231.py:2: PerformanceWarning: DataFrame is highly fragmented.  This is usually the result of calling `frame.insert` many times, which has poor performance.  Consider joining all columns at once using pd.concat(axis=1) instead. To get a de-fragmented frame, use `newframe = frame.copy()`\n",
      "  df[f'has_{type_value.lower().replace(\" \", \"_\")}'] = df['types'].apply(lambda x: 1 if type_value in x else 0)\n",
      "/tmp/ipykernel_58763/3958407231.py:2: PerformanceWarning: DataFrame is highly fragmented.  This is usually the result of calling `frame.insert` many times, which has poor performance.  Consider joining all columns at once using pd.concat(axis=1) instead. To get a de-fragmented frame, use `newframe = frame.copy()`\n",
      "  df[f'has_{type_value.lower().replace(\" \", \"_\")}'] = df['types'].apply(lambda x: 1 if type_value in x else 0)\n",
      "/tmp/ipykernel_58763/3958407231.py:2: PerformanceWarning: DataFrame is highly fragmented.  This is usually the result of calling `frame.insert` many times, which has poor performance.  Consider joining all columns at once using pd.concat(axis=1) instead. To get a de-fragmented frame, use `newframe = frame.copy()`\n",
      "  df[f'has_{type_value.lower().replace(\" \", \"_\")}'] = df['types'].apply(lambda x: 1 if type_value in x else 0)\n",
      "/tmp/ipykernel_58763/3958407231.py:2: PerformanceWarning: DataFrame is highly fragmented.  This is usually the result of calling `frame.insert` many times, which has poor performance.  Consider joining all columns at once using pd.concat(axis=1) instead. To get a de-fragmented frame, use `newframe = frame.copy()`\n",
      "  df[f'has_{type_value.lower().replace(\" \", \"_\")}'] = df['types'].apply(lambda x: 1 if type_value in x else 0)\n",
      "/tmp/ipykernel_58763/3958407231.py:2: PerformanceWarning: DataFrame is highly fragmented.  This is usually the result of calling `frame.insert` many times, which has poor performance.  Consider joining all columns at once using pd.concat(axis=1) instead. To get a de-fragmented frame, use `newframe = frame.copy()`\n",
      "  df[f'has_{type_value.lower().replace(\" \", \"_\")}'] = df['types'].apply(lambda x: 1 if type_value in x else 0)\n",
      "/tmp/ipykernel_58763/3958407231.py:2: PerformanceWarning: DataFrame is highly fragmented.  This is usually the result of calling `frame.insert` many times, which has poor performance.  Consider joining all columns at once using pd.concat(axis=1) instead. To get a de-fragmented frame, use `newframe = frame.copy()`\n",
      "  df[f'has_{type_value.lower().replace(\" \", \"_\")}'] = df['types'].apply(lambda x: 1 if type_value in x else 0)\n",
      "/tmp/ipykernel_58763/3958407231.py:2: PerformanceWarning: DataFrame is highly fragmented.  This is usually the result of calling `frame.insert` many times, which has poor performance.  Consider joining all columns at once using pd.concat(axis=1) instead. To get a de-fragmented frame, use `newframe = frame.copy()`\n",
      "  df[f'has_{type_value.lower().replace(\" \", \"_\")}'] = df['types'].apply(lambda x: 1 if type_value in x else 0)\n",
      "/tmp/ipykernel_58763/3958407231.py:2: PerformanceWarning: DataFrame is highly fragmented.  This is usually the result of calling `frame.insert` many times, which has poor performance.  Consider joining all columns at once using pd.concat(axis=1) instead. To get a de-fragmented frame, use `newframe = frame.copy()`\n",
      "  df[f'has_{type_value.lower().replace(\" \", \"_\")}'] = df['types'].apply(lambda x: 1 if type_value in x else 0)\n",
      "/tmp/ipykernel_58763/3958407231.py:2: PerformanceWarning: DataFrame is highly fragmented.  This is usually the result of calling `frame.insert` many times, which has poor performance.  Consider joining all columns at once using pd.concat(axis=1) instead. To get a de-fragmented frame, use `newframe = frame.copy()`\n",
      "  df[f'has_{type_value.lower().replace(\" \", \"_\")}'] = df['types'].apply(lambda x: 1 if type_value in x else 0)\n",
      "/tmp/ipykernel_58763/3958407231.py:2: PerformanceWarning: DataFrame is highly fragmented.  This is usually the result of calling `frame.insert` many times, which has poor performance.  Consider joining all columns at once using pd.concat(axis=1) instead. To get a de-fragmented frame, use `newframe = frame.copy()`\n",
      "  df[f'has_{type_value.lower().replace(\" \", \"_\")}'] = df['types'].apply(lambda x: 1 if type_value in x else 0)\n",
      "/tmp/ipykernel_58763/3958407231.py:2: PerformanceWarning: DataFrame is highly fragmented.  This is usually the result of calling `frame.insert` many times, which has poor performance.  Consider joining all columns at once using pd.concat(axis=1) instead. To get a de-fragmented frame, use `newframe = frame.copy()`\n",
      "  df[f'has_{type_value.lower().replace(\" \", \"_\")}'] = df['types'].apply(lambda x: 1 if type_value in x else 0)\n",
      "/tmp/ipykernel_58763/3958407231.py:2: PerformanceWarning: DataFrame is highly fragmented.  This is usually the result of calling `frame.insert` many times, which has poor performance.  Consider joining all columns at once using pd.concat(axis=1) instead. To get a de-fragmented frame, use `newframe = frame.copy()`\n",
      "  df[f'has_{type_value.lower().replace(\" \", \"_\")}'] = df['types'].apply(lambda x: 1 if type_value in x else 0)\n",
      "/tmp/ipykernel_58763/3958407231.py:2: PerformanceWarning: DataFrame is highly fragmented.  This is usually the result of calling `frame.insert` many times, which has poor performance.  Consider joining all columns at once using pd.concat(axis=1) instead. To get a de-fragmented frame, use `newframe = frame.copy()`\n",
      "  df[f'has_{type_value.lower().replace(\" \", \"_\")}'] = df['types'].apply(lambda x: 1 if type_value in x else 0)\n",
      "/tmp/ipykernel_58763/3958407231.py:2: PerformanceWarning: DataFrame is highly fragmented.  This is usually the result of calling `frame.insert` many times, which has poor performance.  Consider joining all columns at once using pd.concat(axis=1) instead. To get a de-fragmented frame, use `newframe = frame.copy()`\n",
      "  df[f'has_{type_value.lower().replace(\" \", \"_\")}'] = df['types'].apply(lambda x: 1 if type_value in x else 0)\n",
      "/tmp/ipykernel_58763/3958407231.py:2: PerformanceWarning: DataFrame is highly fragmented.  This is usually the result of calling `frame.insert` many times, which has poor performance.  Consider joining all columns at once using pd.concat(axis=1) instead. To get a de-fragmented frame, use `newframe = frame.copy()`\n",
      "  df[f'has_{type_value.lower().replace(\" \", \"_\")}'] = df['types'].apply(lambda x: 1 if type_value in x else 0)\n",
      "/tmp/ipykernel_58763/3958407231.py:2: PerformanceWarning: DataFrame is highly fragmented.  This is usually the result of calling `frame.insert` many times, which has poor performance.  Consider joining all columns at once using pd.concat(axis=1) instead. To get a de-fragmented frame, use `newframe = frame.copy()`\n",
      "  df[f'has_{type_value.lower().replace(\" \", \"_\")}'] = df['types'].apply(lambda x: 1 if type_value in x else 0)\n",
      "/tmp/ipykernel_58763/3958407231.py:2: PerformanceWarning: DataFrame is highly fragmented.  This is usually the result of calling `frame.insert` many times, which has poor performance.  Consider joining all columns at once using pd.concat(axis=1) instead. To get a de-fragmented frame, use `newframe = frame.copy()`\n",
      "  df[f'has_{type_value.lower().replace(\" \", \"_\")}'] = df['types'].apply(lambda x: 1 if type_value in x else 0)\n",
      "/tmp/ipykernel_58763/3958407231.py:2: PerformanceWarning: DataFrame is highly fragmented.  This is usually the result of calling `frame.insert` many times, which has poor performance.  Consider joining all columns at once using pd.concat(axis=1) instead. To get a de-fragmented frame, use `newframe = frame.copy()`\n",
      "  df[f'has_{type_value.lower().replace(\" \", \"_\")}'] = df['types'].apply(lambda x: 1 if type_value in x else 0)\n",
      "/tmp/ipykernel_58763/3958407231.py:2: PerformanceWarning: DataFrame is highly fragmented.  This is usually the result of calling `frame.insert` many times, which has poor performance.  Consider joining all columns at once using pd.concat(axis=1) instead. To get a de-fragmented frame, use `newframe = frame.copy()`\n",
      "  df[f'has_{type_value.lower().replace(\" \", \"_\")}'] = df['types'].apply(lambda x: 1 if type_value in x else 0)\n",
      "/tmp/ipykernel_58763/3958407231.py:2: PerformanceWarning: DataFrame is highly fragmented.  This is usually the result of calling `frame.insert` many times, which has poor performance.  Consider joining all columns at once using pd.concat(axis=1) instead. To get a de-fragmented frame, use `newframe = frame.copy()`\n",
      "  df[f'has_{type_value.lower().replace(\" \", \"_\")}'] = df['types'].apply(lambda x: 1 if type_value in x else 0)\n",
      "/tmp/ipykernel_58763/3958407231.py:2: PerformanceWarning: DataFrame is highly fragmented.  This is usually the result of calling `frame.insert` many times, which has poor performance.  Consider joining all columns at once using pd.concat(axis=1) instead. To get a de-fragmented frame, use `newframe = frame.copy()`\n",
      "  df[f'has_{type_value.lower().replace(\" \", \"_\")}'] = df['types'].apply(lambda x: 1 if type_value in x else 0)\n",
      "/tmp/ipykernel_58763/3958407231.py:2: PerformanceWarning: DataFrame is highly fragmented.  This is usually the result of calling `frame.insert` many times, which has poor performance.  Consider joining all columns at once using pd.concat(axis=1) instead. To get a de-fragmented frame, use `newframe = frame.copy()`\n",
      "  df[f'has_{type_value.lower().replace(\" \", \"_\")}'] = df['types'].apply(lambda x: 1 if type_value in x else 0)\n",
      "/tmp/ipykernel_58763/3958407231.py:2: PerformanceWarning: DataFrame is highly fragmented.  This is usually the result of calling `frame.insert` many times, which has poor performance.  Consider joining all columns at once using pd.concat(axis=1) instead. To get a de-fragmented frame, use `newframe = frame.copy()`\n",
      "  df[f'has_{type_value.lower().replace(\" \", \"_\")}'] = df['types'].apply(lambda x: 1 if type_value in x else 0)\n",
      "/tmp/ipykernel_58763/3958407231.py:2: PerformanceWarning: DataFrame is highly fragmented.  This is usually the result of calling `frame.insert` many times, which has poor performance.  Consider joining all columns at once using pd.concat(axis=1) instead. To get a de-fragmented frame, use `newframe = frame.copy()`\n",
      "  df[f'has_{type_value.lower().replace(\" \", \"_\")}'] = df['types'].apply(lambda x: 1 if type_value in x else 0)\n",
      "/tmp/ipykernel_58763/3958407231.py:2: PerformanceWarning: DataFrame is highly fragmented.  This is usually the result of calling `frame.insert` many times, which has poor performance.  Consider joining all columns at once using pd.concat(axis=1) instead. To get a de-fragmented frame, use `newframe = frame.copy()`\n",
      "  df[f'has_{type_value.lower().replace(\" \", \"_\")}'] = df['types'].apply(lambda x: 1 if type_value in x else 0)\n",
      "/tmp/ipykernel_58763/3958407231.py:2: PerformanceWarning: DataFrame is highly fragmented.  This is usually the result of calling `frame.insert` many times, which has poor performance.  Consider joining all columns at once using pd.concat(axis=1) instead. To get a de-fragmented frame, use `newframe = frame.copy()`\n",
      "  df[f'has_{type_value.lower().replace(\" \", \"_\")}'] = df['types'].apply(lambda x: 1 if type_value in x else 0)\n",
      "/tmp/ipykernel_58763/3958407231.py:2: PerformanceWarning: DataFrame is highly fragmented.  This is usually the result of calling `frame.insert` many times, which has poor performance.  Consider joining all columns at once using pd.concat(axis=1) instead. To get a de-fragmented frame, use `newframe = frame.copy()`\n",
      "  df[f'has_{type_value.lower().replace(\" \", \"_\")}'] = df['types'].apply(lambda x: 1 if type_value in x else 0)\n",
      "/tmp/ipykernel_58763/3958407231.py:2: PerformanceWarning: DataFrame is highly fragmented.  This is usually the result of calling `frame.insert` many times, which has poor performance.  Consider joining all columns at once using pd.concat(axis=1) instead. To get a de-fragmented frame, use `newframe = frame.copy()`\n",
      "  df[f'has_{type_value.lower().replace(\" \", \"_\")}'] = df['types'].apply(lambda x: 1 if type_value in x else 0)\n",
      "/tmp/ipykernel_58763/3958407231.py:2: PerformanceWarning: DataFrame is highly fragmented.  This is usually the result of calling `frame.insert` many times, which has poor performance.  Consider joining all columns at once using pd.concat(axis=1) instead. To get a de-fragmented frame, use `newframe = frame.copy()`\n",
      "  df[f'has_{type_value.lower().replace(\" \", \"_\")}'] = df['types'].apply(lambda x: 1 if type_value in x else 0)\n",
      "/tmp/ipykernel_58763/3958407231.py:2: PerformanceWarning: DataFrame is highly fragmented.  This is usually the result of calling `frame.insert` many times, which has poor performance.  Consider joining all columns at once using pd.concat(axis=1) instead. To get a de-fragmented frame, use `newframe = frame.copy()`\n",
      "  df[f'has_{type_value.lower().replace(\" \", \"_\")}'] = df['types'].apply(lambda x: 1 if type_value in x else 0)\n",
      "/tmp/ipykernel_58763/3958407231.py:2: PerformanceWarning: DataFrame is highly fragmented.  This is usually the result of calling `frame.insert` many times, which has poor performance.  Consider joining all columns at once using pd.concat(axis=1) instead. To get a de-fragmented frame, use `newframe = frame.copy()`\n",
      "  df[f'has_{type_value.lower().replace(\" \", \"_\")}'] = df['types'].apply(lambda x: 1 if type_value in x else 0)\n",
      "/tmp/ipykernel_58763/3958407231.py:2: PerformanceWarning: DataFrame is highly fragmented.  This is usually the result of calling `frame.insert` many times, which has poor performance.  Consider joining all columns at once using pd.concat(axis=1) instead. To get a de-fragmented frame, use `newframe = frame.copy()`\n",
      "  df[f'has_{type_value.lower().replace(\" \", \"_\")}'] = df['types'].apply(lambda x: 1 if type_value in x else 0)\n",
      "/tmp/ipykernel_58763/3958407231.py:2: PerformanceWarning: DataFrame is highly fragmented.  This is usually the result of calling `frame.insert` many times, which has poor performance.  Consider joining all columns at once using pd.concat(axis=1) instead. To get a de-fragmented frame, use `newframe = frame.copy()`\n",
      "  df[f'has_{type_value.lower().replace(\" \", \"_\")}'] = df['types'].apply(lambda x: 1 if type_value in x else 0)\n",
      "/tmp/ipykernel_58763/3958407231.py:2: PerformanceWarning: DataFrame is highly fragmented.  This is usually the result of calling `frame.insert` many times, which has poor performance.  Consider joining all columns at once using pd.concat(axis=1) instead. To get a de-fragmented frame, use `newframe = frame.copy()`\n",
      "  df[f'has_{type_value.lower().replace(\" \", \"_\")}'] = df['types'].apply(lambda x: 1 if type_value in x else 0)\n",
      "/tmp/ipykernel_58763/3958407231.py:2: PerformanceWarning: DataFrame is highly fragmented.  This is usually the result of calling `frame.insert` many times, which has poor performance.  Consider joining all columns at once using pd.concat(axis=1) instead. To get a de-fragmented frame, use `newframe = frame.copy()`\n",
      "  df[f'has_{type_value.lower().replace(\" \", \"_\")}'] = df['types'].apply(lambda x: 1 if type_value in x else 0)\n",
      "/tmp/ipykernel_58763/3958407231.py:2: PerformanceWarning: DataFrame is highly fragmented.  This is usually the result of calling `frame.insert` many times, which has poor performance.  Consider joining all columns at once using pd.concat(axis=1) instead. To get a de-fragmented frame, use `newframe = frame.copy()`\n",
      "  df[f'has_{type_value.lower().replace(\" \", \"_\")}'] = df['types'].apply(lambda x: 1 if type_value in x else 0)\n",
      "/tmp/ipykernel_58763/3958407231.py:2: PerformanceWarning: DataFrame is highly fragmented.  This is usually the result of calling `frame.insert` many times, which has poor performance.  Consider joining all columns at once using pd.concat(axis=1) instead. To get a de-fragmented frame, use `newframe = frame.copy()`\n",
      "  df[f'has_{type_value.lower().replace(\" \", \"_\")}'] = df['types'].apply(lambda x: 1 if type_value in x else 0)\n",
      "/tmp/ipykernel_58763/3958407231.py:2: PerformanceWarning: DataFrame is highly fragmented.  This is usually the result of calling `frame.insert` many times, which has poor performance.  Consider joining all columns at once using pd.concat(axis=1) instead. To get a de-fragmented frame, use `newframe = frame.copy()`\n",
      "  df[f'has_{type_value.lower().replace(\" \", \"_\")}'] = df['types'].apply(lambda x: 1 if type_value in x else 0)\n",
      "/tmp/ipykernel_58763/3958407231.py:2: PerformanceWarning: DataFrame is highly fragmented.  This is usually the result of calling `frame.insert` many times, which has poor performance.  Consider joining all columns at once using pd.concat(axis=1) instead. To get a de-fragmented frame, use `newframe = frame.copy()`\n",
      "  df[f'has_{type_value.lower().replace(\" \", \"_\")}'] = df['types'].apply(lambda x: 1 if type_value in x else 0)\n",
      "/tmp/ipykernel_58763/3958407231.py:2: PerformanceWarning: DataFrame is highly fragmented.  This is usually the result of calling `frame.insert` many times, which has poor performance.  Consider joining all columns at once using pd.concat(axis=1) instead. To get a de-fragmented frame, use `newframe = frame.copy()`\n",
      "  df[f'has_{type_value.lower().replace(\" \", \"_\")}'] = df['types'].apply(lambda x: 1 if type_value in x else 0)\n",
      "/tmp/ipykernel_58763/3958407231.py:2: PerformanceWarning: DataFrame is highly fragmented.  This is usually the result of calling `frame.insert` many times, which has poor performance.  Consider joining all columns at once using pd.concat(axis=1) instead. To get a de-fragmented frame, use `newframe = frame.copy()`\n",
      "  df[f'has_{type_value.lower().replace(\" \", \"_\")}'] = df['types'].apply(lambda x: 1 if type_value in x else 0)\n",
      "/tmp/ipykernel_58763/3958407231.py:2: PerformanceWarning: DataFrame is highly fragmented.  This is usually the result of calling `frame.insert` many times, which has poor performance.  Consider joining all columns at once using pd.concat(axis=1) instead. To get a de-fragmented frame, use `newframe = frame.copy()`\n",
      "  df[f'has_{type_value.lower().replace(\" \", \"_\")}'] = df['types'].apply(lambda x: 1 if type_value in x else 0)\n",
      "/tmp/ipykernel_58763/3958407231.py:2: PerformanceWarning: DataFrame is highly fragmented.  This is usually the result of calling `frame.insert` many times, which has poor performance.  Consider joining all columns at once using pd.concat(axis=1) instead. To get a de-fragmented frame, use `newframe = frame.copy()`\n",
      "  df[f'has_{type_value.lower().replace(\" \", \"_\")}'] = df['types'].apply(lambda x: 1 if type_value in x else 0)\n",
      "/tmp/ipykernel_58763/3958407231.py:2: PerformanceWarning: DataFrame is highly fragmented.  This is usually the result of calling `frame.insert` many times, which has poor performance.  Consider joining all columns at once using pd.concat(axis=1) instead. To get a de-fragmented frame, use `newframe = frame.copy()`\n",
      "  df[f'has_{type_value.lower().replace(\" \", \"_\")}'] = df['types'].apply(lambda x: 1 if type_value in x else 0)\n",
      "/tmp/ipykernel_58763/3958407231.py:2: PerformanceWarning: DataFrame is highly fragmented.  This is usually the result of calling `frame.insert` many times, which has poor performance.  Consider joining all columns at once using pd.concat(axis=1) instead. To get a de-fragmented frame, use `newframe = frame.copy()`\n",
      "  df[f'has_{type_value.lower().replace(\" \", \"_\")}'] = df['types'].apply(lambda x: 1 if type_value in x else 0)\n",
      "/tmp/ipykernel_58763/3958407231.py:2: PerformanceWarning: DataFrame is highly fragmented.  This is usually the result of calling `frame.insert` many times, which has poor performance.  Consider joining all columns at once using pd.concat(axis=1) instead. To get a de-fragmented frame, use `newframe = frame.copy()`\n",
      "  df[f'has_{type_value.lower().replace(\" \", \"_\")}'] = df['types'].apply(lambda x: 1 if type_value in x else 0)\n",
      "/tmp/ipykernel_58763/3958407231.py:2: PerformanceWarning: DataFrame is highly fragmented.  This is usually the result of calling `frame.insert` many times, which has poor performance.  Consider joining all columns at once using pd.concat(axis=1) instead. To get a de-fragmented frame, use `newframe = frame.copy()`\n",
      "  df[f'has_{type_value.lower().replace(\" \", \"_\")}'] = df['types'].apply(lambda x: 1 if type_value in x else 0)\n",
      "/tmp/ipykernel_58763/3958407231.py:2: PerformanceWarning: DataFrame is highly fragmented.  This is usually the result of calling `frame.insert` many times, which has poor performance.  Consider joining all columns at once using pd.concat(axis=1) instead. To get a de-fragmented frame, use `newframe = frame.copy()`\n",
      "  df[f'has_{type_value.lower().replace(\" \", \"_\")}'] = df['types'].apply(lambda x: 1 if type_value in x else 0)\n"
     ]
    },
    {
     "data": {
      "text/html": [
       "<div>\n",
       "<style scoped>\n",
       "    .dataframe tbody tr th:only-of-type {\n",
       "        vertical-align: middle;\n",
       "    }\n",
       "\n",
       "    .dataframe tbody tr th {\n",
       "        vertical-align: top;\n",
       "    }\n",
       "\n",
       "    .dataframe thead th {\n",
       "        text-align: right;\n",
       "    }\n",
       "</style>\n",
       "<table border=\"1\" class=\"dataframe\">\n",
       "  <thead>\n",
       "    <tr style=\"text-align: right;\">\n",
       "      <th></th>\n",
       "      <th>features</th>\n",
       "      <th>target</th>\n",
       "      <th>comments</th>\n",
       "      <th>has_tapa</th>\n",
       "      <th>has_nurimisaki</th>\n",
       "      <th>has_kompass</th>\n",
       "      <th>has_palindrome_(variante)</th>\n",
       "      <th>has_anti-queen_(variante)</th>\n",
       "      <th>has_10-in-9_(variante)</th>\n",
       "      <th>has_modifier_cells_(variante)</th>\n",
       "      <th>...</th>\n",
       "      <th>has_tomtom</th>\n",
       "      <th>has_statue_park</th>\n",
       "      <th>has_extra_regions_(variante)</th>\n",
       "      <th>has_logical</th>\n",
       "      <th>has_norinori</th>\n",
       "      <th>has_anti-knight_(variante)</th>\n",
       "      <th>has_daisho</th>\n",
       "      <th>has_earthquake_(variante)</th>\n",
       "      <th>has_diagonal_(variante)</th>\n",
       "      <th>has_cross_the_streams</th>\n",
       "    </tr>\n",
       "  </thead>\n",
       "  <tbody>\n",
       "    <tr>\n",
       "      <th>0</th>\n",
       "      <td>plato feeling unwell hypochondriac thermometer...</td>\n",
       "      <td>3</td>\n",
       "      <td>added comment work solution code</td>\n",
       "      <td>0</td>\n",
       "      <td>0</td>\n",
       "      <td>0</td>\n",
       "      <td>0</td>\n",
       "      <td>0</td>\n",
       "      <td>0</td>\n",
       "      <td>0</td>\n",
       "      <td>...</td>\n",
       "      <td>0</td>\n",
       "      <td>0</td>\n",
       "      <td>0</td>\n",
       "      <td>0</td>\n",
       "      <td>0</td>\n",
       "      <td>0</td>\n",
       "      <td>0</td>\n",
       "      <td>0</td>\n",
       "      <td>0</td>\n",
       "      <td>0</td>\n",
       "    </tr>\n",
       "    <tr>\n",
       "      <th>1</th>\n",
       "      <td>friend roman countryman lend ear come bury cae...</td>\n",
       "      <td>4</td>\n",
       "      <td>added roman numeral tag</td>\n",
       "      <td>0</td>\n",
       "      <td>0</td>\n",
       "      <td>0</td>\n",
       "      <td>0</td>\n",
       "      <td>0</td>\n",
       "      <td>0</td>\n",
       "      <td>0</td>\n",
       "      <td>...</td>\n",
       "      <td>0</td>\n",
       "      <td>0</td>\n",
       "      <td>0</td>\n",
       "      <td>0</td>\n",
       "      <td>0</td>\n",
       "      <td>0</td>\n",
       "      <td>0</td>\n",
       "      <td>0</td>\n",
       "      <td>0</td>\n",
       "      <td>0</td>\n",
       "    </tr>\n",
       "    <tr>\n",
       "      <th>2</th>\n",
       "      <td>standard yinyang rule apply</td>\n",
       "      <td>2</td>\n",
       "      <td>tougher expected star difficult puzzle maybe f...</td>\n",
       "      <td>0</td>\n",
       "      <td>0</td>\n",
       "      <td>0</td>\n",
       "      <td>0</td>\n",
       "      <td>0</td>\n",
       "      <td>0</td>\n",
       "      <td>0</td>\n",
       "      <td>...</td>\n",
       "      <td>0</td>\n",
       "      <td>0</td>\n",
       "      <td>0</td>\n",
       "      <td>0</td>\n",
       "      <td>0</td>\n",
       "      <td>0</td>\n",
       "      <td>0</td>\n",
       "      <td>0</td>\n",
       "      <td>0</td>\n",
       "      <td>0</td>\n",
       "    </tr>\n",
       "    <tr>\n",
       "      <th>3</th>\n",
       "      <td>penpastandard sudoku rule apply final numerica...</td>\n",
       "      <td>3</td>\n",
       "      <td>fun puzzle requiring tremendously wonderful va...</td>\n",
       "      <td>0</td>\n",
       "      <td>0</td>\n",
       "      <td>0</td>\n",
       "      <td>0</td>\n",
       "      <td>0</td>\n",
       "      <td>0</td>\n",
       "      <td>0</td>\n",
       "      <td>...</td>\n",
       "      <td>0</td>\n",
       "      <td>0</td>\n",
       "      <td>0</td>\n",
       "      <td>0</td>\n",
       "      <td>0</td>\n",
       "      <td>0</td>\n",
       "      <td>0</td>\n",
       "      <td>0</td>\n",
       "      <td>1</td>\n",
       "      <td>0</td>\n",
       "    </tr>\n",
       "    <tr>\n",
       "      <th>4</th>\n",
       "      <td>ring killerlittle killer sudoku wessel strijks...</td>\n",
       "      <td>3</td>\n",
       "      <td>smistry thanks glad liked thanks setting nice ...</td>\n",
       "      <td>0</td>\n",
       "      <td>0</td>\n",
       "      <td>0</td>\n",
       "      <td>0</td>\n",
       "      <td>0</td>\n",
       "      <td>0</td>\n",
       "      <td>0</td>\n",
       "      <td>...</td>\n",
       "      <td>0</td>\n",
       "      <td>0</td>\n",
       "      <td>0</td>\n",
       "      <td>0</td>\n",
       "      <td>0</td>\n",
       "      <td>0</td>\n",
       "      <td>0</td>\n",
       "      <td>0</td>\n",
       "      <td>0</td>\n",
       "      <td>0</td>\n",
       "    </tr>\n",
       "  </tbody>\n",
       "</table>\n",
       "<p>5 rows × 173 columns</p>\n",
       "</div>"
      ],
      "text/plain": [
       "                                            features  target  \\\n",
       "0  plato feeling unwell hypochondriac thermometer...       3   \n",
       "1  friend roman countryman lend ear come bury cae...       4   \n",
       "2                        standard yinyang rule apply       2   \n",
       "3  penpastandard sudoku rule apply final numerica...       3   \n",
       "4  ring killerlittle killer sudoku wessel strijks...       3   \n",
       "\n",
       "                                            comments  has_tapa  \\\n",
       "0                   added comment work solution code         0   \n",
       "1                            added roman numeral tag         0   \n",
       "2  tougher expected star difficult puzzle maybe f...         0   \n",
       "3  fun puzzle requiring tremendously wonderful va...         0   \n",
       "4  smistry thanks glad liked thanks setting nice ...         0   \n",
       "\n",
       "   has_nurimisaki  has_kompass  has_palindrome_(variante)  \\\n",
       "0               0            0                          0   \n",
       "1               0            0                          0   \n",
       "2               0            0                          0   \n",
       "3               0            0                          0   \n",
       "4               0            0                          0   \n",
       "\n",
       "   has_anti-queen_(variante)  has_10-in-9_(variante)  \\\n",
       "0                          0                       0   \n",
       "1                          0                       0   \n",
       "2                          0                       0   \n",
       "3                          0                       0   \n",
       "4                          0                       0   \n",
       "\n",
       "   has_modifier_cells_(variante)  ...  has_tomtom  has_statue_park  \\\n",
       "0                              0  ...           0                0   \n",
       "1                              0  ...           0                0   \n",
       "2                              0  ...           0                0   \n",
       "3                              0  ...           0                0   \n",
       "4                              0  ...           0                0   \n",
       "\n",
       "   has_extra_regions_(variante)  has_logical  has_norinori  \\\n",
       "0                             0            0             0   \n",
       "1                             0            0             0   \n",
       "2                             0            0             0   \n",
       "3                             0            0             0   \n",
       "4                             0            0             0   \n",
       "\n",
       "   has_anti-knight_(variante)  has_daisho  has_earthquake_(variante)  \\\n",
       "0                           0           0                          0   \n",
       "1                           0           0                          0   \n",
       "2                           0           0                          0   \n",
       "3                           0           0                          0   \n",
       "4                           0           0                          0   \n",
       "\n",
       "   has_diagonal_(variante)  has_cross_the_streams  \n",
       "0                        0                      0  \n",
       "1                        0                      0  \n",
       "2                        0                      0  \n",
       "3                        1                      0  \n",
       "4                        0                      0  \n",
       "\n",
       "[5 rows x 173 columns]"
      ]
     },
     "execution_count": 45,
     "metadata": {},
     "output_type": "execute_result"
    }
   ],
   "source": [
    "for type_value in unique_types:\n",
    "    df[f'has_{type_value.lower().replace(\" \", \"_\")}'] = df['types'].apply(lambda x: 1 if type_value in x else 0)\n",
    "\n",
    "df = df.drop(columns=['types'])\n",
    "\n",
    "df.head()"
   ]
  },
  {
   "cell_type": "code",
   "execution_count": 46,
   "id": "aff1fb4b-9b20-40bc-80b6-c45ce2332174",
   "metadata": {},
   "outputs": [
    {
     "name": "stdout",
     "output_type": "stream",
     "text": [
      "Data has been saved to ../data/data.csv\n"
     ]
    }
   ],
   "source": [
    "df.to_csv(output_path, index=False)\n",
    "\n",
    "print(f\"Data has been saved to {output_path}\")"
   ]
  },
  {
   "cell_type": "markdown",
   "id": "28e98d27-59b0-4cab-a4de-d9f1476b328e",
   "metadata": {},
   "source": [
    "## Checking how many puzzles are sudoku variants"
   ]
  },
  {
   "cell_type": "code",
   "execution_count": 49,
   "id": "1227bc3a-bd45-4318-b7cc-13ecfb50e14e",
   "metadata": {},
   "outputs": [
    {
     "name": "stdout",
     "output_type": "stream",
     "text": [
      "Columns related to 'sudoku':\n",
      "['has_sudoku']\n",
      "Total number of puzzles with 'sudoku' in their type: 9504\n"
     ]
    }
   ],
   "source": [
    "import pandas as pd\n",
    "\n",
    "df = pd.read_csv('../data/data.csv')\n",
    "\n",
    "sudoku_columns = [col for col in df.columns if 'sudoku' in col.lower()]\n",
    "\n",
    "print(\"Columns related to 'sudoku':\")\n",
    "print(sudoku_columns)\n",
    "\n",
    "total_sudoku_puzzles = df[sudoku_columns].sum().sum()\n",
    "\n",
    "print(f\"Total number of puzzles with 'sudoku' in their type: {total_sudoku_puzzles}\")"
   ]
  },
  {
   "cell_type": "code",
   "execution_count": 54,
   "id": "2363936d-1234-41e1-9321-b3d60250efa1",
   "metadata": {},
   "outputs": [
    {
     "data": {
      "image/png": "[encoded data removed]",
      "text/plain": [
       "<Figure size 800x600 with 1 Axes>"
      ]
     },
     "metadata": {},
     "output_type": "display_data"
    },
    {
     "name": "stdout",
     "output_type": "stream",
     "text": [
      "Total number of puzzles with 'sudoku' in their type: 9504\n"
     ]
    }
   ],
   "source": [
    "import pandas as pd\n",
    "import matplotlib.pyplot as plt\n",
    "\n",
    "df = pd.read_csv('../data/data.csv')\n",
    "\n",
    "sudoku_columns = [col for col in df.columns if 'sudoku' in col.lower()]\n",
    "\n",
    "df['is_sudoku'] = df[sudoku_columns].sum(axis=1).apply(lambda x: 1 if x > 0 else 0)\n",
    "\n",
    "sudoku_counts = df['is_sudoku'].value_counts()\n",
    "\n",
    "labels = ['Sudoku' if index == 1 else 'Not Sudoku' for index in sudoku_counts.index]\n",
    "\n",
    "plt.figure(figsize=(8, 6))\n",
    "plt.pie(sudoku_counts, labels=labels, autopct='%1.1f%%', colors=['#66b3ff', '#ff9999'])\n",
    "plt.title('Data Imbalance: Sudoku vs Non-Sudoku')\n",
    "plt.axis('equal')\n",
    "plt.show()\n",
    "\n",
    "total_sudoku_puzzles = df['is_sudoku'].sum()\n",
    "print(f\"Total number of puzzles with 'sudoku' in their type: {total_sudoku_puzzles}\")"
   ]
  },
  {
   "cell_type": "code",
   "execution_count": 55,
   "id": "606ab6d2-c901-4da7-9f33-c3564cbe4108",
   "metadata": {},
   "outputs": [],
   "source": [
    "import pandas as pd\n",
    "\n",
    "df = pd.read_csv('../data/data.csv')\n",
    "\n",
    "df['is_sudoku'] = df.filter(like='sudoku').sum(axis=1).apply(lambda x: 1 if x > 0 else 0)\n",
    "\n",
    "df_to_save = df[['features', 'is_sudoku']].rename(columns={'is_sudoku': 'target'})\n",
    "\n",
    "df_to_save.to_csv('../data/data_sudoku.csv', index=False)"
   ]
  },
  {
   "cell_type": "code",
   "execution_count": 57,
   "id": "2fd35d88-d54a-4288-937f-3747dfe52dde",
   "metadata": {},
   "outputs": [],
   "source": [
    "import pandas as pd\n",
    "\n",
    "df = pd.read_csv('../data/data.csv')\n",
    "\n",
    "df['is_sudoku'] = df.filter(like='sudoku').sum(axis=1).apply(lambda x: 1 if x > 0 else 0)\n",
    "\n",
    "has_columns = [col for col in df.columns if col.startswith('has')]\n",
    "\n",
    "df_to_save = df[['features', 'is_sudoku'] + has_columns].rename(columns={'is_sudoku': 'target'})\n",
    "\n",
    "df_to_save.to_csv('../data/data_sudoku.csv', index=False)"
   ]
  }
 ],
 "metadata": {
  "kernelspec": {
   "display_name": "Python 3 (ipykernel)",
   "language": "python",
   "name": "python3"
  },
  "language_info": {
   "codemirror_mode": {
    "name": "ipython",
    "version": 3
   },
   "file_extension": ".py",
   "mimetype": "text/x-python",
   "name": "python",
   "nbconvert_exporter": "python",
   "pygments_lexer": "ipython3",
   "version": "3.10.12"
  }
 },
 "nbformat": 4,
 "nbformat_minor": 5
}
