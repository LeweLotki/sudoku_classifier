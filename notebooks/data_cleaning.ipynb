{
 "cells": [
  {
   "cell_type": "markdown",
   "id": "d9884fcd-4a93-40a3-8cff-82b7e87fd3ad",
   "metadata": {},
   "source": [
    "## Loading data"
   ]
  },
  {
   "cell_type": "code",
   "execution_count": 1,
   "id": "3dd07a26-e7d9-4a27-81f3-c5556400700d",
   "metadata": {},
   "outputs": [],
   "source": [
    "import pandas as pd\n",
    "from sqlalchemy import create_engine"
   ]
  },
  {
   "cell_type": "code",
   "execution_count": 2,
   "id": "a6b22a70-29d9-4891-8ae0-09e2f62e07a5",
   "metadata": {},
   "outputs": [],
   "source": [
    "db_path = '../database.db'\n",
    "engine = create_engine(f'sqlite:///{db_path}')"
   ]
  },
  {
   "cell_type": "code",
   "execution_count": 3,
   "id": "da4433eb-9e69-4b67-a18f-9798213b06b8",
   "metadata": {},
   "outputs": [
    {
     "data": {
      "text/html": [
       "<div>\n",
       "<style scoped>\n",
       "    .dataframe tbody tr th:only-of-type {\n",
       "        vertical-align: middle;\n",
       "    }\n",
       "\n",
       "    .dataframe tbody tr th {\n",
       "        vertical-align: top;\n",
       "    }\n",
       "\n",
       "    .dataframe thead th {\n",
       "        text-align: right;\n",
       "    }\n",
       "</style>\n",
       "<table border=\"1\" class=\"dataframe\">\n",
       "  <thead>\n",
       "    <tr style=\"text-align: right;\">\n",
       "      <th></th>\n",
       "      <th>id</th>\n",
       "      <th>code</th>\n",
       "      <th>rules</th>\n",
       "      <th>difficulty</th>\n",
       "    </tr>\n",
       "  </thead>\n",
       "  <tbody>\n",
       "    <tr>\n",
       "      <th>0</th>\n",
       "      <td>1</td>\n",
       "      <td>000001</td>\n",
       "      <td>Ordnen Sie allen Buchstaben des Alphabets eine...</td>\n",
       "      <td>4</td>\n",
       "    </tr>\n",
       "    <tr>\n",
       "      <th>1</th>\n",
       "      <td>2</td>\n",
       "      <td>000002</td>\n",
       "      <td>Teile beide Diagramme in 12 unterschiedliche P...</td>\n",
       "      <td>2</td>\n",
       "    </tr>\n",
       "    <tr>\n",
       "      <th>2</th>\n",
       "      <td>3</td>\n",
       "      <td>000003</td>\n",
       "      <td>Befindet sich zwischen zwei Ziffern ein schwar...</td>\n",
       "      <td>2</td>\n",
       "    </tr>\n",
       "    <tr>\n",
       "      <th>3</th>\n",
       "      <td>4</td>\n",
       "      <td>000006</td>\n",
       "      <td>Hier noch die Anleitungen zu den beiden Einzel...</td>\n",
       "      <td>3</td>\n",
       "    </tr>\n",
       "    <tr>\n",
       "      <th>4</th>\n",
       "      <td>5</td>\n",
       "      <td>000009</td>\n",
       "      <td>Und das ist zu tun: In das Diagramm sollen Zif...</td>\n",
       "      <td>1</td>\n",
       "    </tr>\n",
       "  </tbody>\n",
       "</table>\n",
       "</div>"
      ],
      "text/plain": [
       "   id    code                                              rules  difficulty\n",
       "0   1  000001  Ordnen Sie allen Buchstaben des Alphabets eine...           4\n",
       "1   2  000002  Teile beide Diagramme in 12 unterschiedliche P...           2\n",
       "2   3  000003  Befindet sich zwischen zwei Ziffern ein schwar...           2\n",
       "3   4  000006  Hier noch die Anleitungen zu den beiden Einzel...           3\n",
       "4   5  000009  Und das ist zu tun: In das Diagramm sollen Zif...           1"
      ]
     },
     "execution_count": 3,
     "metadata": {},
     "output_type": "execute_result"
    }
   ],
   "source": [
    "df = pd.read_sql_table('puzzles', con=engine)\n",
    "df.head()"
   ]
  },
  {
   "cell_type": "code",
   "execution_count": 4,
   "id": "62e7b05b-eca5-4263-b78d-312806bf5180",
   "metadata": {},
   "outputs": [
    {
     "name": "stdout",
     "output_type": "stream",
     "text": [
      "Unique values in 'difficulty' column after mapping and reloading:\n",
      "[4 2 3 1 5]\n"
     ]
    }
   ],
   "source": [
    "unique_difficulties = df['difficulty'].unique()\n",
    "\n",
    "print(\"Unique values in 'difficulty' column after mapping and reloading:\")\n",
    "print(unique_difficulties)"
   ]
  },
  {
   "cell_type": "markdown",
   "id": "f8e3f2d8-5e08-4190-96b5-e13ea91c4819",
   "metadata": {},
   "source": [
    "## Data imbalance"
   ]
  },
  {
   "cell_type": "code",
   "execution_count": 5,
   "id": "d4897e5d-c501-4672-ae93-0e1c4f53c3be",
   "metadata": {},
   "outputs": [],
   "source": [
    "import matplotlib.pyplot as plt"
   ]
  },
  {
   "cell_type": "code",
   "execution_count": 6,
   "id": "ba687601-cc1a-4dd3-ae7c-4d673e85dd11",
   "metadata": {},
   "outputs": [],
   "source": [
    "def display_data_imbalance(df):\n",
    "    difficulty_counts = df['difficulty'].value_counts(normalize=True) * 100 \n",
    "    \n",
    "    plt.figure(figsize=(6, 6)) \n",
    "    plt.pie(\n",
    "        difficulty_counts, \n",
    "        labels=difficulty_counts.index, \n",
    "        autopct='%1.1f%%',  \n",
    "        startangle=140,     \n",
    "    )\n",
    "    plt.title('Distribution of Puzzle Difficulty Levels')\n",
    "    plt.axis('equal')\n",
    "    plt.show()"
   ]
  },
  {
   "cell_type": "code",
   "execution_count": 7,
   "id": "e89fb65a-c5b0-4846-8db1-2b1d49d0f3cb",
   "metadata": {},
   "outputs": [
    {
     "data": {
      "image/png": "[encoded data removed]",
      "text/plain": [
       "<Figure size 600x600 with 1 Axes>"
      ]
     },
     "metadata": {},
     "output_type": "display_data"
    }
   ],
   "source": [
    "display_data_imbalance(df)"
   ]
  },
  {
   "cell_type": "markdown",
   "id": "06742485-b8f7-4446-b921-65f7f9aab7aa",
   "metadata": {},
   "source": [
    "## Dropping non-english rule sets"
   ]
  },
  {
   "cell_type": "code",
   "execution_count": 8,
   "id": "ba370af3-d045-415e-ac91-ff96879c45f4",
   "metadata": {},
   "outputs": [],
   "source": [
    "from langdetect import detect, DetectorFactory"
   ]
  },
  {
   "cell_type": "code",
   "execution_count": 9,
   "id": "20c60d30-cf6b-4cb4-8beb-f69b680d157d",
   "metadata": {},
   "outputs": [],
   "source": [
    "DetectorFactory.seed = 0"
   ]
  },
  {
   "cell_type": "code",
   "execution_count": 10,
   "id": "7e7b0c12-cf36-4fef-a6c6-a0570c95d2e3",
   "metadata": {},
   "outputs": [],
   "source": [
    "def is_english(text):\n",
    "    try:\n",
    "        return detect(text) == 'en'\n",
    "    except:\n",
    "        return False"
   ]
  },
  {
   "cell_type": "code",
   "execution_count": 11,
   "id": "f51ca08e-b8e5-4559-82ab-a434c7772234",
   "metadata": {},
   "outputs": [
    {
     "name": "stdout",
     "output_type": "stream",
     "text": [
      "Number of rows with English rules: 10959\n"
     ]
    }
   ],
   "source": [
    "df = df[df['rules'].apply(is_english)]\n",
    "\n",
    "print(\"Number of rows with English rules:\", len(df))"
   ]
  },
  {
   "cell_type": "code",
   "execution_count": 12,
   "id": "7545ba9a-d813-48a0-bcc1-7b8731d3c733",
   "metadata": {},
   "outputs": [
    {
     "data": {
      "text/html": [
       "<div>\n",
       "<style scoped>\n",
       "    .dataframe tbody tr th:only-of-type {\n",
       "        vertical-align: middle;\n",
       "    }\n",
       "\n",
       "    .dataframe tbody tr th {\n",
       "        vertical-align: top;\n",
       "    }\n",
       "\n",
       "    .dataframe thead th {\n",
       "        text-align: right;\n",
       "    }\n",
       "</style>\n",
       "<table border=\"1\" class=\"dataframe\">\n",
       "  <thead>\n",
       "    <tr style=\"text-align: right;\">\n",
       "      <th></th>\n",
       "      <th>id</th>\n",
       "      <th>code</th>\n",
       "      <th>rules</th>\n",
       "      <th>difficulty</th>\n",
       "    </tr>\n",
       "  </thead>\n",
       "  <tbody>\n",
       "    <tr>\n",
       "      <th>0</th>\n",
       "      <td>1</td>\n",
       "      <td>000001</td>\n",
       "      <td>Ordnen Sie allen Buchstaben des Alphabets eine...</td>\n",
       "      <td>4</td>\n",
       "    </tr>\n",
       "    <tr>\n",
       "      <th>1</th>\n",
       "      <td>2</td>\n",
       "      <td>000002</td>\n",
       "      <td>Teile beide Diagramme in 12 unterschiedliche P...</td>\n",
       "      <td>2</td>\n",
       "    </tr>\n",
       "    <tr>\n",
       "      <th>5</th>\n",
       "      <td>6</td>\n",
       "      <td>00000A</td>\n",
       "      <td>Ordnen Sie allen Buchstaben des Alphabets eine...</td>\n",
       "      <td>4</td>\n",
       "    </tr>\n",
       "    <tr>\n",
       "      <th>12</th>\n",
       "      <td>13</td>\n",
       "      <td>00000N</td>\n",
       "      <td>Teile das L in 9 unterschiedliche Pentomino un...</td>\n",
       "      <td>2</td>\n",
       "    </tr>\n",
       "    <tr>\n",
       "      <th>13</th>\n",
       "      <td>14</td>\n",
       "      <td>00000O</td>\n",
       "      <td>Solve online inF-PuzzlesorCtC-app(thx Nick Smi...</td>\n",
       "      <td>4</td>\n",
       "    </tr>\n",
       "  </tbody>\n",
       "</table>\n",
       "</div>"
      ],
      "text/plain": [
       "    id    code                                              rules  difficulty\n",
       "0    1  000001  Ordnen Sie allen Buchstaben des Alphabets eine...           4\n",
       "1    2  000002  Teile beide Diagramme in 12 unterschiedliche P...           2\n",
       "5    6  00000A  Ordnen Sie allen Buchstaben des Alphabets eine...           4\n",
       "12  13  00000N  Teile das L in 9 unterschiedliche Pentomino un...           2\n",
       "13  14  00000O  Solve online inF-PuzzlesorCtC-app(thx Nick Smi...           4"
      ]
     },
     "execution_count": 12,
     "metadata": {},
     "output_type": "execute_result"
    }
   ],
   "source": [
    "df.head()"
   ]
  },
  {
   "cell_type": "code",
   "execution_count": 13,
   "id": "c10dc493-afb2-4027-9cbe-d7856c139ea9",
   "metadata": {},
   "outputs": [
    {
     "data": {
      "image/png": "[encoded data removed]",
      "text/plain": [
       "<Figure size 600x600 with 1 Axes>"
      ]
     },
     "metadata": {},
     "output_type": "display_data"
    }
   ],
   "source": [
    "display_data_imbalance(df)"
   ]
  },
  {
   "cell_type": "markdown",
   "id": "66690ca2-a1e2-4a21-91dd-19ca4d7b9468",
   "metadata": {},
   "source": [
    "## Taking 10000 instances from dataframe"
   ]
  },
  {
   "cell_type": "code",
   "execution_count": 19,
   "id": "677b38e8-d2a0-4c9a-aa06-52b496ce36e0",
   "metadata": {},
   "outputs": [
    {
     "name": "stdout",
     "output_type": "stream",
     "text": [
      "Number of instances in the DataFrame: 10000\n"
     ]
    }
   ],
   "source": [
    "df = df.tail(10000)\n",
    "\n",
    "print(\"Number of instances in the DataFrame:\", len(df))"
   ]
  },
  {
   "cell_type": "code",
   "execution_count": 20,
   "id": "563c7990-ef57-4e0a-a9e8-610ea8d7725d",
   "metadata": {},
   "outputs": [
    {
     "data": {
      "text/html": [
       "<div>\n",
       "<style scoped>\n",
       "    .dataframe tbody tr th:only-of-type {\n",
       "        vertical-align: middle;\n",
       "    }\n",
       "\n",
       "    .dataframe tbody tr th {\n",
       "        vertical-align: top;\n",
       "    }\n",
       "\n",
       "    .dataframe thead th {\n",
       "        text-align: right;\n",
       "    }\n",
       "</style>\n",
       "<table border=\"1\" class=\"dataframe\">\n",
       "  <thead>\n",
       "    <tr style=\"text-align: right;\">\n",
       "      <th></th>\n",
       "      <th>id</th>\n",
       "      <th>code</th>\n",
       "      <th>rules</th>\n",
       "      <th>difficulty</th>\n",
       "    </tr>\n",
       "  </thead>\n",
       "  <tbody>\n",
       "    <tr>\n",
       "      <th>3779</th>\n",
       "      <td>3780</td>\n",
       "      <td>0004O1</td>\n",
       "      <td>Solve on f-puzzles</td>\n",
       "      <td>4</td>\n",
       "    </tr>\n",
       "    <tr>\n",
       "      <th>3781</th>\n",
       "      <td>3782</td>\n",
       "      <td>0004O4</td>\n",
       "      <td>NikoliAuthor: 红葉 (MOMIJI), from China, this qu...</td>\n",
       "      <td>2</td>\n",
       "    </tr>\n",
       "    <tr>\n",
       "      <th>3782</th>\n",
       "      <td>3783</td>\n",
       "      <td>0004O5</td>\n",
       "      <td>Anti-knight arrow sudoku inspired byPhistomefe...</td>\n",
       "      <td>5</td>\n",
       "    </tr>\n",
       "    <tr>\n",
       "      <th>3783</th>\n",
       "      <td>3784</td>\n",
       "      <td>0004O6</td>\n",
       "      <td>1. Normal Sudoku rules apply.2. Killer Cag...</td>\n",
       "      <td>3</td>\n",
       "    </tr>\n",
       "    <tr>\n",
       "      <th>3789</th>\n",
       "      <td>3790</td>\n",
       "      <td>0004OH</td>\n",
       "      <td>Additional KNOWLEDGE to solve this puzzle is t...</td>\n",
       "      <td>4</td>\n",
       "    </tr>\n",
       "  </tbody>\n",
       "</table>\n",
       "</div>"
      ],
      "text/plain": [
       "        id    code                                              rules  \\\n",
       "3779  3780  0004O1                                 Solve on f-puzzles   \n",
       "3781  3782  0004O4  NikoliAuthor: 红葉 (MOMIJI), from China, this qu...   \n",
       "3782  3783  0004O5  Anti-knight arrow sudoku inspired byPhistomefe...   \n",
       "3783  3784  0004O6      1. Normal Sudoku rules apply.2. Killer Cag...   \n",
       "3789  3790  0004OH  Additional KNOWLEDGE to solve this puzzle is t...   \n",
       "\n",
       "      difficulty  \n",
       "3779           4  \n",
       "3781           2  \n",
       "3782           5  \n",
       "3783           3  \n",
       "3789           4  "
      ]
     },
     "execution_count": 20,
     "metadata": {},
     "output_type": "execute_result"
    }
   ],
   "source": [
    "df.head()"
   ]
  },
  {
   "cell_type": "code",
   "execution_count": 21,
   "id": "5359921a-53de-4c57-a151-b4e21757969e",
   "metadata": {},
   "outputs": [
    {
     "data": {
      "image/png": "[encoded data removed]",
      "text/plain": [
       "<Figure size 600x600 with 1 Axes>"
      ]
     },
     "metadata": {},
     "output_type": "display_data"
    }
   ],
   "source": [
    "display_data_imbalance(df)"
   ]
  },
  {
   "cell_type": "markdown",
   "id": "1bb4edc6-5596-4c59-9683-868936792494",
   "metadata": {},
   "source": [
    "## Remove non-ASCII"
   ]
  },
  {
   "cell_type": "code",
   "execution_count": 24,
   "id": "194bd30d-0908-4ba6-b3d2-d9c38168548a",
   "metadata": {},
   "outputs": [],
   "source": [
    "import re"
   ]
  },
  {
   "cell_type": "code",
   "execution_count": 25,
   "id": "9aa6d9e9-654b-43ca-8c31-e8f6cdbd0727",
   "metadata": {},
   "outputs": [],
   "source": [
    "def remove_non_ascii(text):\n",
    "    # Remove non-ASCII characters\n",
    "    text = re.sub(r'[^\\x00-\\x7F]+', '', text)\n",
    "    \n",
    "    # Remove non-English characters (retain only letters, numbers, and common punctuation)\n",
    "    text = re.sub(r'[^A-Za-z0-9\\s.,?!\\'\\\"-]+', '', text)\n",
    "    \n",
    "    # Remove additional unwanted characters like newlines, tabs, etc.\n",
    "    text = re.sub(r'[\\n\\r\\t]+', ' ', text)\n",
    "\n",
    "    text = text.strip()\n",
    "    \n",
    "    return text"
   ]
  },
  {
   "cell_type": "code",
   "execution_count": 26,
   "id": "96fb8aa6-45ec-450c-8ef5-6442a0467305",
   "metadata": {},
   "outputs": [
    {
     "name": "stdout",
     "output_type": "stream",
     "text": [
      "Number of instances in the DataFrame: 10000\n"
     ]
    }
   ],
   "source": [
    "df['rules'] = df['rules'].apply(lambda x: remove_non_ascii(x) if isinstance(x, str) else x)\n",
    "\n",
    "print(\"Number of instances in the DataFrame:\", len(df))"
   ]
  },
  {
   "cell_type": "code",
   "execution_count": 27,
   "id": "cd1ed738-7c91-4474-b439-a13c4369266b",
   "metadata": {},
   "outputs": [
    {
     "data": {
      "text/html": [
       "<div>\n",
       "<style scoped>\n",
       "    .dataframe tbody tr th:only-of-type {\n",
       "        vertical-align: middle;\n",
       "    }\n",
       "\n",
       "    .dataframe tbody tr th {\n",
       "        vertical-align: top;\n",
       "    }\n",
       "\n",
       "    .dataframe thead th {\n",
       "        text-align: right;\n",
       "    }\n",
       "</style>\n",
       "<table border=\"1\" class=\"dataframe\">\n",
       "  <thead>\n",
       "    <tr style=\"text-align: right;\">\n",
       "      <th></th>\n",
       "      <th>id</th>\n",
       "      <th>code</th>\n",
       "      <th>rules</th>\n",
       "      <th>difficulty</th>\n",
       "    </tr>\n",
       "  </thead>\n",
       "  <tbody>\n",
       "    <tr>\n",
       "      <th>3779</th>\n",
       "      <td>3780</td>\n",
       "      <td>0004O1</td>\n",
       "      <td>Solve on f-puzzles</td>\n",
       "      <td>4</td>\n",
       "    </tr>\n",
       "    <tr>\n",
       "      <th>3781</th>\n",
       "      <td>3782</td>\n",
       "      <td>0004O4</td>\n",
       "      <td>NikoliAuthor  MOMIJI, from China, this questio...</td>\n",
       "      <td>2</td>\n",
       "    </tr>\n",
       "    <tr>\n",
       "      <th>3782</th>\n",
       "      <td>3783</td>\n",
       "      <td>0004O5</td>\n",
       "      <td>Anti-knight arrow sudoku inspired byPhistomefe...</td>\n",
       "      <td>5</td>\n",
       "    </tr>\n",
       "    <tr>\n",
       "      <th>3783</th>\n",
       "      <td>3784</td>\n",
       "      <td>0004O6</td>\n",
       "      <td>1. Normal Sudoku rules apply.2. Killer Cages -...</td>\n",
       "      <td>3</td>\n",
       "    </tr>\n",
       "    <tr>\n",
       "      <th>3789</th>\n",
       "      <td>3790</td>\n",
       "      <td>0004OH</td>\n",
       "      <td>Additional KNOWLEDGE to solve this puzzle is t...</td>\n",
       "      <td>4</td>\n",
       "    </tr>\n",
       "  </tbody>\n",
       "</table>\n",
       "</div>"
      ],
      "text/plain": [
       "        id    code                                              rules  \\\n",
       "3779  3780  0004O1                                 Solve on f-puzzles   \n",
       "3781  3782  0004O4  NikoliAuthor  MOMIJI, from China, this questio...   \n",
       "3782  3783  0004O5  Anti-knight arrow sudoku inspired byPhistomefe...   \n",
       "3783  3784  0004O6  1. Normal Sudoku rules apply.2. Killer Cages -...   \n",
       "3789  3790  0004OH  Additional KNOWLEDGE to solve this puzzle is t...   \n",
       "\n",
       "      difficulty  \n",
       "3779           4  \n",
       "3781           2  \n",
       "3782           5  \n",
       "3783           3  \n",
       "3789           4  "
      ]
     },
     "execution_count": 27,
     "metadata": {},
     "output_type": "execute_result"
    }
   ],
   "source": [
    "df.head()"
   ]
  },
  {
   "cell_type": "markdown",
   "id": "5408343b-0da2-4b24-a216-80d539fee085",
   "metadata": {},
   "source": [
    "## Remove stopwords"
   ]
  },
  {
   "cell_type": "code",
   "execution_count": 29,
   "id": "6ad124c9-5603-4645-b798-2bac59eb5f80",
   "metadata": {},
   "outputs": [
    {
     "name": "stderr",
     "output_type": "stream",
     "text": [
      "[nltk_data] Downloading package stopwords to\n",
      "[nltk_data]     /home/lewelotki/nltk_data...\n",
      "[nltk_data]   Package stopwords is already up-to-date!\n"
     ]
    }
   ],
   "source": [
    "import nltk\n",
    "nltk.download('stopwords')\n",
    "\n",
    "from nltk.corpus import stopwords"
   ]
  },
  {
   "cell_type": "code",
   "execution_count": 30,
   "id": "715e8e4a-71b4-4aed-83d7-54ccf39db927",
   "metadata": {},
   "outputs": [],
   "source": [
    "stop_words = set(stopwords.words('english'))"
   ]
  },
  {
   "cell_type": "code",
   "execution_count": 31,
   "id": "544fdaac-ff92-4256-b5de-434b4ba97ba4",
   "metadata": {},
   "outputs": [],
   "source": [
    "def remove_stopwords(text):\n",
    "    \n",
    "    text = text.lower()\n",
    "    \n",
    "    text = re.sub(r'\\b\\w{1}\\b', '', text) \n",
    "    \n",
    "    cleaned_words = [word for word in text.split() if word not in stop_words]\n",
    "    cleaned_text = ' '.join(cleaned_words)\n",
    "    \n",
    "    return cleaned_text"
   ]
  },
  {
   "cell_type": "code",
   "execution_count": 32,
   "id": "4842155e-8de7-4c39-8415-afd928ae7da3",
   "metadata": {},
   "outputs": [
    {
     "data": {
      "text/html": [
       "<div>\n",
       "<style scoped>\n",
       "    .dataframe tbody tr th:only-of-type {\n",
       "        vertical-align: middle;\n",
       "    }\n",
       "\n",
       "    .dataframe tbody tr th {\n",
       "        vertical-align: top;\n",
       "    }\n",
       "\n",
       "    .dataframe thead th {\n",
       "        text-align: right;\n",
       "    }\n",
       "</style>\n",
       "<table border=\"1\" class=\"dataframe\">\n",
       "  <thead>\n",
       "    <tr style=\"text-align: right;\">\n",
       "      <th></th>\n",
       "      <th>id</th>\n",
       "      <th>code</th>\n",
       "      <th>rules</th>\n",
       "      <th>difficulty</th>\n",
       "    </tr>\n",
       "  </thead>\n",
       "  <tbody>\n",
       "    <tr>\n",
       "      <th>3779</th>\n",
       "      <td>3780</td>\n",
       "      <td>0004O1</td>\n",
       "      <td>solve -puzzles</td>\n",
       "      <td>4</td>\n",
       "    </tr>\n",
       "    <tr>\n",
       "      <th>3781</th>\n",
       "      <td>3782</td>\n",
       "      <td>0004O4</td>\n",
       "      <td>nikoliauthor momiji, china, question comes per...</td>\n",
       "      <td>2</td>\n",
       "    </tr>\n",
       "    <tr>\n",
       "      <th>3782</th>\n",
       "      <td>3783</td>\n",
       "      <td>0004O5</td>\n",
       "      <td>anti-knight arrow sudoku inspired byphistomefe...</td>\n",
       "      <td>5</td>\n",
       "    </tr>\n",
       "    <tr>\n",
       "      <th>3783</th>\n",
       "      <td>3784</td>\n",
       "      <td>0004O6</td>\n",
       "      <td>. normal sudoku rules apply.. killer cages - c...</td>\n",
       "      <td>3</td>\n",
       "    </tr>\n",
       "    <tr>\n",
       "      <th>3789</th>\n",
       "      <td>3790</td>\n",
       "      <td>0004OH</td>\n",
       "      <td>additional knowledge solve puzzle determinant ...</td>\n",
       "      <td>4</td>\n",
       "    </tr>\n",
       "  </tbody>\n",
       "</table>\n",
       "</div>"
      ],
      "text/plain": [
       "        id    code                                              rules  \\\n",
       "3779  3780  0004O1                                     solve -puzzles   \n",
       "3781  3782  0004O4  nikoliauthor momiji, china, question comes per...   \n",
       "3782  3783  0004O5  anti-knight arrow sudoku inspired byphistomefe...   \n",
       "3783  3784  0004O6  . normal sudoku rules apply.. killer cages - c...   \n",
       "3789  3790  0004OH  additional knowledge solve puzzle determinant ...   \n",
       "\n",
       "      difficulty  \n",
       "3779           4  \n",
       "3781           2  \n",
       "3782           5  \n",
       "3783           3  \n",
       "3789           4  "
      ]
     },
     "execution_count": 32,
     "metadata": {},
     "output_type": "execute_result"
    }
   ],
   "source": [
    "df['rules'] = df['rules'].apply(lambda x: remove_stopwords(x) if isinstance(x, str) else x)\n",
    "df.head()"
   ]
  },
  {
   "cell_type": "markdown",
   "id": "7d21dd4b-cdb1-4600-88ba-11698e91defe",
   "metadata": {},
   "source": [
    "## Remove punctuation"
   ]
  },
  {
   "cell_type": "code",
   "execution_count": 33,
   "id": "0ac8a406-fd5f-4f7c-9a12-a33136d69a01",
   "metadata": {},
   "outputs": [],
   "source": [
    "import string"
   ]
  },
  {
   "cell_type": "code",
   "execution_count": 34,
   "id": "2de7fa6a-ff31-43cd-bde0-ff6bf8941ae6",
   "metadata": {},
   "outputs": [],
   "source": [
    "def remove_punctuation(text):\n",
    "    text = re.sub(f'[{re.escape(string.punctuation)}]', '', text)\n",
    "    return text"
   ]
  },
  {
   "cell_type": "code",
   "execution_count": 35,
   "id": "4157a099-b67c-4629-b4ef-6253fd73e22b",
   "metadata": {},
   "outputs": [
    {
     "data": {
      "text/html": [
       "<div>\n",
       "<style scoped>\n",
       "    .dataframe tbody tr th:only-of-type {\n",
       "        vertical-align: middle;\n",
       "    }\n",
       "\n",
       "    .dataframe tbody tr th {\n",
       "        vertical-align: top;\n",
       "    }\n",
       "\n",
       "    .dataframe thead th {\n",
       "        text-align: right;\n",
       "    }\n",
       "</style>\n",
       "<table border=\"1\" class=\"dataframe\">\n",
       "  <thead>\n",
       "    <tr style=\"text-align: right;\">\n",
       "      <th></th>\n",
       "      <th>id</th>\n",
       "      <th>code</th>\n",
       "      <th>rules</th>\n",
       "      <th>difficulty</th>\n",
       "    </tr>\n",
       "  </thead>\n",
       "  <tbody>\n",
       "    <tr>\n",
       "      <th>3779</th>\n",
       "      <td>3780</td>\n",
       "      <td>0004O1</td>\n",
       "      <td>solve puzzles</td>\n",
       "      <td>4</td>\n",
       "    </tr>\n",
       "    <tr>\n",
       "      <th>3781</th>\n",
       "      <td>3782</td>\n",
       "      <td>0004O4</td>\n",
       "      <td>nikoliauthor momiji china question comes perso...</td>\n",
       "      <td>2</td>\n",
       "    </tr>\n",
       "    <tr>\n",
       "      <th>3782</th>\n",
       "      <td>3783</td>\n",
       "      <td>0004O5</td>\n",
       "      <td>antiknight arrow sudoku inspired byphistomefel...</td>\n",
       "      <td>5</td>\n",
       "    </tr>\n",
       "    <tr>\n",
       "      <th>3783</th>\n",
       "      <td>3784</td>\n",
       "      <td>0004O6</td>\n",
       "      <td>normal sudoku rules apply killer cages  cages...</td>\n",
       "      <td>3</td>\n",
       "    </tr>\n",
       "    <tr>\n",
       "      <th>3789</th>\n",
       "      <td>3790</td>\n",
       "      <td>0004OH</td>\n",
       "      <td>additional knowledge solve puzzle determinant ...</td>\n",
       "      <td>4</td>\n",
       "    </tr>\n",
       "  </tbody>\n",
       "</table>\n",
       "</div>"
      ],
      "text/plain": [
       "        id    code                                              rules  \\\n",
       "3779  3780  0004O1                                      solve puzzles   \n",
       "3781  3782  0004O4  nikoliauthor momiji china question comes perso...   \n",
       "3782  3783  0004O5  antiknight arrow sudoku inspired byphistomefel...   \n",
       "3783  3784  0004O6   normal sudoku rules apply killer cages  cages...   \n",
       "3789  3790  0004OH  additional knowledge solve puzzle determinant ...   \n",
       "\n",
       "      difficulty  \n",
       "3779           4  \n",
       "3781           2  \n",
       "3782           5  \n",
       "3783           3  \n",
       "3789           4  "
      ]
     },
     "execution_count": 35,
     "metadata": {},
     "output_type": "execute_result"
    }
   ],
   "source": [
    "df['rules'] = df['rules'].apply(lambda x: remove_punctuation(x) if isinstance(x, str) else x)\n",
    "df.head()"
   ]
  },
  {
   "cell_type": "markdown",
   "id": "38911506-40b3-4617-96c4-2b9cd3e53544",
   "metadata": {},
   "source": [
    "## Lemmatization and tokenization"
   ]
  },
  {
   "cell_type": "code",
   "execution_count": 36,
   "id": "1f144e9a-893d-4702-890d-905a327a0abc",
   "metadata": {},
   "outputs": [],
   "source": [
    "from nltk.tokenize import word_tokenize\n",
    "from nltk.stem import WordNetLemmatizer"
   ]
  },
  {
   "cell_type": "code",
   "execution_count": 37,
   "id": "98a460a4-fa70-41cf-9551-bb774279289a",
   "metadata": {},
   "outputs": [
    {
     "name": "stderr",
     "output_type": "stream",
     "text": [
      "[nltk_data] Downloading package punkt to /home/lewelotki/nltk_data...\n",
      "[nltk_data]   Unzipping tokenizers/punkt.zip.\n",
      "[nltk_data] Downloading package wordnet to\n",
      "[nltk_data]     /home/lewelotki/nltk_data...\n",
      "[nltk_data] Downloading package omw-1.4 to\n",
      "[nltk_data]     /home/lewelotki/nltk_data...\n"
     ]
    },
    {
     "data": {
      "text/plain": [
       "True"
      ]
     },
     "execution_count": 37,
     "metadata": {},
     "output_type": "execute_result"
    }
   ],
   "source": [
    "nltk.download('punkt')\n",
    "nltk.download('wordnet')\n",
    "nltk.download('omw-1.4')"
   ]
  },
  {
   "cell_type": "code",
   "execution_count": 38,
   "id": "ca5615fa-1dde-420d-a588-aa8a47dbf4aa",
   "metadata": {},
   "outputs": [],
   "source": [
    "lemmatizer = WordNetLemmatizer()"
   ]
  },
  {
   "cell_type": "code",
   "execution_count": 39,
   "id": "81833cf8-056c-40cf-ad43-a4add9658a1c",
   "metadata": {},
   "outputs": [],
   "source": [
    "def tokenize_and_lemmatize(text):\n",
    "    \n",
    "    tokens = word_tokenize(text)\n",
    "    lemmatized_tokens = [lemmatizer.lemmatize(token) for token in tokens]\n",
    "    \n",
    "    return lemmatized_tokens"
   ]
  },
  {
   "cell_type": "code",
   "execution_count": 44,
   "id": "fcf2d1b3-8485-4594-b781-0b1a65951ded",
   "metadata": {},
   "outputs": [
    {
     "data": {
      "text/html": [
       "<div>\n",
       "<style scoped>\n",
       "    .dataframe tbody tr th:only-of-type {\n",
       "        vertical-align: middle;\n",
       "    }\n",
       "\n",
       "    .dataframe tbody tr th {\n",
       "        vertical-align: top;\n",
       "    }\n",
       "\n",
       "    .dataframe thead th {\n",
       "        text-align: right;\n",
       "    }\n",
       "</style>\n",
       "<table border=\"1\" class=\"dataframe\">\n",
       "  <thead>\n",
       "    <tr style=\"text-align: right;\">\n",
       "      <th></th>\n",
       "      <th>id</th>\n",
       "      <th>code</th>\n",
       "      <th>rules</th>\n",
       "      <th>difficulty</th>\n",
       "    </tr>\n",
       "  </thead>\n",
       "  <tbody>\n",
       "    <tr>\n",
       "      <th>3779</th>\n",
       "      <td>3780</td>\n",
       "      <td>0004O1</td>\n",
       "      <td>solve puzzle</td>\n",
       "      <td>4</td>\n",
       "    </tr>\n",
       "    <tr>\n",
       "      <th>3781</th>\n",
       "      <td>3782</td>\n",
       "      <td>0004O4</td>\n",
       "      <td>nikoliauthor momiji china question come person...</td>\n",
       "      <td>2</td>\n",
       "    </tr>\n",
       "    <tr>\n",
       "      <th>3782</th>\n",
       "      <td>3783</td>\n",
       "      <td>0004O5</td>\n",
       "      <td>antiknight arrow sudoku inspired byphistomefel...</td>\n",
       "      <td>5</td>\n",
       "    </tr>\n",
       "    <tr>\n",
       "      <th>3783</th>\n",
       "      <td>3784</td>\n",
       "      <td>0004O6</td>\n",
       "      <td>normal sudoku rule apply killer cage cage must...</td>\n",
       "      <td>3</td>\n",
       "    </tr>\n",
       "    <tr>\n",
       "      <th>3789</th>\n",
       "      <td>3790</td>\n",
       "      <td>0004OH</td>\n",
       "      <td>additional knowledge solve puzzle determinant ...</td>\n",
       "      <td>4</td>\n",
       "    </tr>\n",
       "  </tbody>\n",
       "</table>\n",
       "</div>"
      ],
      "text/plain": [
       "        id    code                                              rules  \\\n",
       "3779  3780  0004O1                                       solve puzzle   \n",
       "3781  3782  0004O4  nikoliauthor momiji china question come person...   \n",
       "3782  3783  0004O5  antiknight arrow sudoku inspired byphistomefel...   \n",
       "3783  3784  0004O6  normal sudoku rule apply killer cage cage must...   \n",
       "3789  3790  0004OH  additional knowledge solve puzzle determinant ...   \n",
       "\n",
       "      difficulty  \n",
       "3779           4  \n",
       "3781           2  \n",
       "3782           5  \n",
       "3783           3  \n",
       "3789           4  "
      ]
     },
     "execution_count": 44,
     "metadata": {},
     "output_type": "execute_result"
    }
   ],
   "source": [
    "df['tokens'] = df['rules'].apply(lambda x: tokenize_and_lemmatize(x) if isinstance(x, str) else x)\n",
    "df['rules'] = df['tokens'].apply(lambda x: ' '.join(x) if isinstance(x, list) else x)\n",
    "df = df.drop('tokens', axis=1)\n",
    "df.head()"
   ]
  },
  {
   "cell_type": "markdown",
   "id": "dddb5d3c-bbce-4bf0-a64c-8c83f217db9b",
   "metadata": {},
   "source": [
    "## Saving raw data"
   ]
  },
  {
   "cell_type": "code",
   "execution_count": 45,
   "id": "0c472985-f7be-45f9-80dc-6517b18490b5",
   "metadata": {},
   "outputs": [],
   "source": [
    "import os"
   ]
  },
  {
   "cell_type": "code",
   "execution_count": 46,
   "id": "3bc75727-0ac9-4fe7-bc23-5ecc73c4e5c2",
   "metadata": {},
   "outputs": [],
   "source": [
    "df_to_save = df[['rules', 'difficulty']].rename(columns={'rules': 'features', 'difficulty': 'label'})"
   ]
  },
  {
   "cell_type": "code",
   "execution_count": 48,
   "id": "d0f4f400-11ba-484f-80b0-3328e22d7522",
   "metadata": {},
   "outputs": [],
   "source": [
    "output_dir = '../data'\n",
    "os.makedirs(output_dir, exist_ok=True)"
   ]
  },
  {
   "cell_type": "code",
   "execution_count": 49,
   "id": "10bd5279-7300-4165-86d2-21f607be2eb4",
   "metadata": {},
   "outputs": [
    {
     "name": "stdout",
     "output_type": "stream",
     "text": [
      "Data has been saved to ../data/data_raw.csv\n"
     ]
    }
   ],
   "source": [
    "output_path = os.path.join(output_dir, 'data_raw.csv')\n",
    "df_to_save.to_csv(output_path, index=False)\n",
    "\n",
    "print(f\"Data has been saved to {output_path}\")"
   ]
  }
 ],
 "metadata": {
  "kernelspec": {
   "display_name": "Python 3 (ipykernel)",
   "language": "python",
   "name": "python3"
  },
  "language_info": {
   "codemirror_mode": {
    "name": "ipython",
    "version": 3
   },
   "file_extension": ".py",
   "mimetype": "text/x-python",
   "name": "python",
   "nbconvert_exporter": "python",
   "pygments_lexer": "ipython3",
   "version": "3.10.12"
  }
 },
 "nbformat": 4,
 "nbformat_minor": 5
}
